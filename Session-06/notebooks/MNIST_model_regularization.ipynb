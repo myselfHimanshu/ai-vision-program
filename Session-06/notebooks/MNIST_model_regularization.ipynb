{
  "nbformat": 4,
  "nbformat_minor": 0,
  "metadata": {
    "colab": {
      "name": "MNIST_model_03.ipynb",
      "provenance": [],
      "collapsed_sections": []
    },
    "kernelspec": {
      "name": "python3",
      "display_name": "Python 3"
    },
    "accelerator": "GPU"
  },
  "cells": [
    {
      "cell_type": "markdown",
      "metadata": {
        "id": "Q1TXNOvQ9Kaf",
        "colab_type": "text"
      },
      "source": [
        "# MNIST CNN model\n",
        "\n",
        "- run your model for 25 epochs for each:\n",
        "- without L1/L2 with BN\n",
        "- without L1/L2 with GBN\n",
        "- with L1 with BN\n",
        "- with L1 with GBN\n",
        "- with L2 with BN\n",
        "- with L2 with GBN\n",
        "- with L1 and L2 with BN\n",
        "- with L1 and L2 with GBN"
      ]
    },
    {
      "cell_type": "markdown",
      "metadata": {
        "id": "fLnLq_nOUee6",
        "colab_type": "text"
      },
      "source": [
        "## Connecting drive"
      ]
    },
    {
      "cell_type": "code",
      "metadata": {
        "id": "aAq7Lvqqs4F5",
        "colab_type": "code",
        "outputId": "3deac453-28e2-4d31-bb50-4d06def23c07",
        "colab": {
          "base_uri": "https://localhost:8080/",
          "height": 52
        }
      },
      "source": [
        "from google.colab import drive\n",
        "drive.mount('/content/drive')\n",
        "!ls"
      ],
      "execution_count": 1,
      "outputs": [
        {
          "output_type": "stream",
          "text": [
            "Drive already mounted at /content/drive; to attempt to forcibly remount, call drive.mount(\"/content/drive\", force_remount=True).\n",
            "drive  sample_data\n"
          ],
          "name": "stdout"
        }
      ]
    },
    {
      "cell_type": "code",
      "metadata": {
        "id": "ZbEOo8icuGUh",
        "colab_type": "code",
        "colab": {}
      },
      "source": [
        "import os\n",
        "os.chdir(\"./drive/My Drive/EVA/Session05\")"
      ],
      "execution_count": 0,
      "outputs": []
    },
    {
      "cell_type": "markdown",
      "metadata": {
        "id": "7OTkpFgt9W06",
        "colab_type": "text"
      },
      "source": [
        "## Importing Libraries"
      ]
    },
    {
      "cell_type": "code",
      "metadata": {
        "id": "0m2JWFliFfKT",
        "colab_type": "code",
        "colab": {}
      },
      "source": [
        "from __future__ import print_function\n",
        "import torch\n",
        "import torch.nn as nn\n",
        "import torch.nn.functional as F\n",
        "import torch.optim as optim\n",
        "from torch.optim.lr_scheduler import StepLR\n",
        "\n",
        "from torchvision import datasets, transforms\n",
        "\n",
        "from torchsummary import summary\n",
        "from tqdm import tqdm\n",
        "from torch.utils.tensorboard import SummaryWriter\n",
        "\n",
        "\n",
        "import numpy as np\n",
        "import matplotlib.pyplot as plt\n",
        "plt.rcParams['figure.figsize'] = (10,5)"
      ],
      "execution_count": 0,
      "outputs": []
    },
    {
      "cell_type": "markdown",
      "metadata": {
        "id": "RcV-OkCe9lP4",
        "colab_type": "text"
      },
      "source": [
        "## GPU for training"
      ]
    },
    {
      "cell_type": "code",
      "metadata": {
        "id": "50sHOdY39nRz",
        "colab_type": "code",
        "outputId": "7831874f-4444-485c-ad5f-d51ed127a0d6",
        "colab": {
          "base_uri": "https://localhost:8080/",
          "height": 34
        }
      },
      "source": [
        "import tensorflow as tf\n",
        "\n",
        "device_name = tf.test.gpu_device_name()\n",
        "\n",
        "try:\n",
        "  print(f\"Found GPU at : {device_name}\")\n",
        "except:\n",
        "  print(\"GPU device not found.\")"
      ],
      "execution_count": 4,
      "outputs": [
        {
          "output_type": "stream",
          "text": [
            "Found GPU at : /device:GPU:0\n"
          ],
          "name": "stdout"
        }
      ]
    },
    {
      "cell_type": "code",
      "metadata": {
        "id": "v9GmRJ0a9osJ",
        "colab_type": "code",
        "outputId": "f90704f7-3478-4714-ea64-a65abf9d8ba9",
        "colab": {
          "base_uri": "https://localhost:8080/",
          "height": 52
        }
      },
      "source": [
        "import torch\n",
        "\n",
        "if torch.cuda.is_available():\n",
        "  device = torch.device(\"cuda\")\n",
        "  use_cuda = True\n",
        "  print(f\"Number of GPU's available : {torch.cuda.device_count()}\")\n",
        "  print(f\"GPU device name : {torch.cuda.get_device_name(0)}\")\n",
        "else:\n",
        "  print(\"No GPU available, using CPU instead\")\n",
        "  device = torch.device(\"cpu\")\n",
        "  use_cuda = False"
      ],
      "execution_count": 5,
      "outputs": [
        {
          "output_type": "stream",
          "text": [
            "Number of GPU's available : 1\n",
            "GPU device name : Tesla P100-PCIE-16GB\n"
          ],
          "name": "stdout"
        }
      ]
    },
    {
      "cell_type": "code",
      "metadata": {
        "id": "4qulQMZGNMhW",
        "colab_type": "code",
        "outputId": "eef1cceb-e56d-4730-b987-ee6ddd182f77",
        "colab": {
          "base_uri": "https://localhost:8080/",
          "height": 34
        }
      },
      "source": [
        "SEED = 1\n",
        "torch.manual_seed(SEED)"
      ],
      "execution_count": 6,
      "outputs": [
        {
          "output_type": "execute_result",
          "data": {
            "text/plain": [
              "<torch._C.Generator at 0x7f061d501570>"
            ]
          },
          "metadata": {
            "tags": []
          },
          "execution_count": 6
        }
      ]
    },
    {
      "cell_type": "markdown",
      "metadata": {
        "id": "JpEC4MgiYTl-",
        "colab_type": "text"
      },
      "source": [
        "## Data Transformation"
      ]
    },
    {
      "cell_type": "code",
      "metadata": {
        "id": "6sSd-XajYS_W",
        "colab_type": "code",
        "colab": {}
      },
      "source": [
        "#training data transformation\n",
        "\n",
        "train_transforms = transforms.Compose([\n",
        "                                       #transforms.ColorJitter(brightness=0.10, contrast=0.1, saturation=0.10, hue=0.1),\n",
        "                                       #transforms.RandomRotation((-6,6), fill=(1,)),\n",
        "                                       #transforms.RandomAffine(degrees=0, translate=(0.2,0.2)),\n",
        "                                       transforms.ToTensor(),\n",
        "                                       transforms.Normalize((0.1307,),(0.3081,))\n",
        "])\n",
        "\n",
        "test_transforms = transforms.Compose([\n",
        "                                       transforms.ToTensor(),\n",
        "                                       transforms.Normalize((0.1307,),(0.3081,)),\n",
        "])\n"
      ],
      "execution_count": 0,
      "outputs": []
    },
    {
      "cell_type": "markdown",
      "metadata": {
        "id": "MHNNLPIB9wbU",
        "colab_type": "text"
      },
      "source": [
        "## Downloading MNIST dataset with applied transformation\n",
        "\n",
        "Things to keep in mind, \n",
        "- the dataset is provided by pytorch community.\n",
        "- MNIST dataset contains: \n",
        "  - 60,000 training images\n",
        "  - 10,000 test images \n",
        "  - Each image is of size (28x28x1).\n",
        "- The values 0.1307 and 0.3081 used for the Normalize() transformation below are the global mean and standard deviation for MNIST dataset."
      ]
    },
    {
      "cell_type": "markdown",
      "metadata": {
        "id": "yogsTcvQZlL_",
        "colab_type": "text"
      },
      "source": [
        "## Train and Test Dataloader "
      ]
    },
    {
      "cell_type": "code",
      "metadata": {
        "id": "k8G6NAsChw6M",
        "colab_type": "code",
        "colab": {}
      },
      "source": [
        "kwargs = {'num_workers': 4, 'pin_memory': True} if use_cuda else {}"
      ],
      "execution_count": 0,
      "outputs": []
    },
    {
      "cell_type": "code",
      "metadata": {
        "id": "EW3MUGF--hgi",
        "colab_type": "code",
        "colab": {}
      },
      "source": [
        "class Dataset:\n",
        "  def __init__(self, batch_size):\n",
        "    self.mnist_trainset = datasets.MNIST(root=\"./data\", train=True, download=True,\n",
        "                                transform=train_transforms)\n",
        "\n",
        "    self.mnist_testset = datasets.MNIST(root=\"./data\", train=False, download=True,\n",
        "                               transform=test_transforms)\n",
        "    \n",
        "    self.batch_size = batch_size\n",
        "    \n",
        "  def get_train_loader(self):\n",
        "    train_loader = torch.utils.data.DataLoader(self.mnist_trainset,\n",
        "                                          batch_size=self.batch_size, shuffle=True, **kwargs)\n",
        "    \n",
        "    return train_loader\n",
        "    \n",
        "  def get_test_loader(self):\n",
        "    test_loader = torch.utils.data.DataLoader(self.mnist_testset,\n",
        "                                          batch_size=self.batch_size, shuffle=True, **kwargs)\n",
        "    \n",
        "    return test_loader\n",
        "    "
      ],
      "execution_count": 0,
      "outputs": []
    },
    {
      "cell_type": "markdown",
      "metadata": {
        "id": "IjXRQ52I-17Z",
        "colab_type": "text"
      },
      "source": [
        "## Visualization of images"
      ]
    },
    {
      "cell_type": "code",
      "metadata": {
        "id": "NB81qRMu-6vr",
        "colab_type": "code",
        "colab": {}
      },
      "source": [
        "data = Dataset(64)\n",
        "examples = iter(data.get_train_loader())\n",
        "example_data, example_targets = examples.next()"
      ],
      "execution_count": 0,
      "outputs": []
    },
    {
      "cell_type": "code",
      "metadata": {
        "id": "8M2XDWfz-76k",
        "colab_type": "code",
        "outputId": "03fe9c1b-f524-4fd7-cf47-9a8d90daff7d",
        "colab": {
          "base_uri": "https://localhost:8080/",
          "height": 303
        }
      },
      "source": [
        "fig = plt.figure()\n",
        "for i in range(60):\n",
        "  plt.subplot(10,6,i+1)\n",
        "  plt.axis('off')\n",
        "  plt.imshow(example_data[i][0].numpy().squeeze(), cmap='gray_r')"
      ],
      "execution_count": 11,
      "outputs": [
        {
          "output_type": "display_data",
          "data": {
            "image/png": "[encoded data removed]",
            "text/plain": [
              "<Figure size 720x360 with 60 Axes>"
            ]
          },
          "metadata": {
            "tags": [],
            "needs_background": "light"
          }
        }
      ]
    },
    {
      "cell_type": "markdown",
      "metadata": {
        "id": "KIsxjleoivtO",
        "colab_type": "text"
      },
      "source": [
        "## Building the model"
      ]
    },
    {
      "cell_type": "markdown",
      "metadata": {
        "id": "772WIr2_iBUD",
        "colab_type": "text"
      },
      "source": [
        "### Util function"
      ]
    },
    {
      "cell_type": "code",
      "metadata": {
        "id": "75Ea0qZK1L6a",
        "colab_type": "code",
        "colab": {}
      },
      "source": [
        "#define batch normalization\n",
        "class BatchNorm(nn.BatchNorm2d):\n",
        "    def __init__(self, num_features, eps=1e-05, momentum=0.1, weight=True, bias=True):\n",
        "        super().__init__(num_features, eps=eps, momentum=momentum)\n",
        "        self.weight.data.fill_(1.0)\n",
        "        self.bias.data.fill_(0.0)\n",
        "        self.weight.requires_grad = weight\n",
        "        self.bias.requires_grad = bias\n",
        "        \n",
        "\n",
        "#define ghost batch Normalization\n",
        "class GhostBatchNorm(BatchNorm):\n",
        "    def __init__(self, num_features, num_splits=1, **kw):\n",
        "        super().__init__(num_features, **kw)\n",
        "        self.num_splits = num_splits\n",
        "        self.register_buffer('running_mean', torch.zeros(num_features * self.num_splits))\n",
        "        self.register_buffer('running_var', torch.ones(num_features * self.num_splits))\n",
        "\n",
        "    def train(self, mode=True):\n",
        "        if (self.training is True) and (mode is False):  # lazily collate stats when we are going to use them\n",
        "            self.running_mean = torch.mean(self.running_mean.view(self.num_splits, self.num_features), dim=0).repeat(\n",
        "                self.num_splits)\n",
        "            self.running_var = torch.mean(self.running_var.view(self.num_splits, self.num_features), dim=0).repeat(\n",
        "                self.num_splits)\n",
        "        return super().train(mode)\n",
        "\n",
        "    def forward(self, input):\n",
        "        N, C, H, W = input.shape\n",
        "        if self.training or not self.track_running_stats:\n",
        "            return F.batch_norm(\n",
        "                input.view(-1, C * self.num_splits, H, W), self.running_mean, self.running_var,\n",
        "                self.weight.repeat(self.num_splits), self.bias.repeat(self.num_splits),\n",
        "                True, self.momentum, self.eps).view(N, C, H, W)\n",
        "        else:\n",
        "            return F.batch_norm(\n",
        "                input, self.running_mean[:self.num_features], self.running_var[:self.num_features],\n",
        "                self.weight, self.bias, False, self.momentum, self.eps)"
      ],
      "execution_count": 0,
      "outputs": []
    },
    {
      "cell_type": "markdown",
      "metadata": {
        "id": "YbuRS0akiGsi",
        "colab_type": "text"
      },
      "source": [
        "### Define Net with nn.BatchNorm2d()"
      ]
    },
    {
      "cell_type": "code",
      "metadata": {
        "id": "ToQ0qtQSCzOT",
        "colab_type": "code",
        "colab": {}
      },
      "source": [
        "class Net(nn.Module):\n",
        "    def __init__(self):\n",
        "        super(Net, self).__init__()\n",
        "        \n",
        "        self.conv1block = nn.Sequential(\n",
        "            nn.Conv2d(1, 8, 3),                            #(-1,28,28,1)>(-1,3,3,1,8)>(-1,26,26,8)>3\n",
        "            nn.BatchNorm2d(8),\n",
        "            nn.ReLU(),\n",
        "            nn.Conv2d(8, 8, 3),                           #(-1,26,26,8)>(-1,3,3,8,8)>(-1,24,24,8)>5\n",
        "            nn.BatchNorm2d(8),\n",
        "            nn.ReLU(),\n",
        "            nn.Conv2d(8, 10, 3),                           #(-1,24,24,8)>(-1,3,3,8,10)>(-1,22,22,10)>7\n",
        "            nn.BatchNorm2d(10),\n",
        "            nn.ReLU(),\n",
        "        )\n",
        "\n",
        "        self.pool1block = nn.Sequential(\n",
        "            nn.MaxPool2d(2,2),                              #(-1,22,22,10)>(-1,11,11,10)>8\n",
        "        )\n",
        "\n",
        "        self.conv2block = nn.Sequential(\n",
        "            nn.Conv2d(10, 16, 3),                           #(-1,11,11,10)>(-1,3,3,10,16)>(-1,9,9,16)>12\n",
        "            nn.BatchNorm2d(16),\n",
        "            nn.ReLU(),\n",
        "            nn.Dropout(0.01),\n",
        "            nn.Conv2d(16, 16, 3),                           #(-1,9,9,16)>(-1,3,3,16,16)>(-1,7,7,16)>16\n",
        "            nn.BatchNorm2d(16),\n",
        "            nn.ReLU(),\n",
        "            nn.Dropout(0.01),\n",
        "            nn.Conv2d(16, 16, 3),                           #(-1,7,7,16)>(-1,3,3,16,16)>(-1,5,5,16)>20\n",
        "            nn.BatchNorm2d(16),\n",
        "            nn.ReLU(),\n",
        "            nn.Dropout(0.01),\n",
        "        )\n",
        "\n",
        "        self.avgpool = nn.AvgPool2d(5)                      #(-1,5,5,16)>(-1,1,1,16)>28\n",
        "        self.conv3 = nn.Conv2d(16, 10, 1)                   #(-1,1,1,16)>(-1,1,1,16,10)>(-1,1,1,10)>28  \n",
        "\n",
        "        \n",
        "    def forward(self, x):\n",
        "        x = self.conv1block(x)\n",
        "        x = self.pool1block(x)\n",
        "        x = self.conv2block(x)\n",
        "        x = self.avgpool(x)\n",
        "        x = self.conv3(x)\n",
        "        x = x.view(-1, 10)\n",
        "        return F.log_softmax(x)\n"
      ],
      "execution_count": 0,
      "outputs": []
    },
    {
      "cell_type": "markdown",
      "metadata": {
        "id": "dM0GTo-1iRy6",
        "colab_type": "text"
      },
      "source": [
        "### Define Network with Ghost Batch Normalization"
      ]
    },
    {
      "cell_type": "code",
      "metadata": {
        "id": "PKpF_RYDiQuw",
        "colab_type": "code",
        "colab": {}
      },
      "source": [
        "class GhostNet(nn.Module):\n",
        "    def __init__(self, n_splits=1):\n",
        "        super(GhostNet, self).__init__()\n",
        "        \n",
        "        self.conv1block = nn.Sequential(\n",
        "            nn.Conv2d(1, 8, 3),                            #(-1,28,28,1)>(-1,3,3,1,8)>(-1,26,26,8)>3\n",
        "            GhostBatchNorm(8, n_splits),\n",
        "            nn.ReLU(),\n",
        "            nn.Conv2d(8, 8, 3),                           #(-1,26,26,8)>(-1,3,3,8,8)>(-1,24,24,8)>5\n",
        "            GhostBatchNorm(8, n_splits),\n",
        "            nn.ReLU(),\n",
        "            nn.Conv2d(8, 10, 3),                           #(-1,24,24,8)>(-1,3,3,8,10)>(-1,22,22,10)>7\n",
        "            GhostBatchNorm(10, n_splits),\n",
        "            nn.ReLU(),\n",
        "        )\n",
        "\n",
        "        self.pool1block = nn.Sequential(\n",
        "            nn.MaxPool2d(2,2),                              #(-1,22,22,10)>(-1,11,11,10)>8\n",
        "        )\n",
        "\n",
        "        self.conv2block = nn.Sequential(\n",
        "            nn.Conv2d(10, 16, 3),                           #(-1,11,11,10)>(-1,3,3,10,16)>(-1,9,9,16)>12\n",
        "            GhostBatchNorm(16, n_splits),\n",
        "            nn.ReLU(),\n",
        "            nn.Dropout(0.01),\n",
        "            nn.Conv2d(16, 16, 3),                           #(-1,9,9,16)>(-1,3,3,16,16)>(-1,7,7,16)>16\n",
        "            GhostBatchNorm(16, n_splits),\n",
        "            nn.ReLU(),\n",
        "            nn.Dropout(0.01),\n",
        "            nn.Conv2d(16, 16, 3),                           #(-1,7,7,16)>(-1,3,3,16,16)>(-1,5,5,16)>20\n",
        "            GhostBatchNorm(16, n_splits),\n",
        "            nn.ReLU(),\n",
        "            nn.Dropout(0.01),\n",
        "        )\n",
        "\n",
        "        self.avgpool = nn.AvgPool2d(5)                      #(-1,5,5,16)>(-1,1,1,16)>28\n",
        "        self.conv3 = nn.Conv2d(16, 10, 1)                   #(-1,1,1,16)>(-1,1,1,16,10)>(-1,1,1,10)>28  \n",
        "\n",
        "        \n",
        "    def forward(self, x):\n",
        "        x = self.conv1block(x)\n",
        "        x = self.pool1block(x)\n",
        "        x = self.conv2block(x)\n",
        "        x = self.avgpool(x)\n",
        "        x = self.conv3(x)\n",
        "        x = x.view(-1, 10)\n",
        "        return F.log_softmax(x)"
      ],
      "execution_count": 0,
      "outputs": []
    },
    {
      "cell_type": "code",
      "metadata": {
        "id": "_QVewjwMZsxp",
        "colab_type": "code",
        "outputId": "e0255ffa-88d7-4f04-e4c6-106b9e036718",
        "colab": {
          "base_uri": "https://localhost:8080/",
          "height": 712
        }
      },
      "source": [
        "model = Net().to(device)\n",
        "summary(model, input_size=(1, 28, 28))"
      ],
      "execution_count": 15,
      "outputs": [
        {
          "output_type": "stream",
          "text": [
            "----------------------------------------------------------------\n",
            "        Layer (type)               Output Shape         Param #\n",
            "================================================================\n",
            "            Conv2d-1            [-1, 8, 26, 26]              80\n",
            "       BatchNorm2d-2            [-1, 8, 26, 26]              16\n",
            "              ReLU-3            [-1, 8, 26, 26]               0\n",
            "            Conv2d-4            [-1, 8, 24, 24]             584\n",
            "       BatchNorm2d-5            [-1, 8, 24, 24]              16\n",
            "              ReLU-6            [-1, 8, 24, 24]               0\n",
            "            Conv2d-7           [-1, 10, 22, 22]             730\n",
            "       BatchNorm2d-8           [-1, 10, 22, 22]              20\n",
            "              ReLU-9           [-1, 10, 22, 22]               0\n",
            "        MaxPool2d-10           [-1, 10, 11, 11]               0\n",
            "           Conv2d-11             [-1, 16, 9, 9]           1,456\n",
            "      BatchNorm2d-12             [-1, 16, 9, 9]              32\n",
            "             ReLU-13             [-1, 16, 9, 9]               0\n",
            "          Dropout-14             [-1, 16, 9, 9]               0\n",
            "           Conv2d-15             [-1, 16, 7, 7]           2,320\n",
            "      BatchNorm2d-16             [-1, 16, 7, 7]              32\n",
            "             ReLU-17             [-1, 16, 7, 7]               0\n",
            "          Dropout-18             [-1, 16, 7, 7]               0\n",
            "           Conv2d-19             [-1, 16, 5, 5]           2,320\n",
            "      BatchNorm2d-20             [-1, 16, 5, 5]              32\n",
            "             ReLU-21             [-1, 16, 5, 5]               0\n",
            "          Dropout-22             [-1, 16, 5, 5]               0\n",
            "        AvgPool2d-23             [-1, 16, 1, 1]               0\n",
            "           Conv2d-24             [-1, 10, 1, 1]             170\n",
            "================================================================\n",
            "Total params: 7,808\n",
            "Trainable params: 7,808\n",
            "Non-trainable params: 0\n",
            "----------------------------------------------------------------\n",
            "Input size (MB): 0.00\n",
            "Forward/backward pass size (MB): 0.43\n",
            "Params size (MB): 0.03\n",
            "Estimated Total Size (MB): 0.46\n",
            "----------------------------------------------------------------\n"
          ],
          "name": "stdout"
        },
        {
          "output_type": "stream",
          "text": [
            "/usr/local/lib/python3.6/dist-packages/ipykernel_launcher.py:47: UserWarning: Implicit dimension choice for log_softmax has been deprecated. Change the call to include dim=X as an argument.\n"
          ],
          "name": "stderr"
        }
      ]
    },
    {
      "cell_type": "markdown",
      "metadata": {
        "id": "BT8BOx7ejP3o",
        "colab_type": "text"
      },
      "source": [
        "## Defining training and testing functions"
      ]
    },
    {
      "cell_type": "markdown",
      "metadata": {
        "id": "QUnof6Q_iigJ",
        "colab_type": "text"
      },
      "source": [
        "### Util functions"
      ]
    },
    {
      "cell_type": "code",
      "metadata": {
        "id": "2dw1Il-M4CEU",
        "colab_type": "code",
        "colab": {}
      },
      "source": [
        "def regularize_loss(model, loss, decay, norm_value):\n",
        "  \"\"\"\n",
        "  L1/L2 Regularization\n",
        "  decay : l1/l2 decay value\n",
        "  norm_value : the order of norm\n",
        "  \"\"\"\n",
        "  r_loss = 0\n",
        "  # get sum of norm of parameters\n",
        "  for param in model.parameters():\n",
        "    r_loss += torch.norm(param, norm_value)\n",
        "  # update loss value\n",
        "  loss += decay * r_loss\n",
        "  \n",
        "  return loss"
      ],
      "execution_count": 0,
      "outputs": []
    },
    {
      "cell_type": "code",
      "metadata": {
        "id": "3-qlbe0dBGVM",
        "colab_type": "code",
        "colab": {}
      },
      "source": [
        "def save_ckp(state, checkpoint_fpath):\n",
        "    \"\"\"\n",
        "    state: checkpoint we want to save\n",
        "    checkpoint_path: path to save model\n",
        "    \"\"\"\n",
        "    f_path = checkpoint_fpath\n",
        "    # save checkpoint data to the path given, checkpoint_path\n",
        "    torch.save(state, f_path)\n",
        "    \n",
        "def load_ckp(checkpoint_fpath, model, optimizer):\n",
        "    \"\"\"\n",
        "    checkpoint_path: path to save checkpoint\n",
        "    model: model that we want to load checkpoint parameters into       \n",
        "    optimizer: optimizer we defined in previous training\n",
        "    \"\"\"\n",
        "    # load check point\n",
        "    checkpoint = torch.load(checkpoint_fpath)\n",
        "    # initialize state_dict from checkpoint to model\n",
        "    model.load_state_dict(checkpoint['state_dict'])\n",
        "    # initialize optimizer from checkpoint to optimizer\n",
        "    optimizer.load_state_dict(checkpoint['optimizer'])\n",
        "    # get epoch\n",
        "    epoch = checkpoint['epoch']\n",
        "    # get val_max_acc\n",
        "    val_max_acc = checkpoint['valid_max_acc']\n",
        "    # get misclassified images\n",
        "    misclassified_images = checkpoint['misclassified_images']\n",
        "    # return model, optimizer, epoch, val_max_acc, misclassified_images\n",
        "    return model, optimizer, epoch, val_max_acc, misclassified_images"
      ],
      "execution_count": 0,
      "outputs": []
    },
    {
      "cell_type": "markdown",
      "metadata": {
        "id": "JpaYYaqmiorA",
        "colab_type": "text"
      },
      "source": [
        "### Define Training and Testing Functions"
      ]
    },
    {
      "cell_type": "code",
      "metadata": {
        "id": "L6_Zia8XjPKb",
        "colab_type": "code",
        "colab": {}
      },
      "source": [
        "from tqdm import tqdm\n",
        "import numpy as np\n",
        "\n",
        "class Model:\n",
        "  def __init__(self, model, device, optimizer, l1_decay=0.0, l2_decay=0.0):\n",
        "    self.model = model\n",
        "    self.device = device\n",
        "    self.optimizer = optimizer\n",
        "    \n",
        "    self.train_losses = []\n",
        "    self.test_losses = []\n",
        "    self.train_acc = []\n",
        "    self.test_acc = []\n",
        "    \n",
        "    self.misclassified_images = {}\n",
        "    \n",
        "    self.l1_decay = l1_decay\n",
        "    self.l2_decay = l2_decay\n",
        "\n",
        "    self.minimum_test_loss = np.Inf\n",
        "    self.maximum_test_acc = 0.0\n",
        "\n",
        "\n",
        "  def train(self, train_loader):\n",
        "      running_loss = 0.0\n",
        "      running_correct = 0\n",
        "\n",
        "      self.model.train()\n",
        "\n",
        "      pbar = tqdm(train_loader)\n",
        "      for batch_idx, (data, target) in enumerate(pbar):\n",
        "          data, target = data.to(self.device), target.to(self.device)\n",
        "          self.optimizer.zero_grad()\n",
        "          output = self.model(data)\n",
        "          loss = F.nll_loss(output, target)\n",
        "\n",
        "          if self.l1_decay>0.0:\n",
        "            loss += regularize_loss(self.model, loss, self.l1_decay, 1)\n",
        "          if self.l2_decay>0.0:\n",
        "            loss += regularize_loss(self.model, loss, self.l2_decay, 2)\n",
        "\n",
        "          _, preds = torch.max(output.data, 1)\n",
        "          loss.backward()\n",
        "          self.optimizer.step()\n",
        "\n",
        "          #calculate training running loss\n",
        "          running_loss += loss.item()\n",
        "          running_correct += (preds == target).sum().item()\n",
        "          pbar.set_description(desc= f'loss={loss.item()} batch_id={batch_idx}')\n",
        "\n",
        "      r_total_loss = running_loss/len(train_loader.dataset)\n",
        "      r_total_acc = 100. * running_correct/len(train_loader.dataset)\n",
        "\n",
        "      self.train_losses.append(r_total_loss)\n",
        "      self.train_acc.append(r_total_acc)\n",
        "      print(\"\\n\")\n",
        "      print(f\"  TRAIN avg loss: {r_total_loss:.4f} train acc: {r_total_acc:.4f}\\n\")\n",
        "\n",
        "  def test(self, test_loader, epoch, checkpoint_fpath = None):\n",
        "      running_loss = 0.0\n",
        "      running_correct = 0\n",
        "\n",
        "      self.model.eval()\n",
        "      \n",
        "      with torch.no_grad():\n",
        "          for data, target in test_loader:\n",
        "              data, target = data.to(self.device), target.to(self.device)\n",
        "              output = self.model(data)\n",
        "              running_loss += F.nll_loss(output, target, reduction='sum').item()  # sum up batch loss\n",
        "              pred = output.argmax(dim=1, keepdim=True)  # get the index of the max log-probability\n",
        "              \n",
        "              is_correct = pred.eq(target.view_as(pred))\n",
        "              misclass_indx = (is_correct==0).nonzero()[:,0]\n",
        "              for indx in misclass_indx:\n",
        "                if str(epoch) not in self.misclassified_images:\n",
        "                  self.misclassified_images[str(epoch)] = []\n",
        "                self.misclassified_images[str(epoch)].append({\n",
        "                    \"target\" : target[indx],\n",
        "                    \"pred\" : pred[indx],\n",
        "                    \"img\" : data[indx]\n",
        "                })\n",
        "\n",
        "              running_correct += pred.eq(target.view_as(pred)).sum().item()\n",
        "\n",
        "      r_total_loss = running_loss/len(test_loader.dataset)\n",
        "      r_total_acc = 100.*running_correct/len(test_loader.dataset)\n",
        "\n",
        "      if(r_total_acc>=self.maximum_test_acc):\n",
        "        self.maximum_test_acc = r_total_acc\n",
        "        if checkpoint_fpath:\n",
        "          self.save_checkpoint(epoch, checkpoint_fpath)\n",
        "          print(f\"  Best Model Saved!!!\\n\")\n",
        "        else:\n",
        "          print(f\"  Couldn't save the model. Path not defined!!!\\n\")\n",
        "        \n",
        "\n",
        "      self.test_losses.append(r_total_loss)\n",
        "      self.test_acc.append(r_total_acc)\n",
        "\n",
        "      print(\"\\n\")\n",
        "      print(f\"  TEST avg loss: {r_total_loss:.4f} test acc: {r_total_acc:.4f}\\n\")\n",
        "\n",
        "  def save_checkpoint(self, epoch, checkpoint_fpath):\n",
        "    checkpoint = {\n",
        "          'epoch' : epoch,\n",
        "          'misclassified_images' : self.misclassified_images[str(epoch)],\n",
        "          'valid_max_acc': self.maximum_test_acc,\n",
        "          'state_dict': self.model.state_dict(),\n",
        "          'optimizer': self.optimizer.state_dict(),\n",
        "      }\n",
        "    save_ckp(checkpoint, checkpoint_fpath)"
      ],
      "execution_count": 0,
      "outputs": []
    },
    {
      "cell_type": "markdown",
      "metadata": {
        "id": "eqmiPIViivBu",
        "colab_type": "text"
      },
      "source": [
        "## Main Running Function"
      ]
    },
    {
      "cell_type": "code",
      "metadata": {
        "id": "AnrSnpnzHA9N",
        "colab_type": "code",
        "colab": {}
      },
      "source": [
        "import json\n",
        "import os\n",
        "\n",
        "def run(condition, l1_decay, l2_decay, n_splits=1):\n",
        "  \"\"\"\n",
        "  condition : jobs mentioned for problem statement\n",
        "  l1_decay : decay factor for l1 norm\n",
        "  l2_decay : decay factor for l2 norm\n",
        "  n_splits : mini batch splits\n",
        "  \"\"\"\n",
        "  print(\"\\n\")\n",
        "  print(\"#\"*50 + \"\\n\")\n",
        "  print(f\"{condition}\")\n",
        "  print(\"-\"*50 + \"\\n\")\n",
        "  \n",
        "  if \"gbn\" in condition:\n",
        "    net = GhostNet(n_splits).to(device)\n",
        "    batch_size = 256\n",
        "  else:\n",
        "    net = Net().to(device)\n",
        "    batch_size = 128\n",
        "\n",
        "  data = Dataset(batch_size)\n",
        "  train_loader = data.get_train_loader()\n",
        "  test_loader = data.get_test_loader()\n",
        "  \n",
        "  optimizer = optim.SGD(net.parameters(), lr=0.1, momentum=0.9)\n",
        "  scheduler = StepLR(optimizer, step_size=9, gamma=0.1)\n",
        "  EPOCHS = 25\n",
        "\n",
        "  model = Model(net, device, optimizer, l1_decay, l2_decay)\n",
        "  MODEL_PATH = f\"./weights/model_{condition}.pt\"\n",
        "\n",
        "  for epoch in range(1, EPOCHS+1):\n",
        "    print(f\"\\nEPOCH : {epoch}\\n\")\n",
        "    model.train(train_loader)\n",
        "    scheduler.step()\n",
        "    model.test(test_loader, epoch, MODEL_PATH)\n",
        "\n",
        "  result = {f'{condition}':{'train_losses':model.train_losses, 'test_losses':model.test_losses,\n",
        "                            'train_acc':model.train_acc, 'test_acc':model.test_acc}}\n",
        "\n",
        "  \n",
        "  file_path = \"./stats/models_acc_losses_data.json\"\n",
        "  if not os.path.exists(file_path):\n",
        "    with open(file_path, \"w\") as f:\n",
        "      json.dump({'status':200}, f)\n",
        "\n",
        "  with open(file_path) as f:\n",
        "    data = json.load(f)\n",
        "    \n",
        "  data.update(result)\n",
        "  with open(file_path, \"w\") as f:\n",
        "      json.dump(data, f)\n",
        "\n",
        "  print(\"#\"*10 + \"\\n\")"
      ],
      "execution_count": 0,
      "outputs": []
    },
    {
      "cell_type": "code",
      "metadata": {
        "id": "_p2cV0exZtZ1",
        "colab_type": "code",
        "outputId": "110db78b-7e1e-4169-d6c8-3eae6e11974e",
        "colab": {
          "base_uri": "https://localhost:8080/",
          "height": 1000
        }
      },
      "source": [
        "n_splits = 16\n",
        "\n",
        "run('n_l1_n_l2_bn', 0.0, 0.0, 1)\n",
        "run('n_l1_n_l2_gbn', 0.0, 0.0, n_splits)\n",
        "run('l1_bn', 0.0005, 0.0, 1)\n",
        "run('l1_gbn', 0.0005, 0.0, n_splits)\n",
        "run('l2_bn', 0.0, 0.0005, 1)\n",
        "run('l2_gbn', 0.0, 0.0005, n_splits)\n",
        "run('l1_l2_bn', 0.0005, 0.0005, 1)\n",
        "run('l1_l2_gbn', 0.0005, 0.0005, n_splits)"
      ],
      "execution_count": 20,
      "outputs": [
        {
          "output_type": "stream",
          "text": [
            "\r  0%|          | 0/469 [00:00<?, ?it/s]"
          ],
          "name": "stderr"
        },
        {
          "output_type": "stream",
          "text": [
            "\n",
            "\n",
            "##################################################\n",
            "\n",
            "n_l1_n_l2_bn\n",
            "--------------------------------------------------\n",
            "\n",
            "\n",
            "EPOCH : 1\n",
            "\n"
          ],
          "name": "stdout"
        },
        {
          "output_type": "stream",
          "text": [
            "/usr/local/lib/python3.6/dist-packages/ipykernel_launcher.py:47: UserWarning: Implicit dimension choice for log_softmax has been deprecated. Change the call to include dim=X as an argument.\n",
            "loss=0.05529120936989784 batch_id=468: 100%|██████████| 469/469 [00:10<00:00, 44.18it/s]"
          ],
          "name": "stderr"
        },
        {
          "output_type": "stream",
          "text": [
            "\n",
            "\n",
            "  TRAIN avg loss: 0.0016 train acc: 94.1633\n",
            "\n"
          ],
          "name": "stdout"
        },
        {
          "output_type": "stream",
          "text": [
            "\n",
            "  0%|          | 0/469 [00:00<?, ?it/s]"
          ],
          "name": "stderr"
        },
        {
          "output_type": "stream",
          "text": [
            "  Best Model Saved!!!\n",
            "\n",
            "\n",
            "\n",
            "  TEST avg loss: 0.0743 test acc: 97.5500\n",
            "\n",
            "\n",
            "EPOCH : 2\n",
            "\n"
          ],
          "name": "stdout"
        },
        {
          "output_type": "stream",
          "text": [
            "loss=0.009215201251208782 batch_id=468: 100%|██████████| 469/469 [00:10<00:00, 43.89it/s]"
          ],
          "name": "stderr"
        },
        {
          "output_type": "stream",
          "text": [
            "\n",
            "\n",
            "  TRAIN avg loss: 0.0004 train acc: 98.3950\n",
            "\n"
          ],
          "name": "stdout"
        },
        {
          "output_type": "stream",
          "text": [
            "\n",
            "  0%|          | 0/469 [00:00<?, ?it/s]"
          ],
          "name": "stderr"
        },
        {
          "output_type": "stream",
          "text": [
            "  Best Model Saved!!!\n",
            "\n",
            "\n",
            "\n",
            "  TEST avg loss: 0.0387 test acc: 98.7800\n",
            "\n",
            "\n",
            "EPOCH : 3\n",
            "\n"
          ],
          "name": "stdout"
        },
        {
          "output_type": "stream",
          "text": [
            "loss=0.04719700291752815 batch_id=468: 100%|██████████| 469/469 [00:10<00:00, 43.12it/s]"
          ],
          "name": "stderr"
        },
        {
          "output_type": "stream",
          "text": [
            "\n",
            "\n",
            "  TRAIN avg loss: 0.0003 train acc: 98.8383\n",
            "\n"
          ],
          "name": "stdout"
        },
        {
          "output_type": "stream",
          "text": [
            "\n",
            "  0%|          | 0/469 [00:00<?, ?it/s]"
          ],
          "name": "stderr"
        },
        {
          "output_type": "stream",
          "text": [
            "  Best Model Saved!!!\n",
            "\n",
            "\n",
            "\n",
            "  TEST avg loss: 0.0333 test acc: 98.8500\n",
            "\n",
            "\n",
            "EPOCH : 4\n",
            "\n"
          ],
          "name": "stdout"
        },
        {
          "output_type": "stream",
          "text": [
            "loss=0.030238056555390358 batch_id=468: 100%|██████████| 469/469 [00:10<00:00, 43.34it/s]\n"
          ],
          "name": "stderr"
        },
        {
          "output_type": "stream",
          "text": [
            "\n",
            "\n",
            "  TRAIN avg loss: 0.0003 train acc: 98.9967\n",
            "\n"
          ],
          "name": "stdout"
        },
        {
          "output_type": "stream",
          "text": [
            "\r  0%|          | 0/469 [00:00<?, ?it/s]"
          ],
          "name": "stderr"
        },
        {
          "output_type": "stream",
          "text": [
            "  Best Model Saved!!!\n",
            "\n",
            "\n",
            "\n",
            "  TEST avg loss: 0.0266 test acc: 99.2000\n",
            "\n",
            "\n",
            "EPOCH : 5\n",
            "\n"
          ],
          "name": "stdout"
        },
        {
          "output_type": "stream",
          "text": [
            "loss=0.025517309084534645 batch_id=468: 100%|██████████| 469/469 [00:10<00:00, 44.00it/s]"
          ],
          "name": "stderr"
        },
        {
          "output_type": "stream",
          "text": [
            "\n",
            "\n",
            "  TRAIN avg loss: 0.0002 train acc: 99.0833\n",
            "\n"
          ],
          "name": "stdout"
        },
        {
          "output_type": "stream",
          "text": [
            "\n",
            "  0%|          | 0/469 [00:00<?, ?it/s]"
          ],
          "name": "stderr"
        },
        {
          "output_type": "stream",
          "text": [
            "  Best Model Saved!!!\n",
            "\n",
            "\n",
            "\n",
            "  TEST avg loss: 0.0267 test acc: 99.2100\n",
            "\n",
            "\n",
            "EPOCH : 6\n",
            "\n"
          ],
          "name": "stdout"
        },
        {
          "output_type": "stream",
          "text": [
            "loss=0.017988869920372963 batch_id=468: 100%|██████████| 469/469 [00:10<00:00, 43.99it/s]"
          ],
          "name": "stderr"
        },
        {
          "output_type": "stream",
          "text": [
            "\n",
            "\n",
            "  TRAIN avg loss: 0.0002 train acc: 99.1433\n",
            "\n"
          ],
          "name": "stdout"
        },
        {
          "output_type": "stream",
          "text": [
            "\n",
            "  0%|          | 0/469 [00:00<?, ?it/s]"
          ],
          "name": "stderr"
        },
        {
          "output_type": "stream",
          "text": [
            "\n",
            "\n",
            "  TEST avg loss: 0.0259 test acc: 99.1600\n",
            "\n",
            "\n",
            "EPOCH : 7\n",
            "\n"
          ],
          "name": "stdout"
        },
        {
          "output_type": "stream",
          "text": [
            "loss=0.02133217640221119 batch_id=468: 100%|██████████| 469/469 [00:10<00:00, 44.88it/s]"
          ],
          "name": "stderr"
        },
        {
          "output_type": "stream",
          "text": [
            "\n",
            "\n",
            "  TRAIN avg loss: 0.0002 train acc: 99.2383\n",
            "\n"
          ],
          "name": "stdout"
        },
        {
          "output_type": "stream",
          "text": [
            "\n",
            "  0%|          | 0/469 [00:00<?, ?it/s]"
          ],
          "name": "stderr"
        },
        {
          "output_type": "stream",
          "text": [
            "  Best Model Saved!!!\n",
            "\n",
            "\n",
            "\n",
            "  TEST avg loss: 0.0253 test acc: 99.2400\n",
            "\n",
            "\n",
            "EPOCH : 8\n",
            "\n"
          ],
          "name": "stdout"
        },
        {
          "output_type": "stream",
          "text": [
            "loss=0.014646634459495544 batch_id=468: 100%|██████████| 469/469 [00:10<00:00, 44.08it/s]"
          ],
          "name": "stderr"
        },
        {
          "output_type": "stream",
          "text": [
            "\n",
            "\n",
            "  TRAIN avg loss: 0.0002 train acc: 99.2717\n",
            "\n"
          ],
          "name": "stdout"
        },
        {
          "output_type": "stream",
          "text": [
            "\n",
            "  0%|          | 0/469 [00:00<?, ?it/s]"
          ],
          "name": "stderr"
        },
        {
          "output_type": "stream",
          "text": [
            "\n",
            "\n",
            "  TEST avg loss: 0.0278 test acc: 99.1400\n",
            "\n",
            "\n",
            "EPOCH : 9\n",
            "\n"
          ],
          "name": "stdout"
        },
        {
          "output_type": "stream",
          "text": [
            "loss=0.021162712946534157 batch_id=468: 100%|██████████| 469/469 [00:10<00:00, 44.72it/s]"
          ],
          "name": "stderr"
        },
        {
          "output_type": "stream",
          "text": [
            "\n",
            "\n",
            "  TRAIN avg loss: 0.0002 train acc: 99.3483\n",
            "\n"
          ],
          "name": "stdout"
        },
        {
          "output_type": "stream",
          "text": [
            "\n",
            "  0%|          | 0/469 [00:00<?, ?it/s]"
          ],
          "name": "stderr"
        },
        {
          "output_type": "stream",
          "text": [
            "  Best Model Saved!!!\n",
            "\n",
            "\n",
            "\n",
            "  TEST avg loss: 0.0233 test acc: 99.3000\n",
            "\n",
            "\n",
            "EPOCH : 10\n",
            "\n"
          ],
          "name": "stdout"
        },
        {
          "output_type": "stream",
          "text": [
            "loss=0.02476133406162262 batch_id=468: 100%|██████████| 469/469 [00:10<00:00, 43.53it/s]"
          ],
          "name": "stderr"
        },
        {
          "output_type": "stream",
          "text": [
            "\n",
            "\n",
            "  TRAIN avg loss: 0.0001 train acc: 99.5683\n",
            "\n"
          ],
          "name": "stdout"
        },
        {
          "output_type": "stream",
          "text": [
            "\n",
            "  0%|          | 0/469 [00:00<?, ?it/s]"
          ],
          "name": "stderr"
        },
        {
          "output_type": "stream",
          "text": [
            "  Best Model Saved!!!\n",
            "\n",
            "\n",
            "\n",
            "  TEST avg loss: 0.0201 test acc: 99.3900\n",
            "\n",
            "\n",
            "EPOCH : 11\n",
            "\n"
          ],
          "name": "stdout"
        },
        {
          "output_type": "stream",
          "text": [
            "loss=0.0004140635428484529 batch_id=468: 100%|██████████| 469/469 [00:10<00:00, 44.50it/s]"
          ],
          "name": "stderr"
        },
        {
          "output_type": "stream",
          "text": [
            "\n",
            "\n",
            "  TRAIN avg loss: 0.0001 train acc: 99.6633\n",
            "\n"
          ],
          "name": "stdout"
        },
        {
          "output_type": "stream",
          "text": [
            "\n",
            "  0%|          | 0/469 [00:00<?, ?it/s]"
          ],
          "name": "stderr"
        },
        {
          "output_type": "stream",
          "text": [
            "  Best Model Saved!!!\n",
            "\n",
            "\n",
            "\n",
            "  TEST avg loss: 0.0187 test acc: 99.4300\n",
            "\n",
            "\n",
            "EPOCH : 12\n",
            "\n"
          ],
          "name": "stdout"
        },
        {
          "output_type": "stream",
          "text": [
            "loss=0.010036383755505085 batch_id=468: 100%|██████████| 469/469 [00:10<00:00, 44.64it/s]"
          ],
          "name": "stderr"
        },
        {
          "output_type": "stream",
          "text": [
            "\n",
            "\n",
            "  TRAIN avg loss: 0.0001 train acc: 99.6667\n",
            "\n"
          ],
          "name": "stdout"
        },
        {
          "output_type": "stream",
          "text": [
            "\n",
            "  0%|          | 0/469 [00:00<?, ?it/s]"
          ],
          "name": "stderr"
        },
        {
          "output_type": "stream",
          "text": [
            "  Best Model Saved!!!\n",
            "\n",
            "\n",
            "\n",
            "  TEST avg loss: 0.0182 test acc: 99.4500\n",
            "\n",
            "\n",
            "EPOCH : 13\n",
            "\n"
          ],
          "name": "stdout"
        },
        {
          "output_type": "stream",
          "text": [
            "loss=0.0017372866859659553 batch_id=468: 100%|██████████| 469/469 [00:10<00:00, 44.53it/s]"
          ],
          "name": "stderr"
        },
        {
          "output_type": "stream",
          "text": [
            "\n",
            "\n",
            "  TRAIN avg loss: 0.0001 train acc: 99.6667\n",
            "\n"
          ],
          "name": "stdout"
        },
        {
          "output_type": "stream",
          "text": [
            "\n",
            "  0%|          | 0/469 [00:00<?, ?it/s]"
          ],
          "name": "stderr"
        },
        {
          "output_type": "stream",
          "text": [
            "\n",
            "\n",
            "  TEST avg loss: 0.0182 test acc: 99.4300\n",
            "\n",
            "\n",
            "EPOCH : 14\n",
            "\n"
          ],
          "name": "stdout"
        },
        {
          "output_type": "stream",
          "text": [
            "loss=0.0022287864703685045 batch_id=468: 100%|██████████| 469/469 [00:10<00:00, 44.79it/s]"
          ],
          "name": "stderr"
        },
        {
          "output_type": "stream",
          "text": [
            "\n",
            "\n",
            "  TRAIN avg loss: 0.0001 train acc: 99.6967\n",
            "\n"
          ],
          "name": "stdout"
        },
        {
          "output_type": "stream",
          "text": [
            "\n",
            "  0%|          | 0/469 [00:00<?, ?it/s]"
          ],
          "name": "stderr"
        },
        {
          "output_type": "stream",
          "text": [
            "\n",
            "\n",
            "  TEST avg loss: 0.0176 test acc: 99.4100\n",
            "\n",
            "\n",
            "EPOCH : 15\n",
            "\n"
          ],
          "name": "stdout"
        },
        {
          "output_type": "stream",
          "text": [
            "loss=0.03915797546505928 batch_id=468: 100%|██████████| 469/469 [00:10<00:00, 44.87it/s]"
          ],
          "name": "stderr"
        },
        {
          "output_type": "stream",
          "text": [
            "\n",
            "\n",
            "  TRAIN avg loss: 0.0001 train acc: 99.6950\n",
            "\n"
          ],
          "name": "stdout"
        },
        {
          "output_type": "stream",
          "text": [
            "\n",
            "  0%|          | 0/469 [00:00<?, ?it/s]"
          ],
          "name": "stderr"
        },
        {
          "output_type": "stream",
          "text": [
            "  Best Model Saved!!!\n",
            "\n",
            "\n",
            "\n",
            "  TEST avg loss: 0.0180 test acc: 99.5100\n",
            "\n",
            "\n",
            "EPOCH : 16\n",
            "\n"
          ],
          "name": "stdout"
        },
        {
          "output_type": "stream",
          "text": [
            "loss=0.0051384964026510715 batch_id=468: 100%|██████████| 469/469 [00:10<00:00, 44.06it/s]"
          ],
          "name": "stderr"
        },
        {
          "output_type": "stream",
          "text": [
            "\n",
            "\n",
            "  TRAIN avg loss: 0.0001 train acc: 99.6667\n",
            "\n"
          ],
          "name": "stdout"
        },
        {
          "output_type": "stream",
          "text": [
            "\n",
            "  0%|          | 0/469 [00:00<?, ?it/s]"
          ],
          "name": "stderr"
        },
        {
          "output_type": "stream",
          "text": [
            "\n",
            "\n",
            "  TEST avg loss: 0.0181 test acc: 99.4500\n",
            "\n",
            "\n",
            "EPOCH : 17\n",
            "\n"
          ],
          "name": "stdout"
        },
        {
          "output_type": "stream",
          "text": [
            "loss=0.015280048362910748 batch_id=468: 100%|██████████| 469/469 [00:10<00:00, 44.12it/s]"
          ],
          "name": "stderr"
        },
        {
          "output_type": "stream",
          "text": [
            "\n",
            "\n",
            "  TRAIN avg loss: 0.0001 train acc: 99.7433\n",
            "\n"
          ],
          "name": "stdout"
        },
        {
          "output_type": "stream",
          "text": [
            "\n",
            "  0%|          | 0/469 [00:00<?, ?it/s]"
          ],
          "name": "stderr"
        },
        {
          "output_type": "stream",
          "text": [
            "\n",
            "\n",
            "  TEST avg loss: 0.0183 test acc: 99.4300\n",
            "\n",
            "\n",
            "EPOCH : 18\n",
            "\n"
          ],
          "name": "stdout"
        },
        {
          "output_type": "stream",
          "text": [
            "loss=0.007126659154891968 batch_id=468: 100%|██████████| 469/469 [00:10<00:00, 44.20it/s]"
          ],
          "name": "stderr"
        },
        {
          "output_type": "stream",
          "text": [
            "\n",
            "\n",
            "  TRAIN avg loss: 0.0001 train acc: 99.7417\n",
            "\n"
          ],
          "name": "stdout"
        },
        {
          "output_type": "stream",
          "text": [
            "\n",
            "  0%|          | 0/469 [00:00<?, ?it/s]"
          ],
          "name": "stderr"
        },
        {
          "output_type": "stream",
          "text": [
            "\n",
            "\n",
            "  TEST avg loss: 0.0178 test acc: 99.4400\n",
            "\n",
            "\n",
            "EPOCH : 19\n",
            "\n"
          ],
          "name": "stdout"
        },
        {
          "output_type": "stream",
          "text": [
            "loss=0.002172902226448059 batch_id=468: 100%|██████████| 469/469 [00:10<00:00, 44.31it/s]"
          ],
          "name": "stderr"
        },
        {
          "output_type": "stream",
          "text": [
            "\n",
            "\n",
            "  TRAIN avg loss: 0.0001 train acc: 99.7700\n",
            "\n"
          ],
          "name": "stdout"
        },
        {
          "output_type": "stream",
          "text": [
            "\n",
            "  0%|          | 0/469 [00:00<?, ?it/s]"
          ],
          "name": "stderr"
        },
        {
          "output_type": "stream",
          "text": [
            "\n",
            "\n",
            "  TEST avg loss: 0.0177 test acc: 99.4600\n",
            "\n",
            "\n",
            "EPOCH : 20\n",
            "\n"
          ],
          "name": "stdout"
        },
        {
          "output_type": "stream",
          "text": [
            "loss=0.0010844568023458123 batch_id=468: 100%|██████████| 469/469 [00:10<00:00, 44.76it/s]"
          ],
          "name": "stderr"
        },
        {
          "output_type": "stream",
          "text": [
            "\n",
            "\n",
            "  TRAIN avg loss: 0.0001 train acc: 99.7333\n",
            "\n"
          ],
          "name": "stdout"
        },
        {
          "output_type": "stream",
          "text": [
            "\n",
            "  0%|          | 0/469 [00:00<?, ?it/s]"
          ],
          "name": "stderr"
        },
        {
          "output_type": "stream",
          "text": [
            "\n",
            "\n",
            "  TEST avg loss: 0.0177 test acc: 99.4700\n",
            "\n",
            "\n",
            "EPOCH : 21\n",
            "\n"
          ],
          "name": "stdout"
        },
        {
          "output_type": "stream",
          "text": [
            "loss=0.014355848543345928 batch_id=468: 100%|██████████| 469/469 [00:10<00:00, 44.61it/s]"
          ],
          "name": "stderr"
        },
        {
          "output_type": "stream",
          "text": [
            "\n",
            "\n",
            "  TRAIN avg loss: 0.0001 train acc: 99.7650\n",
            "\n"
          ],
          "name": "stdout"
        },
        {
          "output_type": "stream",
          "text": [
            "\n",
            "  0%|          | 0/469 [00:00<?, ?it/s]"
          ],
          "name": "stderr"
        },
        {
          "output_type": "stream",
          "text": [
            "\n",
            "\n",
            "  TEST avg loss: 0.0177 test acc: 99.4700\n",
            "\n",
            "\n",
            "EPOCH : 22\n",
            "\n"
          ],
          "name": "stdout"
        },
        {
          "output_type": "stream",
          "text": [
            "loss=0.010372181423008442 batch_id=468: 100%|██████████| 469/469 [00:10<00:00, 44.42it/s]"
          ],
          "name": "stderr"
        },
        {
          "output_type": "stream",
          "text": [
            "\n",
            "\n",
            "  TRAIN avg loss: 0.0001 train acc: 99.7750\n",
            "\n"
          ],
          "name": "stdout"
        },
        {
          "output_type": "stream",
          "text": [
            "\n",
            "  0%|          | 0/469 [00:00<?, ?it/s]"
          ],
          "name": "stderr"
        },
        {
          "output_type": "stream",
          "text": [
            "\n",
            "\n",
            "  TEST avg loss: 0.0178 test acc: 99.4400\n",
            "\n",
            "\n",
            "EPOCH : 23\n",
            "\n"
          ],
          "name": "stdout"
        },
        {
          "output_type": "stream",
          "text": [
            "loss=0.004057044629007578 batch_id=468: 100%|██████████| 469/469 [00:10<00:00, 44.59it/s]"
          ],
          "name": "stderr"
        },
        {
          "output_type": "stream",
          "text": [
            "\n",
            "\n",
            "  TRAIN avg loss: 0.0001 train acc: 99.7767\n",
            "\n"
          ],
          "name": "stdout"
        },
        {
          "output_type": "stream",
          "text": [
            "\n",
            "  0%|          | 0/469 [00:00<?, ?it/s]"
          ],
          "name": "stderr"
        },
        {
          "output_type": "stream",
          "text": [
            "\n",
            "\n",
            "  TEST avg loss: 0.0175 test acc: 99.4800\n",
            "\n",
            "\n",
            "EPOCH : 24\n",
            "\n"
          ],
          "name": "stdout"
        },
        {
          "output_type": "stream",
          "text": [
            "loss=0.011297832243144512 batch_id=468: 100%|██████████| 469/469 [00:10<00:00, 44.84it/s]"
          ],
          "name": "stderr"
        },
        {
          "output_type": "stream",
          "text": [
            "\n",
            "\n",
            "  TRAIN avg loss: 0.0001 train acc: 99.7667\n",
            "\n"
          ],
          "name": "stdout"
        },
        {
          "output_type": "stream",
          "text": [
            "\n",
            "  0%|          | 0/469 [00:00<?, ?it/s]"
          ],
          "name": "stderr"
        },
        {
          "output_type": "stream",
          "text": [
            "\n",
            "\n",
            "  TEST avg loss: 0.0177 test acc: 99.4700\n",
            "\n",
            "\n",
            "EPOCH : 25\n",
            "\n"
          ],
          "name": "stdout"
        },
        {
          "output_type": "stream",
          "text": [
            "loss=0.009430363774299622 batch_id=468: 100%|██████████| 469/469 [00:10<00:00, 44.65it/s]"
          ],
          "name": "stderr"
        },
        {
          "output_type": "stream",
          "text": [
            "\n",
            "\n",
            "  TRAIN avg loss: 0.0001 train acc: 99.7567\n",
            "\n"
          ],
          "name": "stdout"
        },
        {
          "output_type": "stream",
          "text": [
            "\n",
            "  0%|          | 0/235 [00:00<?, ?it/s]"
          ],
          "name": "stderr"
        },
        {
          "output_type": "stream",
          "text": [
            "\n",
            "\n",
            "  TEST avg loss: 0.0178 test acc: 99.4700\n",
            "\n",
            "##########\n",
            "\n",
            "\n",
            "\n",
            "##################################################\n",
            "\n",
            "n_l1_n_l2_gbn\n",
            "--------------------------------------------------\n",
            "\n",
            "\n",
            "EPOCH : 1\n",
            "\n"
          ],
          "name": "stdout"
        },
        {
          "output_type": "stream",
          "text": [
            "loss=0.15829995274543762 batch_id=234: 100%|██████████| 235/235 [00:08<00:00, 26.24it/s]"
          ],
          "name": "stderr"
        },
        {
          "output_type": "stream",
          "text": [
            "\n",
            "\n",
            "  TRAIN avg loss: 0.0013 train acc: 90.0467\n",
            "\n"
          ],
          "name": "stdout"
        },
        {
          "output_type": "stream",
          "text": [
            "\n",
            "  0%|          | 0/235 [00:00<?, ?it/s]"
          ],
          "name": "stderr"
        },
        {
          "output_type": "stream",
          "text": [
            "  Best Model Saved!!!\n",
            "\n",
            "\n",
            "\n",
            "  TEST avg loss: 0.0748 test acc: 97.6900\n",
            "\n",
            "\n",
            "EPOCH : 2\n",
            "\n"
          ],
          "name": "stdout"
        },
        {
          "output_type": "stream",
          "text": [
            "loss=0.16259990632534027 batch_id=234: 100%|██████████| 235/235 [00:09<00:00, 25.41it/s]"
          ],
          "name": "stderr"
        },
        {
          "output_type": "stream",
          "text": [
            "\n",
            "\n",
            "  TRAIN avg loss: 0.0003 train acc: 97.7250\n",
            "\n"
          ],
          "name": "stdout"
        },
        {
          "output_type": "stream",
          "text": [
            "\n",
            "  0%|          | 0/235 [00:00<?, ?it/s]"
          ],
          "name": "stderr"
        },
        {
          "output_type": "stream",
          "text": [
            "  Best Model Saved!!!\n",
            "\n",
            "\n",
            "\n",
            "  TEST avg loss: 0.0450 test acc: 98.5700\n",
            "\n",
            "\n",
            "EPOCH : 3\n",
            "\n"
          ],
          "name": "stdout"
        },
        {
          "output_type": "stream",
          "text": [
            "loss=0.061769988387823105 batch_id=234: 100%|██████████| 235/235 [00:09<00:00, 25.98it/s]"
          ],
          "name": "stderr"
        },
        {
          "output_type": "stream",
          "text": [
            "\n",
            "\n",
            "  TRAIN avg loss: 0.0002 train acc: 98.2583\n",
            "\n"
          ],
          "name": "stdout"
        },
        {
          "output_type": "stream",
          "text": [
            "\n",
            "  0%|          | 0/235 [00:00<?, ?it/s]"
          ],
          "name": "stderr"
        },
        {
          "output_type": "stream",
          "text": [
            "\n",
            "\n",
            "  TEST avg loss: 0.0516 test acc: 98.4000\n",
            "\n",
            "\n",
            "EPOCH : 4\n",
            "\n"
          ],
          "name": "stdout"
        },
        {
          "output_type": "stream",
          "text": [
            "loss=0.046883780509233475 batch_id=234: 100%|██████████| 235/235 [00:09<00:00, 26.08it/s]"
          ],
          "name": "stderr"
        },
        {
          "output_type": "stream",
          "text": [
            "\n",
            "\n",
            "  TRAIN avg loss: 0.0002 train acc: 98.4667\n",
            "\n"
          ],
          "name": "stdout"
        },
        {
          "output_type": "stream",
          "text": [
            "\n",
            "  0%|          | 0/235 [00:00<?, ?it/s]"
          ],
          "name": "stderr"
        },
        {
          "output_type": "stream",
          "text": [
            "  Best Model Saved!!!\n",
            "\n",
            "\n",
            "\n",
            "  TEST avg loss: 0.0314 test acc: 98.9900\n",
            "\n",
            "\n",
            "EPOCH : 5\n",
            "\n"
          ],
          "name": "stdout"
        },
        {
          "output_type": "stream",
          "text": [
            "loss=0.06375417858362198 batch_id=234: 100%|██████████| 235/235 [00:09<00:00, 25.72it/s]"
          ],
          "name": "stderr"
        },
        {
          "output_type": "stream",
          "text": [
            "\n",
            "\n",
            "  TRAIN avg loss: 0.0002 train acc: 98.6517\n",
            "\n"
          ],
          "name": "stdout"
        },
        {
          "output_type": "stream",
          "text": [
            "\n",
            "  0%|          | 0/235 [00:00<?, ?it/s]"
          ],
          "name": "stderr"
        },
        {
          "output_type": "stream",
          "text": [
            "  Best Model Saved!!!\n",
            "\n",
            "\n",
            "\n",
            "  TEST avg loss: 0.0323 test acc: 98.9900\n",
            "\n",
            "\n",
            "EPOCH : 6\n",
            "\n"
          ],
          "name": "stdout"
        },
        {
          "output_type": "stream",
          "text": [
            "loss=0.10003618150949478 batch_id=234: 100%|██████████| 235/235 [00:08<00:00, 26.13it/s]\n"
          ],
          "name": "stderr"
        },
        {
          "output_type": "stream",
          "text": [
            "\n",
            "\n",
            "  TRAIN avg loss: 0.0002 train acc: 98.7267\n",
            "\n"
          ],
          "name": "stdout"
        },
        {
          "output_type": "stream",
          "text": [
            "\r  0%|          | 0/235 [00:00<?, ?it/s]"
          ],
          "name": "stderr"
        },
        {
          "output_type": "stream",
          "text": [
            "  Best Model Saved!!!\n",
            "\n",
            "\n",
            "\n",
            "  TEST avg loss: 0.0272 test acc: 99.0500\n",
            "\n",
            "\n",
            "EPOCH : 7\n",
            "\n"
          ],
          "name": "stdout"
        },
        {
          "output_type": "stream",
          "text": [
            "loss=0.033130958676338196 batch_id=234: 100%|██████████| 235/235 [00:09<00:00, 26.11it/s]"
          ],
          "name": "stderr"
        },
        {
          "output_type": "stream",
          "text": [
            "\n",
            "\n",
            "  TRAIN avg loss: 0.0001 train acc: 98.8600\n",
            "\n"
          ],
          "name": "stdout"
        },
        {
          "output_type": "stream",
          "text": [
            "\n",
            "  0%|          | 0/235 [00:00<?, ?it/s]"
          ],
          "name": "stderr"
        },
        {
          "output_type": "stream",
          "text": [
            "  Best Model Saved!!!\n",
            "\n",
            "\n",
            "\n",
            "  TEST avg loss: 0.0264 test acc: 99.1300\n",
            "\n",
            "\n",
            "EPOCH : 8\n",
            "\n"
          ],
          "name": "stdout"
        },
        {
          "output_type": "stream",
          "text": [
            "loss=0.062408074736595154 batch_id=234: 100%|██████████| 235/235 [00:09<00:00, 25.53it/s]"
          ],
          "name": "stderr"
        },
        {
          "output_type": "stream",
          "text": [
            "\n",
            "\n",
            "  TRAIN avg loss: 0.0001 train acc: 98.9600\n",
            "\n"
          ],
          "name": "stdout"
        },
        {
          "output_type": "stream",
          "text": [
            "\n",
            "  0%|          | 0/235 [00:00<?, ?it/s]"
          ],
          "name": "stderr"
        },
        {
          "output_type": "stream",
          "text": [
            "  Best Model Saved!!!\n",
            "\n",
            "\n",
            "\n",
            "  TEST avg loss: 0.0249 test acc: 99.1500\n",
            "\n",
            "\n",
            "EPOCH : 9\n",
            "\n"
          ],
          "name": "stdout"
        },
        {
          "output_type": "stream",
          "text": [
            "loss=0.1123603954911232 batch_id=234: 100%|██████████| 235/235 [00:09<00:00, 25.59it/s]"
          ],
          "name": "stderr"
        },
        {
          "output_type": "stream",
          "text": [
            "\n",
            "\n",
            "  TRAIN avg loss: 0.0001 train acc: 98.9583\n",
            "\n"
          ],
          "name": "stdout"
        },
        {
          "output_type": "stream",
          "text": [
            "\n",
            "  0%|          | 0/235 [00:00<?, ?it/s]"
          ],
          "name": "stderr"
        },
        {
          "output_type": "stream",
          "text": [
            "  Best Model Saved!!!\n",
            "\n",
            "\n",
            "\n",
            "  TEST avg loss: 0.0247 test acc: 99.2200\n",
            "\n",
            "\n",
            "EPOCH : 10\n",
            "\n"
          ],
          "name": "stdout"
        },
        {
          "output_type": "stream",
          "text": [
            "loss=0.05882204696536064 batch_id=234: 100%|██████████| 235/235 [00:09<00:00, 25.54it/s]"
          ],
          "name": "stderr"
        },
        {
          "output_type": "stream",
          "text": [
            "\n",
            "\n",
            "  TRAIN avg loss: 0.0001 train acc: 99.2017\n",
            "\n"
          ],
          "name": "stdout"
        },
        {
          "output_type": "stream",
          "text": [
            "\n",
            "  0%|          | 0/235 [00:00<?, ?it/s]"
          ],
          "name": "stderr"
        },
        {
          "output_type": "stream",
          "text": [
            "  Best Model Saved!!!\n",
            "\n",
            "\n",
            "\n",
            "  TEST avg loss: 0.0178 test acc: 99.4300\n",
            "\n",
            "\n",
            "EPOCH : 11\n",
            "\n"
          ],
          "name": "stdout"
        },
        {
          "output_type": "stream",
          "text": [
            "loss=0.03049011342227459 batch_id=234: 100%|██████████| 235/235 [00:09<00:00, 25.50it/s]"
          ],
          "name": "stderr"
        },
        {
          "output_type": "stream",
          "text": [
            "\n",
            "\n",
            "  TRAIN avg loss: 0.0001 train acc: 99.3700\n",
            "\n"
          ],
          "name": "stdout"
        },
        {
          "output_type": "stream",
          "text": [
            "\n",
            "  0%|          | 0/235 [00:00<?, ?it/s]"
          ],
          "name": "stderr"
        },
        {
          "output_type": "stream",
          "text": [
            "\n",
            "\n",
            "  TEST avg loss: 0.0179 test acc: 99.3500\n",
            "\n",
            "\n",
            "EPOCH : 12\n",
            "\n"
          ],
          "name": "stdout"
        },
        {
          "output_type": "stream",
          "text": [
            "loss=0.025906018912792206 batch_id=234: 100%|██████████| 235/235 [00:08<00:00, 26.23it/s]"
          ],
          "name": "stderr"
        },
        {
          "output_type": "stream",
          "text": [
            "\n",
            "\n",
            "  TRAIN avg loss: 0.0001 train acc: 99.3683\n",
            "\n"
          ],
          "name": "stdout"
        },
        {
          "output_type": "stream",
          "text": [
            "\n",
            "  0%|          | 0/235 [00:00<?, ?it/s]"
          ],
          "name": "stderr"
        },
        {
          "output_type": "stream",
          "text": [
            "  Best Model Saved!!!\n",
            "\n",
            "\n",
            "\n",
            "  TEST avg loss: 0.0176 test acc: 99.4400\n",
            "\n",
            "\n",
            "EPOCH : 13\n",
            "\n"
          ],
          "name": "stdout"
        },
        {
          "output_type": "stream",
          "text": [
            "loss=0.05424762889742851 batch_id=234: 100%|██████████| 235/235 [00:09<00:00, 25.85it/s]"
          ],
          "name": "stderr"
        },
        {
          "output_type": "stream",
          "text": [
            "\n",
            "\n",
            "  TRAIN avg loss: 0.0001 train acc: 99.3867\n",
            "\n"
          ],
          "name": "stdout"
        },
        {
          "output_type": "stream",
          "text": [
            "\n",
            "  0%|          | 0/235 [00:00<?, ?it/s]"
          ],
          "name": "stderr"
        },
        {
          "output_type": "stream",
          "text": [
            "  Best Model Saved!!!\n",
            "\n",
            "\n",
            "\n",
            "  TEST avg loss: 0.0173 test acc: 99.4500\n",
            "\n",
            "\n",
            "EPOCH : 14\n",
            "\n"
          ],
          "name": "stdout"
        },
        {
          "output_type": "stream",
          "text": [
            "loss=0.03667600080370903 batch_id=234: 100%|██████████| 235/235 [00:09<00:00, 25.66it/s]"
          ],
          "name": "stderr"
        },
        {
          "output_type": "stream",
          "text": [
            "\n",
            "\n",
            "  TRAIN avg loss: 0.0001 train acc: 99.3533\n",
            "\n"
          ],
          "name": "stdout"
        },
        {
          "output_type": "stream",
          "text": [
            "\n",
            "  0%|          | 0/235 [00:00<?, ?it/s]"
          ],
          "name": "stderr"
        },
        {
          "output_type": "stream",
          "text": [
            "  Best Model Saved!!!\n",
            "\n",
            "\n",
            "\n",
            "  TEST avg loss: 0.0173 test acc: 99.5100\n",
            "\n",
            "\n",
            "EPOCH : 15\n",
            "\n"
          ],
          "name": "stdout"
        },
        {
          "output_type": "stream",
          "text": [
            "loss=0.05116628110408783 batch_id=234: 100%|██████████| 235/235 [00:09<00:00, 25.62it/s]"
          ],
          "name": "stderr"
        },
        {
          "output_type": "stream",
          "text": [
            "\n",
            "\n",
            "  TRAIN avg loss: 0.0001 train acc: 99.3617\n",
            "\n"
          ],
          "name": "stdout"
        },
        {
          "output_type": "stream",
          "text": [
            "\n",
            "  0%|          | 0/235 [00:00<?, ?it/s]"
          ],
          "name": "stderr"
        },
        {
          "output_type": "stream",
          "text": [
            "\n",
            "\n",
            "  TEST avg loss: 0.0174 test acc: 99.4700\n",
            "\n",
            "\n",
            "EPOCH : 16\n",
            "\n"
          ],
          "name": "stdout"
        },
        {
          "output_type": "stream",
          "text": [
            "loss=0.04547375440597534 batch_id=234: 100%|██████████| 235/235 [00:08<00:00, 26.20it/s]"
          ],
          "name": "stderr"
        },
        {
          "output_type": "stream",
          "text": [
            "\n",
            "\n",
            "  TRAIN avg loss: 0.0001 train acc: 99.3783\n",
            "\n"
          ],
          "name": "stdout"
        },
        {
          "output_type": "stream",
          "text": [
            "\n",
            "  0%|          | 0/235 [00:00<?, ?it/s]"
          ],
          "name": "stderr"
        },
        {
          "output_type": "stream",
          "text": [
            "\n",
            "\n",
            "  TEST avg loss: 0.0178 test acc: 99.3900\n",
            "\n",
            "\n",
            "EPOCH : 17\n",
            "\n"
          ],
          "name": "stdout"
        },
        {
          "output_type": "stream",
          "text": [
            "loss=0.10294225066900253 batch_id=234: 100%|██████████| 235/235 [00:08<00:00, 26.24it/s]"
          ],
          "name": "stderr"
        },
        {
          "output_type": "stream",
          "text": [
            "\n",
            "\n",
            "  TRAIN avg loss: 0.0001 train acc: 99.4233\n",
            "\n"
          ],
          "name": "stdout"
        },
        {
          "output_type": "stream",
          "text": [
            "\n",
            "  0%|          | 0/235 [00:00<?, ?it/s]"
          ],
          "name": "stderr"
        },
        {
          "output_type": "stream",
          "text": [
            "\n",
            "\n",
            "  TEST avg loss: 0.0176 test acc: 99.4200\n",
            "\n",
            "\n",
            "EPOCH : 18\n",
            "\n"
          ],
          "name": "stdout"
        },
        {
          "output_type": "stream",
          "text": [
            "loss=0.029559865593910217 batch_id=234: 100%|██████████| 235/235 [00:09<00:00, 25.99it/s]"
          ],
          "name": "stderr"
        },
        {
          "output_type": "stream",
          "text": [
            "\n",
            "\n",
            "  TRAIN avg loss: 0.0001 train acc: 99.4017\n",
            "\n"
          ],
          "name": "stdout"
        },
        {
          "output_type": "stream",
          "text": [
            "\n",
            "  0%|          | 0/235 [00:00<?, ?it/s]"
          ],
          "name": "stderr"
        },
        {
          "output_type": "stream",
          "text": [
            "\n",
            "\n",
            "  TEST avg loss: 0.0175 test acc: 99.4100\n",
            "\n",
            "\n",
            "EPOCH : 19\n",
            "\n"
          ],
          "name": "stdout"
        },
        {
          "output_type": "stream",
          "text": [
            "loss=0.023968735709786415 batch_id=234: 100%|██████████| 235/235 [00:08<00:00, 26.38it/s]\n"
          ],
          "name": "stderr"
        },
        {
          "output_type": "stream",
          "text": [
            "\n",
            "\n",
            "  TRAIN avg loss: 0.0001 train acc: 99.4067\n",
            "\n"
          ],
          "name": "stdout"
        },
        {
          "output_type": "stream",
          "text": [
            "\r  0%|          | 0/235 [00:00<?, ?it/s]"
          ],
          "name": "stderr"
        },
        {
          "output_type": "stream",
          "text": [
            "\n",
            "\n",
            "  TEST avg loss: 0.0174 test acc: 99.4400\n",
            "\n",
            "\n",
            "EPOCH : 20\n",
            "\n"
          ],
          "name": "stdout"
        },
        {
          "output_type": "stream",
          "text": [
            "loss=0.005066663026809692 batch_id=234: 100%|██████████| 235/235 [00:09<00:00, 26.10it/s]"
          ],
          "name": "stderr"
        },
        {
          "output_type": "stream",
          "text": [
            "\n",
            "\n",
            "  TRAIN avg loss: 0.0001 train acc: 99.4783\n",
            "\n"
          ],
          "name": "stdout"
        },
        {
          "output_type": "stream",
          "text": [
            "\n",
            "  0%|          | 0/235 [00:00<?, ?it/s]"
          ],
          "name": "stderr"
        },
        {
          "output_type": "stream",
          "text": [
            "\n",
            "\n",
            "  TEST avg loss: 0.0172 test acc: 99.4200\n",
            "\n",
            "\n",
            "EPOCH : 21\n",
            "\n"
          ],
          "name": "stdout"
        },
        {
          "output_type": "stream",
          "text": [
            "loss=0.04875011742115021 batch_id=234: 100%|██████████| 235/235 [00:09<00:00, 25.53it/s]"
          ],
          "name": "stderr"
        },
        {
          "output_type": "stream",
          "text": [
            "\n",
            "\n",
            "  TRAIN avg loss: 0.0001 train acc: 99.4317\n",
            "\n"
          ],
          "name": "stdout"
        },
        {
          "output_type": "stream",
          "text": [
            "\n",
            "  0%|          | 0/235 [00:00<?, ?it/s]"
          ],
          "name": "stderr"
        },
        {
          "output_type": "stream",
          "text": [
            "\n",
            "\n",
            "  TEST avg loss: 0.0168 test acc: 99.4100\n",
            "\n",
            "\n",
            "EPOCH : 22\n",
            "\n"
          ],
          "name": "stdout"
        },
        {
          "output_type": "stream",
          "text": [
            "loss=0.09702203422784805 batch_id=234: 100%|██████████| 235/235 [00:09<00:00, 25.53it/s]"
          ],
          "name": "stderr"
        },
        {
          "output_type": "stream",
          "text": [
            "\n",
            "\n",
            "  TRAIN avg loss: 0.0001 train acc: 99.4600\n",
            "\n"
          ],
          "name": "stdout"
        },
        {
          "output_type": "stream",
          "text": [
            "\n",
            "  0%|          | 0/235 [00:00<?, ?it/s]"
          ],
          "name": "stderr"
        },
        {
          "output_type": "stream",
          "text": [
            "\n",
            "\n",
            "  TEST avg loss: 0.0171 test acc: 99.4500\n",
            "\n",
            "\n",
            "EPOCH : 23\n",
            "\n"
          ],
          "name": "stdout"
        },
        {
          "output_type": "stream",
          "text": [
            "loss=0.023129889741539955 batch_id=234: 100%|██████████| 235/235 [00:09<00:00, 26.06it/s]"
          ],
          "name": "stderr"
        },
        {
          "output_type": "stream",
          "text": [
            "\n",
            "\n",
            "  TRAIN avg loss: 0.0001 train acc: 99.4367\n",
            "\n"
          ],
          "name": "stdout"
        },
        {
          "output_type": "stream",
          "text": [
            "\n",
            "  0%|          | 0/235 [00:00<?, ?it/s]"
          ],
          "name": "stderr"
        },
        {
          "output_type": "stream",
          "text": [
            "\n",
            "\n",
            "  TEST avg loss: 0.0170 test acc: 99.4400\n",
            "\n",
            "\n",
            "EPOCH : 24\n",
            "\n"
          ],
          "name": "stdout"
        },
        {
          "output_type": "stream",
          "text": [
            "loss=0.05638161301612854 batch_id=234: 100%|██████████| 235/235 [00:08<00:00, 26.15it/s]"
          ],
          "name": "stderr"
        },
        {
          "output_type": "stream",
          "text": [
            "\n",
            "\n",
            "  TRAIN avg loss: 0.0001 train acc: 99.4617\n",
            "\n"
          ],
          "name": "stdout"
        },
        {
          "output_type": "stream",
          "text": [
            "\n",
            "  0%|          | 0/235 [00:00<?, ?it/s]"
          ],
          "name": "stderr"
        },
        {
          "output_type": "stream",
          "text": [
            "\n",
            "\n",
            "  TEST avg loss: 0.0170 test acc: 99.4400\n",
            "\n",
            "\n",
            "EPOCH : 25\n",
            "\n"
          ],
          "name": "stdout"
        },
        {
          "output_type": "stream",
          "text": [
            "loss=0.028213942423462868 batch_id=234: 100%|██████████| 235/235 [00:09<00:00, 25.93it/s]"
          ],
          "name": "stderr"
        },
        {
          "output_type": "stream",
          "text": [
            "\n",
            "\n",
            "  TRAIN avg loss: 0.0001 train acc: 99.4467\n",
            "\n"
          ],
          "name": "stdout"
        },
        {
          "output_type": "stream",
          "text": [
            "\n",
            "  0%|          | 0/469 [00:00<?, ?it/s]"
          ],
          "name": "stderr"
        },
        {
          "output_type": "stream",
          "text": [
            "\n",
            "\n",
            "  TEST avg loss: 0.0170 test acc: 99.4700\n",
            "\n",
            "##########\n",
            "\n",
            "\n",
            "\n",
            "##################################################\n",
            "\n",
            "l1_bn\n",
            "--------------------------------------------------\n",
            "\n",
            "\n",
            "EPOCH : 1\n",
            "\n"
          ],
          "name": "stdout"
        },
        {
          "output_type": "stream",
          "text": [
            "loss=0.7769066095352173 batch_id=468: 100%|██████████| 469/469 [00:11<00:00, 40.61it/s]"
          ],
          "name": "stderr"
        },
        {
          "output_type": "stream",
          "text": [
            "\n",
            "\n",
            "  TRAIN avg loss: 0.0084 train acc: 93.3150\n",
            "\n"
          ],
          "name": "stdout"
        },
        {
          "output_type": "stream",
          "text": [
            "\n",
            "  0%|          | 0/469 [00:00<?, ?it/s]"
          ],
          "name": "stderr"
        },
        {
          "output_type": "stream",
          "text": [
            "  Best Model Saved!!!\n",
            "\n",
            "\n",
            "\n",
            "  TEST avg loss: 0.1374 test acc: 95.3400\n",
            "\n",
            "\n",
            "EPOCH : 2\n",
            "\n"
          ],
          "name": "stdout"
        },
        {
          "output_type": "stream",
          "text": [
            "loss=0.9119703769683838 batch_id=468: 100%|██████████| 469/469 [00:11<00:00, 40.03it/s]"
          ],
          "name": "stderr"
        },
        {
          "output_type": "stream",
          "text": [
            "\n",
            "\n",
            "  TRAIN avg loss: 0.0056 train acc: 96.9667\n",
            "\n"
          ],
          "name": "stdout"
        },
        {
          "output_type": "stream",
          "text": [
            "\n",
            "  0%|          | 0/469 [00:00<?, ?it/s]"
          ],
          "name": "stderr"
        },
        {
          "output_type": "stream",
          "text": [
            "\n",
            "\n",
            "  TEST avg loss: 0.1617 test acc: 94.9200\n",
            "\n",
            "\n",
            "EPOCH : 3\n",
            "\n"
          ],
          "name": "stdout"
        },
        {
          "output_type": "stream",
          "text": [
            "loss=0.7568830251693726 batch_id=468: 100%|██████████| 469/469 [00:11<00:00, 40.26it/s]"
          ],
          "name": "stderr"
        },
        {
          "output_type": "stream",
          "text": [
            "\n",
            "\n",
            "  TRAIN avg loss: 0.0053 train acc: 96.9317\n",
            "\n"
          ],
          "name": "stdout"
        },
        {
          "output_type": "stream",
          "text": [
            "\n",
            "  0%|          | 0/469 [00:00<?, ?it/s]"
          ],
          "name": "stderr"
        },
        {
          "output_type": "stream",
          "text": [
            "\n",
            "\n",
            "  TEST avg loss: 0.5496 test acc: 83.1500\n",
            "\n",
            "\n",
            "EPOCH : 4\n",
            "\n"
          ],
          "name": "stdout"
        },
        {
          "output_type": "stream",
          "text": [
            "loss=0.595905065536499 batch_id=468: 100%|██████████| 469/469 [00:11<00:00, 40.86it/s]"
          ],
          "name": "stderr"
        },
        {
          "output_type": "stream",
          "text": [
            "\n",
            "\n",
            "  TRAIN avg loss: 0.0053 train acc: 96.9967\n",
            "\n"
          ],
          "name": "stdout"
        },
        {
          "output_type": "stream",
          "text": [
            "\n",
            "  0%|          | 0/469 [00:00<?, ?it/s]"
          ],
          "name": "stderr"
        },
        {
          "output_type": "stream",
          "text": [
            "  Best Model Saved!!!\n",
            "\n",
            "\n",
            "\n",
            "  TEST avg loss: 0.0978 test acc: 97.0300\n",
            "\n",
            "\n",
            "EPOCH : 5\n",
            "\n"
          ],
          "name": "stdout"
        },
        {
          "output_type": "stream",
          "text": [
            "loss=0.6384385824203491 batch_id=468: 100%|██████████| 469/469 [00:11<00:00, 39.99it/s]"
          ],
          "name": "stderr"
        },
        {
          "output_type": "stream",
          "text": [
            "\n",
            "\n",
            "  TRAIN avg loss: 0.0051 train acc: 97.1517\n",
            "\n"
          ],
          "name": "stdout"
        },
        {
          "output_type": "stream",
          "text": [
            "\n",
            "  0%|          | 0/469 [00:00<?, ?it/s]"
          ],
          "name": "stderr"
        },
        {
          "output_type": "stream",
          "text": [
            "\n",
            "\n",
            "  TEST avg loss: 0.1238 test acc: 96.1500\n",
            "\n",
            "\n",
            "EPOCH : 6\n",
            "\n"
          ],
          "name": "stdout"
        },
        {
          "output_type": "stream",
          "text": [
            "loss=0.6696215867996216 batch_id=468: 100%|██████████| 469/469 [00:11<00:00, 40.79it/s]"
          ],
          "name": "stderr"
        },
        {
          "output_type": "stream",
          "text": [
            "\n",
            "\n",
            "  TRAIN avg loss: 0.0050 train acc: 97.0700\n",
            "\n"
          ],
          "name": "stdout"
        },
        {
          "output_type": "stream",
          "text": [
            "\n",
            "  0%|          | 0/469 [00:00<?, ?it/s]"
          ],
          "name": "stderr"
        },
        {
          "output_type": "stream",
          "text": [
            "\n",
            "\n",
            "  TEST avg loss: 0.2010 test acc: 93.4500\n",
            "\n",
            "\n",
            "EPOCH : 7\n",
            "\n"
          ],
          "name": "stdout"
        },
        {
          "output_type": "stream",
          "text": [
            "loss=0.7418420314788818 batch_id=468: 100%|██████████| 469/469 [00:11<00:00, 40.38it/s]"
          ],
          "name": "stderr"
        },
        {
          "output_type": "stream",
          "text": [
            "\n",
            "\n",
            "  TRAIN avg loss: 0.0050 train acc: 97.0433\n",
            "\n"
          ],
          "name": "stdout"
        },
        {
          "output_type": "stream",
          "text": [
            "\n",
            "  0%|          | 0/469 [00:00<?, ?it/s]"
          ],
          "name": "stderr"
        },
        {
          "output_type": "stream",
          "text": [
            "\n",
            "\n",
            "  TEST avg loss: 0.1069 test acc: 96.7400\n",
            "\n",
            "\n",
            "EPOCH : 8\n",
            "\n"
          ],
          "name": "stdout"
        },
        {
          "output_type": "stream",
          "text": [
            "loss=0.5528820753097534 batch_id=468: 100%|██████████| 469/469 [00:11<00:00, 40.50it/s]"
          ],
          "name": "stderr"
        },
        {
          "output_type": "stream",
          "text": [
            "\n",
            "\n",
            "  TRAIN avg loss: 0.0048 train acc: 97.2150\n",
            "\n"
          ],
          "name": "stdout"
        },
        {
          "output_type": "stream",
          "text": [
            "\n",
            "  0%|          | 0/469 [00:00<?, ?it/s]"
          ],
          "name": "stderr"
        },
        {
          "output_type": "stream",
          "text": [
            "\n",
            "\n",
            "  TEST avg loss: 0.2325 test acc: 92.6200\n",
            "\n",
            "\n",
            "EPOCH : 9\n",
            "\n"
          ],
          "name": "stdout"
        },
        {
          "output_type": "stream",
          "text": [
            "loss=0.5716577172279358 batch_id=468: 100%|██████████| 469/469 [00:11<00:00, 39.79it/s]"
          ],
          "name": "stderr"
        },
        {
          "output_type": "stream",
          "text": [
            "\n",
            "\n",
            "  TRAIN avg loss: 0.0047 train acc: 97.3717\n",
            "\n"
          ],
          "name": "stdout"
        },
        {
          "output_type": "stream",
          "text": [
            "\n",
            "  0%|          | 0/469 [00:00<?, ?it/s]"
          ],
          "name": "stderr"
        },
        {
          "output_type": "stream",
          "text": [
            "\n",
            "\n",
            "  TEST avg loss: 0.2218 test acc: 93.3900\n",
            "\n",
            "\n",
            "EPOCH : 10\n",
            "\n"
          ],
          "name": "stdout"
        },
        {
          "output_type": "stream",
          "text": [
            "loss=0.6308268308639526 batch_id=468: 100%|██████████| 469/469 [00:11<00:00, 40.85it/s]"
          ],
          "name": "stderr"
        },
        {
          "output_type": "stream",
          "text": [
            "\n",
            "\n",
            "  TRAIN avg loss: 0.0035 train acc: 98.6517\n",
            "\n"
          ],
          "name": "stdout"
        },
        {
          "output_type": "stream",
          "text": [
            "\n",
            "  0%|          | 0/469 [00:00<?, ?it/s]"
          ],
          "name": "stderr"
        },
        {
          "output_type": "stream",
          "text": [
            "  Best Model Saved!!!\n",
            "\n",
            "\n",
            "\n",
            "  TEST avg loss: 0.0293 test acc: 99.0700\n",
            "\n",
            "\n",
            "EPOCH : 11\n",
            "\n"
          ],
          "name": "stdout"
        },
        {
          "output_type": "stream",
          "text": [
            "loss=0.3469354212284088 batch_id=468: 100%|██████████| 469/469 [00:11<00:00, 39.85it/s]"
          ],
          "name": "stderr"
        },
        {
          "output_type": "stream",
          "text": [
            "\n",
            "\n",
            "  TRAIN avg loss: 0.0031 train acc: 98.8250\n",
            "\n"
          ],
          "name": "stdout"
        },
        {
          "output_type": "stream",
          "text": [
            "\n",
            "  0%|          | 0/469 [00:00<?, ?it/s]"
          ],
          "name": "stderr"
        },
        {
          "output_type": "stream",
          "text": [
            "  Best Model Saved!!!\n",
            "\n",
            "\n",
            "\n",
            "  TEST avg loss: 0.0325 test acc: 99.0700\n",
            "\n",
            "\n",
            "EPOCH : 12\n",
            "\n"
          ],
          "name": "stdout"
        },
        {
          "output_type": "stream",
          "text": [
            "loss=0.3321211636066437 batch_id=468: 100%|██████████| 469/469 [00:11<00:00, 40.12it/s]"
          ],
          "name": "stderr"
        },
        {
          "output_type": "stream",
          "text": [
            "\n",
            "\n",
            "  TRAIN avg loss: 0.0029 train acc: 98.7217\n",
            "\n"
          ],
          "name": "stdout"
        },
        {
          "output_type": "stream",
          "text": [
            "\n",
            "  0%|          | 0/469 [00:00<?, ?it/s]"
          ],
          "name": "stderr"
        },
        {
          "output_type": "stream",
          "text": [
            "\n",
            "\n",
            "  TEST avg loss: 0.0347 test acc: 98.9200\n",
            "\n",
            "\n",
            "EPOCH : 13\n",
            "\n"
          ],
          "name": "stdout"
        },
        {
          "output_type": "stream",
          "text": [
            "loss=0.36175966262817383 batch_id=468: 100%|██████████| 469/469 [00:11<00:00, 40.41it/s]"
          ],
          "name": "stderr"
        },
        {
          "output_type": "stream",
          "text": [
            "\n",
            "\n",
            "  TRAIN avg loss: 0.0027 train acc: 98.6917\n",
            "\n"
          ],
          "name": "stdout"
        },
        {
          "output_type": "stream",
          "text": [
            "\n",
            "  0%|          | 0/469 [00:00<?, ?it/s]"
          ],
          "name": "stderr"
        },
        {
          "output_type": "stream",
          "text": [
            "\n",
            "\n",
            "  TEST avg loss: 0.0425 test acc: 98.7600\n",
            "\n",
            "\n",
            "EPOCH : 14\n",
            "\n"
          ],
          "name": "stdout"
        },
        {
          "output_type": "stream",
          "text": [
            "loss=0.3276771903038025 batch_id=468: 100%|██████████| 469/469 [00:11<00:00, 40.50it/s]"
          ],
          "name": "stderr"
        },
        {
          "output_type": "stream",
          "text": [
            "\n",
            "\n",
            "  TRAIN avg loss: 0.0027 train acc: 98.6817\n",
            "\n"
          ],
          "name": "stdout"
        },
        {
          "output_type": "stream",
          "text": [
            "\n",
            "  0%|          | 0/469 [00:00<?, ?it/s]"
          ],
          "name": "stderr"
        },
        {
          "output_type": "stream",
          "text": [
            "\n",
            "\n",
            "  TEST avg loss: 0.0363 test acc: 98.9600\n",
            "\n",
            "\n",
            "EPOCH : 15\n",
            "\n"
          ],
          "name": "stdout"
        },
        {
          "output_type": "stream",
          "text": [
            "loss=0.4350060224533081 batch_id=468: 100%|██████████| 469/469 [00:11<00:00, 39.57it/s]"
          ],
          "name": "stderr"
        },
        {
          "output_type": "stream",
          "text": [
            "\n",
            "\n",
            "  TRAIN avg loss: 0.0026 train acc: 98.6250\n",
            "\n"
          ],
          "name": "stdout"
        },
        {
          "output_type": "stream",
          "text": [
            "\n",
            "  0%|          | 0/469 [00:00<?, ?it/s]"
          ],
          "name": "stderr"
        },
        {
          "output_type": "stream",
          "text": [
            "\n",
            "\n",
            "  TEST avg loss: 0.0446 test acc: 98.6500\n",
            "\n",
            "\n",
            "EPOCH : 16\n",
            "\n"
          ],
          "name": "stdout"
        },
        {
          "output_type": "stream",
          "text": [
            "loss=0.3245909512042999 batch_id=468: 100%|██████████| 469/469 [00:11<00:00, 40.46it/s]"
          ],
          "name": "stderr"
        },
        {
          "output_type": "stream",
          "text": [
            "\n",
            "\n",
            "  TRAIN avg loss: 0.0026 train acc: 98.5617\n",
            "\n"
          ],
          "name": "stdout"
        },
        {
          "output_type": "stream",
          "text": [
            "\n",
            "  0%|          | 0/469 [00:00<?, ?it/s]"
          ],
          "name": "stderr"
        },
        {
          "output_type": "stream",
          "text": [
            "\n",
            "\n",
            "  TEST avg loss: 0.0404 test acc: 98.7600\n",
            "\n",
            "\n",
            "EPOCH : 17\n",
            "\n"
          ],
          "name": "stdout"
        },
        {
          "output_type": "stream",
          "text": [
            "loss=0.2875867187976837 batch_id=468: 100%|██████████| 469/469 [00:11<00:00, 40.29it/s]"
          ],
          "name": "stderr"
        },
        {
          "output_type": "stream",
          "text": [
            "\n",
            "\n",
            "  TRAIN avg loss: 0.0026 train acc: 98.5217\n",
            "\n"
          ],
          "name": "stdout"
        },
        {
          "output_type": "stream",
          "text": [
            "\n",
            "  0%|          | 0/469 [00:00<?, ?it/s]"
          ],
          "name": "stderr"
        },
        {
          "output_type": "stream",
          "text": [
            "\n",
            "\n",
            "  TEST avg loss: 0.0519 test acc: 98.4600\n",
            "\n",
            "\n",
            "EPOCH : 18\n",
            "\n"
          ],
          "name": "stdout"
        },
        {
          "output_type": "stream",
          "text": [
            "loss=0.32715147733688354 batch_id=468: 100%|██████████| 469/469 [00:11<00:00, 40.20it/s]"
          ],
          "name": "stderr"
        },
        {
          "output_type": "stream",
          "text": [
            "\n",
            "\n",
            "  TRAIN avg loss: 0.0025 train acc: 98.5017\n",
            "\n"
          ],
          "name": "stdout"
        },
        {
          "output_type": "stream",
          "text": [
            "\n",
            "  0%|          | 0/469 [00:00<?, ?it/s]"
          ],
          "name": "stderr"
        },
        {
          "output_type": "stream",
          "text": [
            "\n",
            "\n",
            "  TEST avg loss: 0.0483 test acc: 98.5400\n",
            "\n",
            "\n",
            "EPOCH : 19\n",
            "\n"
          ],
          "name": "stdout"
        },
        {
          "output_type": "stream",
          "text": [
            "loss=0.2410275638103485 batch_id=468: 100%|██████████| 469/469 [00:11<00:00, 40.44it/s]"
          ],
          "name": "stderr"
        },
        {
          "output_type": "stream",
          "text": [
            "\n",
            "\n",
            "  TRAIN avg loss: 0.0023 train acc: 98.9283\n",
            "\n"
          ],
          "name": "stdout"
        },
        {
          "output_type": "stream",
          "text": [
            "\n",
            "  0%|          | 0/469 [00:00<?, ?it/s]"
          ],
          "name": "stderr"
        },
        {
          "output_type": "stream",
          "text": [
            "  Best Model Saved!!!\n",
            "\n",
            "\n",
            "\n",
            "  TEST avg loss: 0.0255 test acc: 99.1700\n",
            "\n",
            "\n",
            "EPOCH : 20\n",
            "\n"
          ],
          "name": "stdout"
        },
        {
          "output_type": "stream",
          "text": [
            "loss=0.29389292001724243 batch_id=468: 100%|██████████| 469/469 [00:11<00:00, 39.71it/s]"
          ],
          "name": "stderr"
        },
        {
          "output_type": "stream",
          "text": [
            "\n",
            "\n",
            "  TRAIN avg loss: 0.0021 train acc: 99.1283\n",
            "\n"
          ],
          "name": "stdout"
        },
        {
          "output_type": "stream",
          "text": [
            "\n",
            "  0%|          | 0/469 [00:00<?, ?it/s]"
          ],
          "name": "stderr"
        },
        {
          "output_type": "stream",
          "text": [
            "  Best Model Saved!!!\n",
            "\n",
            "\n",
            "\n",
            "  TEST avg loss: 0.0243 test acc: 99.2200\n",
            "\n",
            "\n",
            "EPOCH : 21\n",
            "\n"
          ],
          "name": "stdout"
        },
        {
          "output_type": "stream",
          "text": [
            "loss=0.23145094513893127 batch_id=468: 100%|██████████| 469/469 [00:12<00:00, 38.64it/s]"
          ],
          "name": "stderr"
        },
        {
          "output_type": "stream",
          "text": [
            "\n",
            "\n",
            "  TRAIN avg loss: 0.0021 train acc: 99.1550\n",
            "\n"
          ],
          "name": "stdout"
        },
        {
          "output_type": "stream",
          "text": [
            "\n",
            "  0%|          | 0/469 [00:00<?, ?it/s]"
          ],
          "name": "stderr"
        },
        {
          "output_type": "stream",
          "text": [
            "  Best Model Saved!!!\n",
            "\n",
            "\n",
            "\n",
            "  TEST avg loss: 0.0253 test acc: 99.2200\n",
            "\n",
            "\n",
            "EPOCH : 22\n",
            "\n"
          ],
          "name": "stdout"
        },
        {
          "output_type": "stream",
          "text": [
            "loss=0.34858593344688416 batch_id=468: 100%|██████████| 469/469 [00:11<00:00, 39.66it/s]"
          ],
          "name": "stderr"
        },
        {
          "output_type": "stream",
          "text": [
            "\n",
            "\n",
            "  TRAIN avg loss: 0.0021 train acc: 99.1267\n",
            "\n"
          ],
          "name": "stdout"
        },
        {
          "output_type": "stream",
          "text": [
            "\n",
            "  0%|          | 0/469 [00:00<?, ?it/s]"
          ],
          "name": "stderr"
        },
        {
          "output_type": "stream",
          "text": [
            "  Best Model Saved!!!\n",
            "\n",
            "\n",
            "\n",
            "  TEST avg loss: 0.0245 test acc: 99.2600\n",
            "\n",
            "\n",
            "EPOCH : 23\n",
            "\n"
          ],
          "name": "stdout"
        },
        {
          "output_type": "stream",
          "text": [
            "loss=0.2359231561422348 batch_id=468: 100%|██████████| 469/469 [00:11<00:00, 39.99it/s]"
          ],
          "name": "stderr"
        },
        {
          "output_type": "stream",
          "text": [
            "\n",
            "\n",
            "  TRAIN avg loss: 0.0020 train acc: 99.1617\n",
            "\n"
          ],
          "name": "stdout"
        },
        {
          "output_type": "stream",
          "text": [
            "\n",
            "  0%|          | 0/469 [00:00<?, ?it/s]"
          ],
          "name": "stderr"
        },
        {
          "output_type": "stream",
          "text": [
            "\n",
            "\n",
            "  TEST avg loss: 0.0254 test acc: 99.1500\n",
            "\n",
            "\n",
            "EPOCH : 24\n",
            "\n"
          ],
          "name": "stdout"
        },
        {
          "output_type": "stream",
          "text": [
            "loss=0.2522872984409332 batch_id=468: 100%|██████████| 469/469 [00:11<00:00, 40.53it/s]"
          ],
          "name": "stderr"
        },
        {
          "output_type": "stream",
          "text": [
            "\n",
            "\n",
            "  TRAIN avg loss: 0.0020 train acc: 99.1833\n",
            "\n"
          ],
          "name": "stdout"
        },
        {
          "output_type": "stream",
          "text": [
            "\n",
            "  0%|          | 0/469 [00:00<?, ?it/s]"
          ],
          "name": "stderr"
        },
        {
          "output_type": "stream",
          "text": [
            "\n",
            "\n",
            "  TEST avg loss: 0.0257 test acc: 99.2300\n",
            "\n",
            "\n",
            "EPOCH : 25\n",
            "\n"
          ],
          "name": "stdout"
        },
        {
          "output_type": "stream",
          "text": [
            "loss=0.2950039207935333 batch_id=468: 100%|██████████| 469/469 [00:11<00:00, 40.66it/s]"
          ],
          "name": "stderr"
        },
        {
          "output_type": "stream",
          "text": [
            "\n",
            "\n",
            "  TRAIN avg loss: 0.0020 train acc: 99.1550\n",
            "\n"
          ],
          "name": "stdout"
        },
        {
          "output_type": "stream",
          "text": [
            "\n",
            "  0%|          | 0/235 [00:00<?, ?it/s]"
          ],
          "name": "stderr"
        },
        {
          "output_type": "stream",
          "text": [
            "\n",
            "\n",
            "  TEST avg loss: 0.0252 test acc: 99.2100\n",
            "\n",
            "##########\n",
            "\n",
            "\n",
            "\n",
            "##################################################\n",
            "\n",
            "l1_gbn\n",
            "--------------------------------------------------\n",
            "\n",
            "\n",
            "EPOCH : 1\n",
            "\n"
          ],
          "name": "stdout"
        },
        {
          "output_type": "stream",
          "text": [
            "loss=1.1226202249526978 batch_id=234: 100%|██████████| 235/235 [00:09<00:00, 24.41it/s]"
          ],
          "name": "stderr"
        },
        {
          "output_type": "stream",
          "text": [
            "\n",
            "\n",
            "  TRAIN avg loss: 0.0048 train acc: 90.3667\n",
            "\n"
          ],
          "name": "stdout"
        },
        {
          "output_type": "stream",
          "text": [
            "\n",
            "  0%|          | 0/235 [00:00<?, ?it/s]"
          ],
          "name": "stderr"
        },
        {
          "output_type": "stream",
          "text": [
            "  Best Model Saved!!!\n",
            "\n",
            "\n",
            "\n",
            "  TEST avg loss: 0.1260 test acc: 96.4200\n",
            "\n",
            "\n",
            "EPOCH : 2\n",
            "\n"
          ],
          "name": "stdout"
        },
        {
          "output_type": "stream",
          "text": [
            "loss=0.7553197741508484 batch_id=234: 100%|██████████| 235/235 [00:09<00:00, 23.73it/s]"
          ],
          "name": "stderr"
        },
        {
          "output_type": "stream",
          "text": [
            "\n",
            "\n",
            "  TRAIN avg loss: 0.0030 train acc: 96.4767\n",
            "\n"
          ],
          "name": "stdout"
        },
        {
          "output_type": "stream",
          "text": [
            "\n",
            "  0%|          | 0/235 [00:00<?, ?it/s]"
          ],
          "name": "stderr"
        },
        {
          "output_type": "stream",
          "text": [
            "  Best Model Saved!!!\n",
            "\n",
            "\n",
            "\n",
            "  TEST avg loss: 0.0913 test acc: 97.0900\n",
            "\n",
            "\n",
            "EPOCH : 3\n",
            "\n"
          ],
          "name": "stdout"
        },
        {
          "output_type": "stream",
          "text": [
            "loss=1.0496931076049805 batch_id=234: 100%|██████████| 235/235 [00:09<00:00, 24.28it/s]"
          ],
          "name": "stderr"
        },
        {
          "output_type": "stream",
          "text": [
            "\n",
            "\n",
            "  TRAIN avg loss: 0.0028 train acc: 96.8233\n",
            "\n"
          ],
          "name": "stdout"
        },
        {
          "output_type": "stream",
          "text": [
            "\n",
            "  0%|          | 0/235 [00:00<?, ?it/s]"
          ],
          "name": "stderr"
        },
        {
          "output_type": "stream",
          "text": [
            "\n",
            "\n",
            "  TEST avg loss: 0.2864 test acc: 91.1100\n",
            "\n",
            "\n",
            "EPOCH : 4\n",
            "\n"
          ],
          "name": "stdout"
        },
        {
          "output_type": "stream",
          "text": [
            "loss=0.9333494901657104 batch_id=234: 100%|██████████| 235/235 [00:09<00:00, 24.64it/s]"
          ],
          "name": "stderr"
        },
        {
          "output_type": "stream",
          "text": [
            "\n",
            "\n",
            "  TRAIN avg loss: 0.0027 train acc: 96.8150\n",
            "\n"
          ],
          "name": "stdout"
        },
        {
          "output_type": "stream",
          "text": [
            "\n",
            "  0%|          | 0/235 [00:00<?, ?it/s]"
          ],
          "name": "stderr"
        },
        {
          "output_type": "stream",
          "text": [
            "\n",
            "\n",
            "  TEST avg loss: 0.1136 test acc: 96.4300\n",
            "\n",
            "\n",
            "EPOCH : 5\n",
            "\n"
          ],
          "name": "stdout"
        },
        {
          "output_type": "stream",
          "text": [
            "loss=0.8609344959259033 batch_id=234: 100%|██████████| 235/235 [00:09<00:00, 24.41it/s]"
          ],
          "name": "stderr"
        },
        {
          "output_type": "stream",
          "text": [
            "\n",
            "\n",
            "  TRAIN avg loss: 0.0026 train acc: 97.0683\n",
            "\n"
          ],
          "name": "stdout"
        },
        {
          "output_type": "stream",
          "text": [
            "\n",
            "  0%|          | 0/235 [00:00<?, ?it/s]"
          ],
          "name": "stderr"
        },
        {
          "output_type": "stream",
          "text": [
            "\n",
            "\n",
            "  TEST avg loss: 0.1340 test acc: 95.8600\n",
            "\n",
            "\n",
            "EPOCH : 6\n",
            "\n"
          ],
          "name": "stdout"
        },
        {
          "output_type": "stream",
          "text": [
            "loss=0.8483238220214844 batch_id=234: 100%|██████████| 235/235 [00:09<00:00, 24.42it/s]"
          ],
          "name": "stderr"
        },
        {
          "output_type": "stream",
          "text": [
            "\n",
            "\n",
            "  TRAIN avg loss: 0.0026 train acc: 96.9033\n",
            "\n"
          ],
          "name": "stdout"
        },
        {
          "output_type": "stream",
          "text": [
            "\n",
            "  0%|          | 0/235 [00:00<?, ?it/s]"
          ],
          "name": "stderr"
        },
        {
          "output_type": "stream",
          "text": [
            "\n",
            "\n",
            "  TEST avg loss: 0.1366 test acc: 95.3700\n",
            "\n",
            "\n",
            "EPOCH : 7\n",
            "\n"
          ],
          "name": "stdout"
        },
        {
          "output_type": "stream",
          "text": [
            "loss=0.7917579412460327 batch_id=234: 100%|██████████| 235/235 [00:09<00:00, 24.62it/s]"
          ],
          "name": "stderr"
        },
        {
          "output_type": "stream",
          "text": [
            "\n",
            "\n",
            "  TRAIN avg loss: 0.0025 train acc: 97.1383\n",
            "\n"
          ],
          "name": "stdout"
        },
        {
          "output_type": "stream",
          "text": [
            "\n",
            "  0%|          | 0/235 [00:00<?, ?it/s]"
          ],
          "name": "stderr"
        },
        {
          "output_type": "stream",
          "text": [
            "\n",
            "\n",
            "  TEST avg loss: 0.2033 test acc: 94.0900\n",
            "\n",
            "\n",
            "EPOCH : 8\n",
            "\n"
          ],
          "name": "stdout"
        },
        {
          "output_type": "stream",
          "text": [
            "loss=0.7189745903015137 batch_id=234: 100%|██████████| 235/235 [00:09<00:00, 24.52it/s]"
          ],
          "name": "stderr"
        },
        {
          "output_type": "stream",
          "text": [
            "\n",
            "\n",
            "  TRAIN avg loss: 0.0024 train acc: 97.1667\n",
            "\n"
          ],
          "name": "stdout"
        },
        {
          "output_type": "stream",
          "text": [
            "\n",
            "  0%|          | 0/235 [00:00<?, ?it/s]"
          ],
          "name": "stderr"
        },
        {
          "output_type": "stream",
          "text": [
            "\n",
            "\n",
            "  TEST avg loss: 0.0973 test acc: 96.8700\n",
            "\n",
            "\n",
            "EPOCH : 9\n",
            "\n"
          ],
          "name": "stdout"
        },
        {
          "output_type": "stream",
          "text": [
            "loss=0.9274849891662598 batch_id=234: 100%|██████████| 235/235 [00:09<00:00, 23.91it/s]\n"
          ],
          "name": "stderr"
        },
        {
          "output_type": "stream",
          "text": [
            "\n",
            "\n",
            "  TRAIN avg loss: 0.0024 train acc: 97.1417\n",
            "\n"
          ],
          "name": "stdout"
        },
        {
          "output_type": "stream",
          "text": [
            "\r  0%|          | 0/235 [00:00<?, ?it/s]"
          ],
          "name": "stderr"
        },
        {
          "output_type": "stream",
          "text": [
            "\n",
            "\n",
            "  TEST avg loss: 0.1315 test acc: 96.0100\n",
            "\n",
            "\n",
            "EPOCH : 10\n",
            "\n"
          ],
          "name": "stdout"
        },
        {
          "output_type": "stream",
          "text": [
            "loss=0.6570826768875122 batch_id=234: 100%|██████████| 235/235 [00:09<00:00, 24.21it/s]"
          ],
          "name": "stderr"
        },
        {
          "output_type": "stream",
          "text": [
            "\n",
            "\n",
            "  TRAIN avg loss: 0.0019 train acc: 98.3433\n",
            "\n"
          ],
          "name": "stdout"
        },
        {
          "output_type": "stream",
          "text": [
            "\n",
            "  0%|          | 0/235 [00:00<?, ?it/s]"
          ],
          "name": "stderr"
        },
        {
          "output_type": "stream",
          "text": [
            "  Best Model Saved!!!\n",
            "\n",
            "\n",
            "\n",
            "  TEST avg loss: 0.0285 test acc: 99.2000\n",
            "\n",
            "\n",
            "EPOCH : 11\n",
            "\n"
          ],
          "name": "stdout"
        },
        {
          "output_type": "stream",
          "text": [
            "loss=0.5267325043678284 batch_id=234: 100%|██████████| 235/235 [00:09<00:00, 24.32it/s]"
          ],
          "name": "stderr"
        },
        {
          "output_type": "stream",
          "text": [
            "\n",
            "\n",
            "  TRAIN avg loss: 0.0017 train acc: 98.5417\n",
            "\n"
          ],
          "name": "stdout"
        },
        {
          "output_type": "stream",
          "text": [
            "\n",
            "  0%|          | 0/235 [00:00<?, ?it/s]"
          ],
          "name": "stderr"
        },
        {
          "output_type": "stream",
          "text": [
            "\n",
            "\n",
            "  TEST avg loss: 0.0357 test acc: 98.9700\n",
            "\n",
            "\n",
            "EPOCH : 12\n",
            "\n"
          ],
          "name": "stdout"
        },
        {
          "output_type": "stream",
          "text": [
            "loss=0.43423593044281006 batch_id=234: 100%|██████████| 235/235 [00:09<00:00, 24.57it/s]"
          ],
          "name": "stderr"
        },
        {
          "output_type": "stream",
          "text": [
            "\n",
            "\n",
            "  TRAIN avg loss: 0.0016 train acc: 98.4583\n",
            "\n"
          ],
          "name": "stdout"
        },
        {
          "output_type": "stream",
          "text": [
            "\n",
            "  0%|          | 0/235 [00:00<?, ?it/s]"
          ],
          "name": "stderr"
        },
        {
          "output_type": "stream",
          "text": [
            "\n",
            "\n",
            "  TEST avg loss: 0.0312 test acc: 99.1000\n",
            "\n",
            "\n",
            "EPOCH : 13\n",
            "\n"
          ],
          "name": "stdout"
        },
        {
          "output_type": "stream",
          "text": [
            "loss=0.6439389586448669 batch_id=234: 100%|██████████| 235/235 [00:09<00:00, 24.33it/s]"
          ],
          "name": "stderr"
        },
        {
          "output_type": "stream",
          "text": [
            "\n",
            "\n",
            "  TRAIN avg loss: 0.0016 train acc: 98.5233\n",
            "\n"
          ],
          "name": "stdout"
        },
        {
          "output_type": "stream",
          "text": [
            "\n",
            "  0%|          | 0/235 [00:00<?, ?it/s]"
          ],
          "name": "stderr"
        },
        {
          "output_type": "stream",
          "text": [
            "\n",
            "\n",
            "  TEST avg loss: 0.0344 test acc: 99.0200\n",
            "\n",
            "\n",
            "EPOCH : 14\n",
            "\n"
          ],
          "name": "stdout"
        },
        {
          "output_type": "stream",
          "text": [
            "loss=0.5591174364089966 batch_id=234: 100%|██████████| 235/235 [00:09<00:00, 24.46it/s]"
          ],
          "name": "stderr"
        },
        {
          "output_type": "stream",
          "text": [
            "\n",
            "\n",
            "  TRAIN avg loss: 0.0015 train acc: 98.4867\n",
            "\n"
          ],
          "name": "stdout"
        },
        {
          "output_type": "stream",
          "text": [
            "\n",
            "  0%|          | 0/235 [00:00<?, ?it/s]"
          ],
          "name": "stderr"
        },
        {
          "output_type": "stream",
          "text": [
            "\n",
            "\n",
            "  TEST avg loss: 0.0374 test acc: 98.8600\n",
            "\n",
            "\n",
            "EPOCH : 15\n",
            "\n"
          ],
          "name": "stdout"
        },
        {
          "output_type": "stream",
          "text": [
            "loss=0.36040636897087097 batch_id=234: 100%|██████████| 235/235 [00:09<00:00, 24.38it/s]"
          ],
          "name": "stderr"
        },
        {
          "output_type": "stream",
          "text": [
            "\n",
            "\n",
            "  TRAIN avg loss: 0.0015 train acc: 98.4267\n",
            "\n"
          ],
          "name": "stdout"
        },
        {
          "output_type": "stream",
          "text": [
            "\n",
            "  0%|          | 0/235 [00:00<?, ?it/s]"
          ],
          "name": "stderr"
        },
        {
          "output_type": "stream",
          "text": [
            "\n",
            "\n",
            "  TEST avg loss: 0.0327 test acc: 99.0900\n",
            "\n",
            "\n",
            "EPOCH : 16\n",
            "\n"
          ],
          "name": "stdout"
        },
        {
          "output_type": "stream",
          "text": [
            "loss=0.4701007604598999 batch_id=234: 100%|██████████| 235/235 [00:09<00:00, 24.47it/s]\n"
          ],
          "name": "stderr"
        },
        {
          "output_type": "stream",
          "text": [
            "\n",
            "\n",
            "  TRAIN avg loss: 0.0015 train acc: 98.3917\n",
            "\n"
          ],
          "name": "stdout"
        },
        {
          "output_type": "stream",
          "text": [
            "\r  0%|          | 0/235 [00:00<?, ?it/s]"
          ],
          "name": "stderr"
        },
        {
          "output_type": "stream",
          "text": [
            "\n",
            "\n",
            "  TEST avg loss: 0.0354 test acc: 98.9900\n",
            "\n",
            "\n",
            "EPOCH : 17\n",
            "\n"
          ],
          "name": "stdout"
        },
        {
          "output_type": "stream",
          "text": [
            "loss=0.6714197993278503 batch_id=234: 100%|██████████| 235/235 [00:09<00:00, 24.15it/s]"
          ],
          "name": "stderr"
        },
        {
          "output_type": "stream",
          "text": [
            "\n",
            "\n",
            "  TRAIN avg loss: 0.0015 train acc: 98.3483\n",
            "\n"
          ],
          "name": "stdout"
        },
        {
          "output_type": "stream",
          "text": [
            "\n",
            "  0%|          | 0/235 [00:00<?, ?it/s]"
          ],
          "name": "stderr"
        },
        {
          "output_type": "stream",
          "text": [
            "\n",
            "\n",
            "  TEST avg loss: 0.0473 test acc: 98.6700\n",
            "\n",
            "\n",
            "EPOCH : 18\n",
            "\n"
          ],
          "name": "stdout"
        },
        {
          "output_type": "stream",
          "text": [
            "loss=0.48577457666397095 batch_id=234: 100%|██████████| 235/235 [00:09<00:00, 24.58it/s]"
          ],
          "name": "stderr"
        },
        {
          "output_type": "stream",
          "text": [
            "\n",
            "\n",
            "  TRAIN avg loss: 0.0014 train acc: 98.4483\n",
            "\n"
          ],
          "name": "stdout"
        },
        {
          "output_type": "stream",
          "text": [
            "\n",
            "  0%|          | 0/235 [00:00<?, ?it/s]"
          ],
          "name": "stderr"
        },
        {
          "output_type": "stream",
          "text": [
            "\n",
            "\n",
            "  TEST avg loss: 0.0475 test acc: 98.4400\n",
            "\n",
            "\n",
            "EPOCH : 19\n",
            "\n"
          ],
          "name": "stdout"
        },
        {
          "output_type": "stream",
          "text": [
            "loss=0.4033482074737549 batch_id=234: 100%|██████████| 235/235 [00:09<00:00, 24.55it/s]\n"
          ],
          "name": "stderr"
        },
        {
          "output_type": "stream",
          "text": [
            "\n",
            "\n",
            "  TRAIN avg loss: 0.0013 train acc: 98.7250\n",
            "\n"
          ],
          "name": "stdout"
        },
        {
          "output_type": "stream",
          "text": [
            "\r  0%|          | 0/235 [00:00<?, ?it/s]"
          ],
          "name": "stderr"
        },
        {
          "output_type": "stream",
          "text": [
            "  Best Model Saved!!!\n",
            "\n",
            "\n",
            "\n",
            "  TEST avg loss: 0.0250 test acc: 99.3200\n",
            "\n",
            "\n",
            "EPOCH : 20\n",
            "\n"
          ],
          "name": "stdout"
        },
        {
          "output_type": "stream",
          "text": [
            "loss=0.33538976311683655 batch_id=234: 100%|██████████| 235/235 [00:09<00:00, 24.13it/s]"
          ],
          "name": "stderr"
        },
        {
          "output_type": "stream",
          "text": [
            "\n",
            "\n",
            "  TRAIN avg loss: 0.0013 train acc: 98.8200\n",
            "\n"
          ],
          "name": "stdout"
        },
        {
          "output_type": "stream",
          "text": [
            "\n",
            "  0%|          | 0/235 [00:00<?, ?it/s]"
          ],
          "name": "stderr"
        },
        {
          "output_type": "stream",
          "text": [
            "\n",
            "\n",
            "  TEST avg loss: 0.0247 test acc: 99.2500\n",
            "\n",
            "\n",
            "EPOCH : 21\n",
            "\n"
          ],
          "name": "stdout"
        },
        {
          "output_type": "stream",
          "text": [
            "loss=0.42527371644973755 batch_id=234: 100%|██████████| 235/235 [00:09<00:00, 24.68it/s]"
          ],
          "name": "stderr"
        },
        {
          "output_type": "stream",
          "text": [
            "\n",
            "\n",
            "  TRAIN avg loss: 0.0013 train acc: 98.8633\n",
            "\n"
          ],
          "name": "stdout"
        },
        {
          "output_type": "stream",
          "text": [
            "\n",
            "  0%|          | 0/235 [00:00<?, ?it/s]"
          ],
          "name": "stderr"
        },
        {
          "output_type": "stream",
          "text": [
            "\n",
            "\n",
            "  TEST avg loss: 0.0251 test acc: 99.2800\n",
            "\n",
            "\n",
            "EPOCH : 22\n",
            "\n"
          ],
          "name": "stdout"
        },
        {
          "output_type": "stream",
          "text": [
            "loss=0.31606853008270264 batch_id=234: 100%|██████████| 235/235 [00:09<00:00, 24.58it/s]"
          ],
          "name": "stderr"
        },
        {
          "output_type": "stream",
          "text": [
            "\n",
            "\n",
            "  TRAIN avg loss: 0.0012 train acc: 98.8733\n",
            "\n"
          ],
          "name": "stdout"
        },
        {
          "output_type": "stream",
          "text": [
            "\n",
            "  0%|          | 0/235 [00:00<?, ?it/s]"
          ],
          "name": "stderr"
        },
        {
          "output_type": "stream",
          "text": [
            "\n",
            "\n",
            "  TEST avg loss: 0.0245 test acc: 99.3000\n",
            "\n",
            "\n",
            "EPOCH : 23\n",
            "\n"
          ],
          "name": "stdout"
        },
        {
          "output_type": "stream",
          "text": [
            "loss=0.39191994071006775 batch_id=234: 100%|██████████| 235/235 [00:09<00:00, 23.90it/s]"
          ],
          "name": "stderr"
        },
        {
          "output_type": "stream",
          "text": [
            "\n",
            "\n",
            "  TRAIN avg loss: 0.0012 train acc: 98.8550\n",
            "\n"
          ],
          "name": "stdout"
        },
        {
          "output_type": "stream",
          "text": [
            "\n",
            "  0%|          | 0/235 [00:00<?, ?it/s]"
          ],
          "name": "stderr"
        },
        {
          "output_type": "stream",
          "text": [
            "\n",
            "\n",
            "  TEST avg loss: 0.0254 test acc: 99.2200\n",
            "\n",
            "\n",
            "EPOCH : 24\n",
            "\n"
          ],
          "name": "stdout"
        },
        {
          "output_type": "stream",
          "text": [
            "loss=0.33799031376838684 batch_id=234: 100%|██████████| 235/235 [00:09<00:00, 24.17it/s]"
          ],
          "name": "stderr"
        },
        {
          "output_type": "stream",
          "text": [
            "\n",
            "\n",
            "  TRAIN avg loss: 0.0012 train acc: 98.8550\n",
            "\n"
          ],
          "name": "stdout"
        },
        {
          "output_type": "stream",
          "text": [
            "\n",
            "  0%|          | 0/235 [00:00<?, ?it/s]"
          ],
          "name": "stderr"
        },
        {
          "output_type": "stream",
          "text": [
            "\n",
            "\n",
            "  TEST avg loss: 0.0245 test acc: 99.3100\n",
            "\n",
            "\n",
            "EPOCH : 25\n",
            "\n"
          ],
          "name": "stdout"
        },
        {
          "output_type": "stream",
          "text": [
            "loss=0.31893524527549744 batch_id=234: 100%|██████████| 235/235 [00:09<00:00, 24.15it/s]"
          ],
          "name": "stderr"
        },
        {
          "output_type": "stream",
          "text": [
            "\n",
            "\n",
            "  TRAIN avg loss: 0.0012 train acc: 98.8933\n",
            "\n"
          ],
          "name": "stdout"
        },
        {
          "output_type": "stream",
          "text": [
            "\n",
            "  0%|          | 0/469 [00:00<?, ?it/s]"
          ],
          "name": "stderr"
        },
        {
          "output_type": "stream",
          "text": [
            "\n",
            "\n",
            "  TEST avg loss: 0.0255 test acc: 99.2900\n",
            "\n",
            "##########\n",
            "\n",
            "\n",
            "\n",
            "##################################################\n",
            "\n",
            "l2_bn\n",
            "--------------------------------------------------\n",
            "\n",
            "\n",
            "EPOCH : 1\n",
            "\n"
          ],
          "name": "stdout"
        },
        {
          "output_type": "stream",
          "text": [
            "loss=0.29077839851379395 batch_id=468: 100%|██████████| 469/469 [00:11<00:00, 39.60it/s]"
          ],
          "name": "stderr"
        },
        {
          "output_type": "stream",
          "text": [
            "\n",
            "\n",
            "  TRAIN avg loss: 0.0034 train acc: 94.6467\n",
            "\n"
          ],
          "name": "stdout"
        },
        {
          "output_type": "stream",
          "text": [
            "\n",
            "  0%|          | 0/469 [00:00<?, ?it/s]"
          ],
          "name": "stderr"
        },
        {
          "output_type": "stream",
          "text": [
            "  Best Model Saved!!!\n",
            "\n",
            "\n",
            "\n",
            "  TEST avg loss: 0.0585 test acc: 98.0300\n",
            "\n",
            "\n",
            "EPOCH : 2\n",
            "\n"
          ],
          "name": "stdout"
        },
        {
          "output_type": "stream",
          "text": [
            "loss=0.14367125928401947 batch_id=468: 100%|██████████| 469/469 [00:11<00:00, 39.32it/s]"
          ],
          "name": "stderr"
        },
        {
          "output_type": "stream",
          "text": [
            "\n",
            "\n",
            "  TRAIN avg loss: 0.0014 train acc: 98.3600\n",
            "\n"
          ],
          "name": "stdout"
        },
        {
          "output_type": "stream",
          "text": [
            "\n",
            "  0%|          | 0/469 [00:00<?, ?it/s]"
          ],
          "name": "stderr"
        },
        {
          "output_type": "stream",
          "text": [
            "  Best Model Saved!!!\n",
            "\n",
            "\n",
            "\n",
            "  TEST avg loss: 0.0574 test acc: 98.0800\n",
            "\n",
            "\n",
            "EPOCH : 3\n",
            "\n"
          ],
          "name": "stdout"
        },
        {
          "output_type": "stream",
          "text": [
            "loss=0.1453833431005478 batch_id=468: 100%|██████████| 469/469 [00:11<00:00, 39.15it/s]"
          ],
          "name": "stderr"
        },
        {
          "output_type": "stream",
          "text": [
            "\n",
            "\n",
            "  TRAIN avg loss: 0.0013 train acc: 98.7233\n",
            "\n"
          ],
          "name": "stdout"
        },
        {
          "output_type": "stream",
          "text": [
            "\n",
            "  0%|          | 0/469 [00:00<?, ?it/s]"
          ],
          "name": "stderr"
        },
        {
          "output_type": "stream",
          "text": [
            "  Best Model Saved!!!\n",
            "\n",
            "\n",
            "\n",
            "  TEST avg loss: 0.0337 test acc: 98.8400\n",
            "\n",
            "\n",
            "EPOCH : 4\n",
            "\n"
          ],
          "name": "stdout"
        },
        {
          "output_type": "stream",
          "text": [
            "loss=0.15411244332790375 batch_id=468: 100%|██████████| 469/469 [00:11<00:00, 39.24it/s]\n"
          ],
          "name": "stderr"
        },
        {
          "output_type": "stream",
          "text": [
            "\n",
            "\n",
            "  TRAIN avg loss: 0.0012 train acc: 98.8483\n",
            "\n"
          ],
          "name": "stdout"
        },
        {
          "output_type": "stream",
          "text": [
            "\r  0%|          | 0/469 [00:00<?, ?it/s]"
          ],
          "name": "stderr"
        },
        {
          "output_type": "stream",
          "text": [
            "  Best Model Saved!!!\n",
            "\n",
            "\n",
            "\n",
            "  TEST avg loss: 0.0298 test acc: 99.0500\n",
            "\n",
            "\n",
            "EPOCH : 5\n",
            "\n"
          ],
          "name": "stdout"
        },
        {
          "output_type": "stream",
          "text": [
            "loss=0.17598585784435272 batch_id=468: 100%|██████████| 469/469 [00:12<00:00, 38.99it/s]"
          ],
          "name": "stderr"
        },
        {
          "output_type": "stream",
          "text": [
            "\n",
            "\n",
            "  TRAIN avg loss: 0.0012 train acc: 98.9583\n",
            "\n"
          ],
          "name": "stdout"
        },
        {
          "output_type": "stream",
          "text": [
            "\n",
            "  0%|          | 0/469 [00:00<?, ?it/s]"
          ],
          "name": "stderr"
        },
        {
          "output_type": "stream",
          "text": [
            "\n",
            "\n",
            "  TEST avg loss: 0.0646 test acc: 97.9400\n",
            "\n",
            "\n",
            "EPOCH : 6\n",
            "\n"
          ],
          "name": "stdout"
        },
        {
          "output_type": "stream",
          "text": [
            "loss=0.2151159942150116 batch_id=468: 100%|██████████| 469/469 [00:11<00:00, 40.16it/s]"
          ],
          "name": "stderr"
        },
        {
          "output_type": "stream",
          "text": [
            "\n",
            "\n",
            "  TRAIN avg loss: 0.0012 train acc: 99.0433\n",
            "\n"
          ],
          "name": "stdout"
        },
        {
          "output_type": "stream",
          "text": [
            "\n",
            "  0%|          | 0/469 [00:00<?, ?it/s]"
          ],
          "name": "stderr"
        },
        {
          "output_type": "stream",
          "text": [
            "\n",
            "\n",
            "  TEST avg loss: 0.0402 test acc: 98.6800\n",
            "\n",
            "\n",
            "EPOCH : 7\n",
            "\n"
          ],
          "name": "stdout"
        },
        {
          "output_type": "stream",
          "text": [
            "loss=0.21063226461410522 batch_id=468: 100%|██████████| 469/469 [00:11<00:00, 39.97it/s]"
          ],
          "name": "stderr"
        },
        {
          "output_type": "stream",
          "text": [
            "\n",
            "\n",
            "  TRAIN avg loss: 0.0011 train acc: 99.0667\n",
            "\n"
          ],
          "name": "stdout"
        },
        {
          "output_type": "stream",
          "text": [
            "\n",
            "  0%|          | 0/469 [00:00<?, ?it/s]"
          ],
          "name": "stderr"
        },
        {
          "output_type": "stream",
          "text": [
            "\n",
            "\n",
            "  TEST avg loss: 0.0312 test acc: 99.0400\n",
            "\n",
            "\n",
            "EPOCH : 8\n",
            "\n"
          ],
          "name": "stdout"
        },
        {
          "output_type": "stream",
          "text": [
            "loss=0.283206045627594 batch_id=468: 100%|██████████| 469/469 [00:11<00:00, 39.91it/s]"
          ],
          "name": "stderr"
        },
        {
          "output_type": "stream",
          "text": [
            "\n",
            "\n",
            "  TRAIN avg loss: 0.0011 train acc: 99.0667\n",
            "\n"
          ],
          "name": "stdout"
        },
        {
          "output_type": "stream",
          "text": [
            "\n",
            "  0%|          | 0/469 [00:00<?, ?it/s]"
          ],
          "name": "stderr"
        },
        {
          "output_type": "stream",
          "text": [
            "\n",
            "\n",
            "  TEST avg loss: 0.0397 test acc: 98.7700\n",
            "\n",
            "\n",
            "EPOCH : 9\n",
            "\n"
          ],
          "name": "stdout"
        },
        {
          "output_type": "stream",
          "text": [
            "loss=0.23365889489650726 batch_id=468: 100%|██████████| 469/469 [00:11<00:00, 40.16it/s]"
          ],
          "name": "stderr"
        },
        {
          "output_type": "stream",
          "text": [
            "\n",
            "\n",
            "  TRAIN avg loss: 0.0011 train acc: 99.0917\n",
            "\n"
          ],
          "name": "stdout"
        },
        {
          "output_type": "stream",
          "text": [
            "\n",
            "  0%|          | 0/469 [00:00<?, ?it/s]"
          ],
          "name": "stderr"
        },
        {
          "output_type": "stream",
          "text": [
            "  Best Model Saved!!!\n",
            "\n",
            "\n",
            "\n",
            "  TEST avg loss: 0.0261 test acc: 99.1800\n",
            "\n",
            "\n",
            "EPOCH : 10\n",
            "\n"
          ],
          "name": "stdout"
        },
        {
          "output_type": "stream",
          "text": [
            "loss=0.09051970392465591 batch_id=468: 100%|██████████| 469/469 [00:11<00:00, 39.62it/s]"
          ],
          "name": "stderr"
        },
        {
          "output_type": "stream",
          "text": [
            "\n",
            "\n",
            "  TRAIN avg loss: 0.0009 train acc: 99.4950\n",
            "\n"
          ],
          "name": "stdout"
        },
        {
          "output_type": "stream",
          "text": [
            "\n",
            "  0%|          | 0/469 [00:00<?, ?it/s]"
          ],
          "name": "stderr"
        },
        {
          "output_type": "stream",
          "text": [
            "  Best Model Saved!!!\n",
            "\n",
            "\n",
            "\n",
            "  TEST avg loss: 0.0170 test acc: 99.5100\n",
            "\n",
            "\n",
            "EPOCH : 11\n",
            "\n"
          ],
          "name": "stdout"
        },
        {
          "output_type": "stream",
          "text": [
            "loss=0.10208265483379364 batch_id=468: 100%|██████████| 469/469 [00:11<00:00, 39.32it/s]"
          ],
          "name": "stderr"
        },
        {
          "output_type": "stream",
          "text": [
            "\n",
            "\n",
            "  TRAIN avg loss: 0.0009 train acc: 99.6067\n",
            "\n"
          ],
          "name": "stdout"
        },
        {
          "output_type": "stream",
          "text": [
            "\n",
            "  0%|          | 0/469 [00:00<?, ?it/s]"
          ],
          "name": "stderr"
        },
        {
          "output_type": "stream",
          "text": [
            "\n",
            "\n",
            "  TEST avg loss: 0.0176 test acc: 99.4400\n",
            "\n",
            "\n",
            "EPOCH : 12\n",
            "\n"
          ],
          "name": "stdout"
        },
        {
          "output_type": "stream",
          "text": [
            "loss=0.35590463876724243 batch_id=468: 100%|██████████| 469/469 [00:11<00:00, 39.79it/s]"
          ],
          "name": "stderr"
        },
        {
          "output_type": "stream",
          "text": [
            "\n",
            "\n",
            "  TRAIN avg loss: 0.0009 train acc: 99.6300\n",
            "\n"
          ],
          "name": "stdout"
        },
        {
          "output_type": "stream",
          "text": [
            "\n",
            "  0%|          | 0/469 [00:00<?, ?it/s]"
          ],
          "name": "stderr"
        },
        {
          "output_type": "stream",
          "text": [
            "\n",
            "\n",
            "  TEST avg loss: 0.0165 test acc: 99.4800\n",
            "\n",
            "\n",
            "EPOCH : 13\n",
            "\n"
          ],
          "name": "stdout"
        },
        {
          "output_type": "stream",
          "text": [
            "loss=0.09646424651145935 batch_id=468: 100%|██████████| 469/469 [00:11<00:00, 40.02it/s]"
          ],
          "name": "stderr"
        },
        {
          "output_type": "stream",
          "text": [
            "\n",
            "\n",
            "  TRAIN avg loss: 0.0009 train acc: 99.6417\n",
            "\n"
          ],
          "name": "stdout"
        },
        {
          "output_type": "stream",
          "text": [
            "\n",
            "  0%|          | 0/469 [00:00<?, ?it/s]"
          ],
          "name": "stderr"
        },
        {
          "output_type": "stream",
          "text": [
            "\n",
            "\n",
            "  TEST avg loss: 0.0171 test acc: 99.4300\n",
            "\n",
            "\n",
            "EPOCH : 14\n",
            "\n"
          ],
          "name": "stdout"
        },
        {
          "output_type": "stream",
          "text": [
            "loss=0.08542445302009583 batch_id=468: 100%|██████████| 469/469 [00:11<00:00, 40.02it/s]"
          ],
          "name": "stderr"
        },
        {
          "output_type": "stream",
          "text": [
            "\n",
            "\n",
            "  TRAIN avg loss: 0.0008 train acc: 99.6383\n",
            "\n"
          ],
          "name": "stdout"
        },
        {
          "output_type": "stream",
          "text": [
            "\n",
            "  0%|          | 0/469 [00:00<?, ?it/s]"
          ],
          "name": "stderr"
        },
        {
          "output_type": "stream",
          "text": [
            "  Best Model Saved!!!\n",
            "\n",
            "\n",
            "\n",
            "  TEST avg loss: 0.0157 test acc: 99.5300\n",
            "\n",
            "\n",
            "EPOCH : 15\n",
            "\n"
          ],
          "name": "stdout"
        },
        {
          "output_type": "stream",
          "text": [
            "loss=0.12612000107765198 batch_id=468: 100%|██████████| 469/469 [00:11<00:00, 39.82it/s]"
          ],
          "name": "stderr"
        },
        {
          "output_type": "stream",
          "text": [
            "\n",
            "\n",
            "  TRAIN avg loss: 0.0008 train acc: 99.6550\n",
            "\n"
          ],
          "name": "stdout"
        },
        {
          "output_type": "stream",
          "text": [
            "\n",
            "  0%|          | 0/469 [00:00<?, ?it/s]"
          ],
          "name": "stderr"
        },
        {
          "output_type": "stream",
          "text": [
            "\n",
            "\n",
            "  TEST avg loss: 0.0168 test acc: 99.4600\n",
            "\n",
            "\n",
            "EPOCH : 16\n",
            "\n"
          ],
          "name": "stdout"
        },
        {
          "output_type": "stream",
          "text": [
            "loss=0.128606915473938 batch_id=468: 100%|██████████| 469/469 [00:11<00:00, 39.76it/s]"
          ],
          "name": "stderr"
        },
        {
          "output_type": "stream",
          "text": [
            "\n",
            "\n",
            "  TRAIN avg loss: 0.0008 train acc: 99.6500\n",
            "\n"
          ],
          "name": "stdout"
        },
        {
          "output_type": "stream",
          "text": [
            "\n",
            "  0%|          | 0/469 [00:00<?, ?it/s]"
          ],
          "name": "stderr"
        },
        {
          "output_type": "stream",
          "text": [
            "\n",
            "\n",
            "  TEST avg loss: 0.0166 test acc: 99.4900\n",
            "\n",
            "\n",
            "EPOCH : 17\n",
            "\n"
          ],
          "name": "stdout"
        },
        {
          "output_type": "stream",
          "text": [
            "loss=0.14577718079090118 batch_id=468: 100%|██████████| 469/469 [00:11<00:00, 39.72it/s]"
          ],
          "name": "stderr"
        },
        {
          "output_type": "stream",
          "text": [
            "\n",
            "\n",
            "  TRAIN avg loss: 0.0008 train acc: 99.7050\n",
            "\n"
          ],
          "name": "stdout"
        },
        {
          "output_type": "stream",
          "text": [
            "\n",
            "  0%|          | 0/469 [00:00<?, ?it/s]"
          ],
          "name": "stderr"
        },
        {
          "output_type": "stream",
          "text": [
            "\n",
            "\n",
            "  TEST avg loss: 0.0164 test acc: 99.5000\n",
            "\n",
            "\n",
            "EPOCH : 18\n",
            "\n"
          ],
          "name": "stdout"
        },
        {
          "output_type": "stream",
          "text": [
            "loss=0.0896577462553978 batch_id=468: 100%|██████████| 469/469 [00:11<00:00, 39.92it/s]"
          ],
          "name": "stderr"
        },
        {
          "output_type": "stream",
          "text": [
            "\n",
            "\n",
            "  TRAIN avg loss: 0.0008 train acc: 99.6933\n",
            "\n"
          ],
          "name": "stdout"
        },
        {
          "output_type": "stream",
          "text": [
            "\n",
            "  0%|          | 0/469 [00:00<?, ?it/s]"
          ],
          "name": "stderr"
        },
        {
          "output_type": "stream",
          "text": [
            "\n",
            "\n",
            "  TEST avg loss: 0.0163 test acc: 99.4900\n",
            "\n",
            "\n",
            "EPOCH : 19\n",
            "\n"
          ],
          "name": "stdout"
        },
        {
          "output_type": "stream",
          "text": [
            "loss=0.08433165401220322 batch_id=468: 100%|██████████| 469/469 [00:11<00:00, 40.19it/s]\n"
          ],
          "name": "stderr"
        },
        {
          "output_type": "stream",
          "text": [
            "\n",
            "\n",
            "  TRAIN avg loss: 0.0008 train acc: 99.7450\n",
            "\n"
          ],
          "name": "stdout"
        },
        {
          "output_type": "stream",
          "text": [
            "\r  0%|          | 0/469 [00:00<?, ?it/s]"
          ],
          "name": "stderr"
        },
        {
          "output_type": "stream",
          "text": [
            "\n",
            "\n",
            "  TEST avg loss: 0.0161 test acc: 99.5100\n",
            "\n",
            "\n",
            "EPOCH : 20\n",
            "\n"
          ],
          "name": "stdout"
        },
        {
          "output_type": "stream",
          "text": [
            "loss=0.08648070693016052 batch_id=468: 100%|██████████| 469/469 [00:11<00:00, 40.06it/s]"
          ],
          "name": "stderr"
        },
        {
          "output_type": "stream",
          "text": [
            "\n",
            "\n",
            "  TRAIN avg loss: 0.0008 train acc: 99.7400\n",
            "\n"
          ],
          "name": "stdout"
        },
        {
          "output_type": "stream",
          "text": [
            "\n",
            "  0%|          | 0/469 [00:00<?, ?it/s]"
          ],
          "name": "stderr"
        },
        {
          "output_type": "stream",
          "text": [
            "  Best Model Saved!!!\n",
            "\n",
            "\n",
            "\n",
            "  TEST avg loss: 0.0158 test acc: 99.5300\n",
            "\n",
            "\n",
            "EPOCH : 21\n",
            "\n"
          ],
          "name": "stdout"
        },
        {
          "output_type": "stream",
          "text": [
            "loss=0.08860354870557785 batch_id=468: 100%|██████████| 469/469 [00:11<00:00, 39.23it/s]"
          ],
          "name": "stderr"
        },
        {
          "output_type": "stream",
          "text": [
            "\n",
            "\n",
            "  TRAIN avg loss: 0.0008 train acc: 99.7300\n",
            "\n"
          ],
          "name": "stdout"
        },
        {
          "output_type": "stream",
          "text": [
            "\n",
            "  0%|          | 0/469 [00:00<?, ?it/s]"
          ],
          "name": "stderr"
        },
        {
          "output_type": "stream",
          "text": [
            "  Best Model Saved!!!\n",
            "\n",
            "\n",
            "\n",
            "  TEST avg loss: 0.0160 test acc: 99.5400\n",
            "\n",
            "\n",
            "EPOCH : 22\n",
            "\n"
          ],
          "name": "stdout"
        },
        {
          "output_type": "stream",
          "text": [
            "loss=0.09225540608167648 batch_id=468: 100%|██████████| 469/469 [00:12<00:00, 38.99it/s]"
          ],
          "name": "stderr"
        },
        {
          "output_type": "stream",
          "text": [
            "\n",
            "\n",
            "  TRAIN avg loss: 0.0008 train acc: 99.7800\n",
            "\n"
          ],
          "name": "stdout"
        },
        {
          "output_type": "stream",
          "text": [
            "\n",
            "  0%|          | 0/469 [00:00<?, ?it/s]"
          ],
          "name": "stderr"
        },
        {
          "output_type": "stream",
          "text": [
            "\n",
            "\n",
            "  TEST avg loss: 0.0160 test acc: 99.5200\n",
            "\n",
            "\n",
            "EPOCH : 23\n",
            "\n"
          ],
          "name": "stdout"
        },
        {
          "output_type": "stream",
          "text": [
            "loss=0.08167564868927002 batch_id=468: 100%|██████████| 469/469 [00:11<00:00, 39.72it/s]"
          ],
          "name": "stderr"
        },
        {
          "output_type": "stream",
          "text": [
            "\n",
            "\n",
            "  TRAIN avg loss: 0.0008 train acc: 99.7500\n",
            "\n"
          ],
          "name": "stdout"
        },
        {
          "output_type": "stream",
          "text": [
            "\n",
            "  0%|          | 0/469 [00:00<?, ?it/s]"
          ],
          "name": "stderr"
        },
        {
          "output_type": "stream",
          "text": [
            "\n",
            "\n",
            "  TEST avg loss: 0.0162 test acc: 99.5100\n",
            "\n",
            "\n",
            "EPOCH : 24\n",
            "\n"
          ],
          "name": "stdout"
        },
        {
          "output_type": "stream",
          "text": [
            "loss=0.08504380285739899 batch_id=468: 100%|██████████| 469/469 [00:11<00:00, 39.86it/s]"
          ],
          "name": "stderr"
        },
        {
          "output_type": "stream",
          "text": [
            "\n",
            "\n",
            "  TRAIN avg loss: 0.0008 train acc: 99.7267\n",
            "\n"
          ],
          "name": "stdout"
        },
        {
          "output_type": "stream",
          "text": [
            "\n",
            "  0%|          | 0/469 [00:00<?, ?it/s]"
          ],
          "name": "stderr"
        },
        {
          "output_type": "stream",
          "text": [
            "\n",
            "\n",
            "  TEST avg loss: 0.0161 test acc: 99.5200\n",
            "\n",
            "\n",
            "EPOCH : 25\n",
            "\n"
          ],
          "name": "stdout"
        },
        {
          "output_type": "stream",
          "text": [
            "loss=0.11232829093933105 batch_id=468: 100%|██████████| 469/469 [00:11<00:00, 40.35it/s]"
          ],
          "name": "stderr"
        },
        {
          "output_type": "stream",
          "text": [
            "\n",
            "\n",
            "  TRAIN avg loss: 0.0008 train acc: 99.7467\n",
            "\n"
          ],
          "name": "stdout"
        },
        {
          "output_type": "stream",
          "text": [
            "\n",
            "  0%|          | 0/235 [00:00<?, ?it/s]"
          ],
          "name": "stderr"
        },
        {
          "output_type": "stream",
          "text": [
            "  Best Model Saved!!!\n",
            "\n",
            "\n",
            "\n",
            "  TEST avg loss: 0.0158 test acc: 99.5400\n",
            "\n",
            "##########\n",
            "\n",
            "\n",
            "\n",
            "##################################################\n",
            "\n",
            "l2_gbn\n",
            "--------------------------------------------------\n",
            "\n",
            "\n",
            "EPOCH : 1\n",
            "\n"
          ],
          "name": "stdout"
        },
        {
          "output_type": "stream",
          "text": [
            "loss=0.4011308550834656 batch_id=234: 100%|██████████| 235/235 [00:09<00:00, 24.21it/s]"
          ],
          "name": "stderr"
        },
        {
          "output_type": "stream",
          "text": [
            "\n",
            "\n",
            "  TRAIN avg loss: 0.0024 train acc: 91.9583\n",
            "\n"
          ],
          "name": "stdout"
        },
        {
          "output_type": "stream",
          "text": [
            "\n",
            "  0%|          | 0/235 [00:00<?, ?it/s]"
          ],
          "name": "stderr"
        },
        {
          "output_type": "stream",
          "text": [
            "  Best Model Saved!!!\n",
            "\n",
            "\n",
            "\n",
            "  TEST avg loss: 0.0665 test acc: 97.7900\n",
            "\n",
            "\n",
            "EPOCH : 2\n",
            "\n"
          ],
          "name": "stdout"
        },
        {
          "output_type": "stream",
          "text": [
            "loss=0.3190305829048157 batch_id=234: 100%|██████████| 235/235 [00:09<00:00, 24.32it/s]"
          ],
          "name": "stderr"
        },
        {
          "output_type": "stream",
          "text": [
            "\n",
            "\n",
            "  TRAIN avg loss: 0.0009 train acc: 97.7000\n",
            "\n"
          ],
          "name": "stdout"
        },
        {
          "output_type": "stream",
          "text": [
            "\n",
            "  0%|          | 0/235 [00:00<?, ?it/s]"
          ],
          "name": "stderr"
        },
        {
          "output_type": "stream",
          "text": [
            "  Best Model Saved!!!\n",
            "\n",
            "\n",
            "\n",
            "  TEST avg loss: 0.0537 test acc: 98.4500\n",
            "\n",
            "\n",
            "EPOCH : 3\n",
            "\n"
          ],
          "name": "stdout"
        },
        {
          "output_type": "stream",
          "text": [
            "loss=0.2702985107898712 batch_id=234: 100%|██████████| 235/235 [00:09<00:00, 24.30it/s]"
          ],
          "name": "stderr"
        },
        {
          "output_type": "stream",
          "text": [
            "\n",
            "\n",
            "  TRAIN avg loss: 0.0008 train acc: 98.0750\n",
            "\n"
          ],
          "name": "stdout"
        },
        {
          "output_type": "stream",
          "text": [
            "\n",
            "  0%|          | 0/235 [00:00<?, ?it/s]"
          ],
          "name": "stderr"
        },
        {
          "output_type": "stream",
          "text": [
            "  Best Model Saved!!!\n",
            "\n",
            "\n",
            "\n",
            "  TEST avg loss: 0.0293 test acc: 99.1000\n",
            "\n",
            "\n",
            "EPOCH : 4\n",
            "\n"
          ],
          "name": "stdout"
        },
        {
          "output_type": "stream",
          "text": [
            "loss=0.28391674160957336 batch_id=234: 100%|██████████| 235/235 [00:09<00:00, 24.21it/s]"
          ],
          "name": "stderr"
        },
        {
          "output_type": "stream",
          "text": [
            "\n",
            "\n",
            "  TRAIN avg loss: 0.0007 train acc: 98.3800\n",
            "\n"
          ],
          "name": "stdout"
        },
        {
          "output_type": "stream",
          "text": [
            "\n",
            "  0%|          | 0/235 [00:00<?, ?it/s]"
          ],
          "name": "stderr"
        },
        {
          "output_type": "stream",
          "text": [
            "\n",
            "\n",
            "  TEST avg loss: 0.0369 test acc: 98.8000\n",
            "\n",
            "\n",
            "EPOCH : 5\n",
            "\n"
          ],
          "name": "stdout"
        },
        {
          "output_type": "stream",
          "text": [
            "loss=0.20529711246490479 batch_id=234: 100%|██████████| 235/235 [00:09<00:00, 23.88it/s]\n"
          ],
          "name": "stderr"
        },
        {
          "output_type": "stream",
          "text": [
            "\n",
            "\n",
            "  TRAIN avg loss: 0.0007 train acc: 98.5800\n",
            "\n"
          ],
          "name": "stdout"
        },
        {
          "output_type": "stream",
          "text": [
            "\r  0%|          | 0/235 [00:00<?, ?it/s]"
          ],
          "name": "stderr"
        },
        {
          "output_type": "stream",
          "text": [
            "  Best Model Saved!!!\n",
            "\n",
            "\n",
            "\n",
            "  TEST avg loss: 0.0309 test acc: 99.1100\n",
            "\n",
            "\n",
            "EPOCH : 6\n",
            "\n"
          ],
          "name": "stdout"
        },
        {
          "output_type": "stream",
          "text": [
            "loss=0.3197542428970337 batch_id=234: 100%|██████████| 235/235 [00:09<00:00, 24.31it/s]"
          ],
          "name": "stderr"
        },
        {
          "output_type": "stream",
          "text": [
            "\n",
            "\n",
            "  TRAIN avg loss: 0.0007 train acc: 98.6783\n",
            "\n"
          ],
          "name": "stdout"
        },
        {
          "output_type": "stream",
          "text": [
            "\n",
            "  0%|          | 0/235 [00:00<?, ?it/s]"
          ],
          "name": "stderr"
        },
        {
          "output_type": "stream",
          "text": [
            "\n",
            "\n",
            "  TEST avg loss: 0.0348 test acc: 98.9400\n",
            "\n",
            "\n",
            "EPOCH : 7\n",
            "\n"
          ],
          "name": "stdout"
        },
        {
          "output_type": "stream",
          "text": [
            "loss=0.16367676854133606 batch_id=234: 100%|██████████| 235/235 [00:09<00:00, 24.29it/s]"
          ],
          "name": "stderr"
        },
        {
          "output_type": "stream",
          "text": [
            "\n",
            "\n",
            "  TRAIN avg loss: 0.0006 train acc: 98.7483\n",
            "\n"
          ],
          "name": "stdout"
        },
        {
          "output_type": "stream",
          "text": [
            "\n",
            "  0%|          | 0/235 [00:00<?, ?it/s]"
          ],
          "name": "stderr"
        },
        {
          "output_type": "stream",
          "text": [
            "\n",
            "\n",
            "  TEST avg loss: 0.0342 test acc: 98.8200\n",
            "\n",
            "\n",
            "EPOCH : 8\n",
            "\n"
          ],
          "name": "stdout"
        },
        {
          "output_type": "stream",
          "text": [
            "loss=0.4928361475467682 batch_id=234: 100%|██████████| 235/235 [00:09<00:00, 23.85it/s]"
          ],
          "name": "stderr"
        },
        {
          "output_type": "stream",
          "text": [
            "\n",
            "\n",
            "  TRAIN avg loss: 0.0006 train acc: 98.7867\n",
            "\n"
          ],
          "name": "stdout"
        },
        {
          "output_type": "stream",
          "text": [
            "\n",
            "  0%|          | 0/235 [00:00<?, ?it/s]"
          ],
          "name": "stderr"
        },
        {
          "output_type": "stream",
          "text": [
            "\n",
            "\n",
            "  TEST avg loss: 0.0397 test acc: 98.8400\n",
            "\n",
            "\n",
            "EPOCH : 9\n",
            "\n"
          ],
          "name": "stdout"
        },
        {
          "output_type": "stream",
          "text": [
            "loss=0.1985166072845459 batch_id=234: 100%|██████████| 235/235 [00:09<00:00, 24.36it/s]"
          ],
          "name": "stderr"
        },
        {
          "output_type": "stream",
          "text": [
            "\n",
            "\n",
            "  TRAIN avg loss: 0.0006 train acc: 98.8533\n",
            "\n"
          ],
          "name": "stdout"
        },
        {
          "output_type": "stream",
          "text": [
            "\n",
            "  0%|          | 0/235 [00:00<?, ?it/s]"
          ],
          "name": "stderr"
        },
        {
          "output_type": "stream",
          "text": [
            "\n",
            "\n",
            "  TEST avg loss: 0.0301 test acc: 98.9600\n",
            "\n",
            "\n",
            "EPOCH : 10\n",
            "\n"
          ],
          "name": "stdout"
        },
        {
          "output_type": "stream",
          "text": [
            "loss=0.2542116343975067 batch_id=234: 100%|██████████| 235/235 [00:09<00:00, 24.50it/s]"
          ],
          "name": "stderr"
        },
        {
          "output_type": "stream",
          "text": [
            "\n",
            "\n",
            "  TRAIN avg loss: 0.0005 train acc: 99.1850\n",
            "\n"
          ],
          "name": "stdout"
        },
        {
          "output_type": "stream",
          "text": [
            "\n",
            "  0%|          | 0/235 [00:00<?, ?it/s]"
          ],
          "name": "stderr"
        },
        {
          "output_type": "stream",
          "text": [
            "  Best Model Saved!!!\n",
            "\n",
            "\n",
            "\n",
            "  TEST avg loss: 0.0197 test acc: 99.4300\n",
            "\n",
            "\n",
            "EPOCH : 11\n",
            "\n"
          ],
          "name": "stdout"
        },
        {
          "output_type": "stream",
          "text": [
            "loss=0.22576317191123962 batch_id=234: 100%|██████████| 235/235 [00:09<00:00, 23.70it/s]"
          ],
          "name": "stderr"
        },
        {
          "output_type": "stream",
          "text": [
            "\n",
            "\n",
            "  TRAIN avg loss: 0.0005 train acc: 99.2850\n",
            "\n"
          ],
          "name": "stdout"
        },
        {
          "output_type": "stream",
          "text": [
            "\n",
            "  0%|          | 0/235 [00:00<?, ?it/s]"
          ],
          "name": "stderr"
        },
        {
          "output_type": "stream",
          "text": [
            "  Best Model Saved!!!\n",
            "\n",
            "\n",
            "\n",
            "  TEST avg loss: 0.0183 test acc: 99.4500\n",
            "\n",
            "\n",
            "EPOCH : 12\n",
            "\n"
          ],
          "name": "stdout"
        },
        {
          "output_type": "stream",
          "text": [
            "loss=0.14126801490783691 batch_id=234: 100%|██████████| 235/235 [00:10<00:00, 23.30it/s]"
          ],
          "name": "stderr"
        },
        {
          "output_type": "stream",
          "text": [
            "\n",
            "\n",
            "  TRAIN avg loss: 0.0005 train acc: 99.3383\n",
            "\n"
          ],
          "name": "stdout"
        },
        {
          "output_type": "stream",
          "text": [
            "\n",
            "  0%|          | 0/235 [00:00<?, ?it/s]"
          ],
          "name": "stderr"
        },
        {
          "output_type": "stream",
          "text": [
            "  Best Model Saved!!!\n",
            "\n",
            "\n",
            "\n",
            "  TEST avg loss: 0.0186 test acc: 99.4700\n",
            "\n",
            "\n",
            "EPOCH : 13\n",
            "\n"
          ],
          "name": "stdout"
        },
        {
          "output_type": "stream",
          "text": [
            "loss=0.1527395248413086 batch_id=234: 100%|██████████| 235/235 [00:09<00:00, 23.82it/s]"
          ],
          "name": "stderr"
        },
        {
          "output_type": "stream",
          "text": [
            "\n",
            "\n",
            "  TRAIN avg loss: 0.0005 train acc: 99.3583\n",
            "\n"
          ],
          "name": "stdout"
        },
        {
          "output_type": "stream",
          "text": [
            "\n",
            "  0%|          | 0/235 [00:00<?, ?it/s]"
          ],
          "name": "stderr"
        },
        {
          "output_type": "stream",
          "text": [
            "\n",
            "\n",
            "  TEST avg loss: 0.0188 test acc: 99.4400\n",
            "\n",
            "\n",
            "EPOCH : 14\n",
            "\n"
          ],
          "name": "stdout"
        },
        {
          "output_type": "stream",
          "text": [
            "loss=0.09920341521501541 batch_id=234: 100%|██████████| 235/235 [00:09<00:00, 24.26it/s]\n"
          ],
          "name": "stderr"
        },
        {
          "output_type": "stream",
          "text": [
            "\n",
            "\n",
            "  TRAIN avg loss: 0.0005 train acc: 99.3550\n",
            "\n"
          ],
          "name": "stdout"
        },
        {
          "output_type": "stream",
          "text": [
            "\r  0%|          | 0/235 [00:00<?, ?it/s]"
          ],
          "name": "stderr"
        },
        {
          "output_type": "stream",
          "text": [
            "\n",
            "\n",
            "  TEST avg loss: 0.0183 test acc: 99.4600\n",
            "\n",
            "\n",
            "EPOCH : 15\n",
            "\n"
          ],
          "name": "stdout"
        },
        {
          "output_type": "stream",
          "text": [
            "loss=0.2127901017665863 batch_id=234: 100%|██████████| 235/235 [00:09<00:00, 24.19it/s]"
          ],
          "name": "stderr"
        },
        {
          "output_type": "stream",
          "text": [
            "\n",
            "\n",
            "  TRAIN avg loss: 0.0005 train acc: 99.3600\n",
            "\n"
          ],
          "name": "stdout"
        },
        {
          "output_type": "stream",
          "text": [
            "\n",
            "  0%|          | 0/235 [00:00<?, ?it/s]"
          ],
          "name": "stderr"
        },
        {
          "output_type": "stream",
          "text": [
            "  Best Model Saved!!!\n",
            "\n",
            "\n",
            "\n",
            "  TEST avg loss: 0.0187 test acc: 99.4800\n",
            "\n",
            "\n",
            "EPOCH : 16\n",
            "\n"
          ],
          "name": "stdout"
        },
        {
          "output_type": "stream",
          "text": [
            "loss=0.42485833168029785 batch_id=234: 100%|██████████| 235/235 [00:09<00:00, 23.65it/s]"
          ],
          "name": "stderr"
        },
        {
          "output_type": "stream",
          "text": [
            "\n",
            "\n",
            "  TRAIN avg loss: 0.0005 train acc: 99.3400\n",
            "\n"
          ],
          "name": "stdout"
        },
        {
          "output_type": "stream",
          "text": [
            "\n",
            "  0%|          | 0/235 [00:00<?, ?it/s]"
          ],
          "name": "stderr"
        },
        {
          "output_type": "stream",
          "text": [
            "  Best Model Saved!!!\n",
            "\n",
            "\n",
            "\n",
            "  TEST avg loss: 0.0186 test acc: 99.5000\n",
            "\n",
            "\n",
            "EPOCH : 17\n",
            "\n"
          ],
          "name": "stdout"
        },
        {
          "output_type": "stream",
          "text": [
            "loss=0.2802896797657013 batch_id=234: 100%|██████████| 235/235 [00:09<00:00, 23.61it/s]"
          ],
          "name": "stderr"
        },
        {
          "output_type": "stream",
          "text": [
            "\n",
            "\n",
            "  TRAIN avg loss: 0.0005 train acc: 99.3717\n",
            "\n"
          ],
          "name": "stdout"
        },
        {
          "output_type": "stream",
          "text": [
            "\n",
            "  0%|          | 0/235 [00:00<?, ?it/s]"
          ],
          "name": "stderr"
        },
        {
          "output_type": "stream",
          "text": [
            "\n",
            "\n",
            "  TEST avg loss: 0.0187 test acc: 99.4600\n",
            "\n",
            "\n",
            "EPOCH : 18\n",
            "\n"
          ],
          "name": "stdout"
        },
        {
          "output_type": "stream",
          "text": [
            "loss=0.12964694201946259 batch_id=234: 100%|██████████| 235/235 [00:09<00:00, 23.94it/s]"
          ],
          "name": "stderr"
        },
        {
          "output_type": "stream",
          "text": [
            "\n",
            "\n",
            "  TRAIN avg loss: 0.0005 train acc: 99.4033\n",
            "\n"
          ],
          "name": "stdout"
        },
        {
          "output_type": "stream",
          "text": [
            "\n",
            "  0%|          | 0/235 [00:00<?, ?it/s]"
          ],
          "name": "stderr"
        },
        {
          "output_type": "stream",
          "text": [
            "\n",
            "\n",
            "  TEST avg loss: 0.0184 test acc: 99.4700\n",
            "\n",
            "\n",
            "EPOCH : 19\n",
            "\n"
          ],
          "name": "stdout"
        },
        {
          "output_type": "stream",
          "text": [
            "loss=0.21305803954601288 batch_id=234: 100%|██████████| 235/235 [00:09<00:00, 23.90it/s]"
          ],
          "name": "stderr"
        },
        {
          "output_type": "stream",
          "text": [
            "\n",
            "\n",
            "  TRAIN avg loss: 0.0005 train acc: 99.4450\n",
            "\n"
          ],
          "name": "stdout"
        },
        {
          "output_type": "stream",
          "text": [
            "\n",
            "  0%|          | 0/235 [00:00<?, ?it/s]"
          ],
          "name": "stderr"
        },
        {
          "output_type": "stream",
          "text": [
            "\n",
            "\n",
            "  TEST avg loss: 0.0180 test acc: 99.4600\n",
            "\n",
            "\n",
            "EPOCH : 20\n",
            "\n"
          ],
          "name": "stdout"
        },
        {
          "output_type": "stream",
          "text": [
            "loss=0.38076213002204895 batch_id=234: 100%|██████████| 235/235 [00:09<00:00, 24.25it/s]"
          ],
          "name": "stderr"
        },
        {
          "output_type": "stream",
          "text": [
            "\n",
            "\n",
            "  TRAIN avg loss: 0.0005 train acc: 99.4200\n",
            "\n"
          ],
          "name": "stdout"
        },
        {
          "output_type": "stream",
          "text": [
            "\n",
            "  0%|          | 0/235 [00:00<?, ?it/s]"
          ],
          "name": "stderr"
        },
        {
          "output_type": "stream",
          "text": [
            "\n",
            "\n",
            "  TEST avg loss: 0.0179 test acc: 99.4700\n",
            "\n",
            "\n",
            "EPOCH : 21\n",
            "\n"
          ],
          "name": "stdout"
        },
        {
          "output_type": "stream",
          "text": [
            "loss=0.16279053688049316 batch_id=234: 100%|██████████| 235/235 [00:09<00:00, 24.14it/s]"
          ],
          "name": "stderr"
        },
        {
          "output_type": "stream",
          "text": [
            "\n",
            "\n",
            "  TRAIN avg loss: 0.0005 train acc: 99.4633\n",
            "\n"
          ],
          "name": "stdout"
        },
        {
          "output_type": "stream",
          "text": [
            "\n",
            "  0%|          | 0/235 [00:00<?, ?it/s]"
          ],
          "name": "stderr"
        },
        {
          "output_type": "stream",
          "text": [
            "\n",
            "\n",
            "  TEST avg loss: 0.0181 test acc: 99.4400\n",
            "\n",
            "\n",
            "EPOCH : 22\n",
            "\n"
          ],
          "name": "stdout"
        },
        {
          "output_type": "stream",
          "text": [
            "loss=0.16451016068458557 batch_id=234: 100%|██████████| 235/235 [00:09<00:00, 24.26it/s]"
          ],
          "name": "stderr"
        },
        {
          "output_type": "stream",
          "text": [
            "\n",
            "\n",
            "  TRAIN avg loss: 0.0005 train acc: 99.4150\n",
            "\n"
          ],
          "name": "stdout"
        },
        {
          "output_type": "stream",
          "text": [
            "\n",
            "  0%|          | 0/235 [00:00<?, ?it/s]"
          ],
          "name": "stderr"
        },
        {
          "output_type": "stream",
          "text": [
            "\n",
            "\n",
            "  TEST avg loss: 0.0178 test acc: 99.4600\n",
            "\n",
            "\n",
            "EPOCH : 23\n",
            "\n"
          ],
          "name": "stdout"
        },
        {
          "output_type": "stream",
          "text": [
            "loss=0.22570206224918365 batch_id=234: 100%|██████████| 235/235 [00:09<00:00, 23.97it/s]"
          ],
          "name": "stderr"
        },
        {
          "output_type": "stream",
          "text": [
            "\n",
            "\n",
            "  TRAIN avg loss: 0.0005 train acc: 99.4650\n",
            "\n"
          ],
          "name": "stdout"
        },
        {
          "output_type": "stream",
          "text": [
            "\n",
            "  0%|          | 0/235 [00:00<?, ?it/s]"
          ],
          "name": "stderr"
        },
        {
          "output_type": "stream",
          "text": [
            "\n",
            "\n",
            "  TEST avg loss: 0.0180 test acc: 99.4600\n",
            "\n",
            "\n",
            "EPOCH : 24\n",
            "\n"
          ],
          "name": "stdout"
        },
        {
          "output_type": "stream",
          "text": [
            "loss=0.2540941536426544 batch_id=234: 100%|██████████| 235/235 [00:09<00:00, 24.05it/s]"
          ],
          "name": "stderr"
        },
        {
          "output_type": "stream",
          "text": [
            "\n",
            "\n",
            "  TRAIN avg loss: 0.0005 train acc: 99.3917\n",
            "\n"
          ],
          "name": "stdout"
        },
        {
          "output_type": "stream",
          "text": [
            "\n",
            "  0%|          | 0/235 [00:00<?, ?it/s]"
          ],
          "name": "stderr"
        },
        {
          "output_type": "stream",
          "text": [
            "\n",
            "\n",
            "  TEST avg loss: 0.0179 test acc: 99.4700\n",
            "\n",
            "\n",
            "EPOCH : 25\n",
            "\n"
          ],
          "name": "stdout"
        },
        {
          "output_type": "stream",
          "text": [
            "loss=0.13662077486515045 batch_id=234: 100%|██████████| 235/235 [00:09<00:00, 24.04it/s]"
          ],
          "name": "stderr"
        },
        {
          "output_type": "stream",
          "text": [
            "\n",
            "\n",
            "  TRAIN avg loss: 0.0005 train acc: 99.4533\n",
            "\n"
          ],
          "name": "stdout"
        },
        {
          "output_type": "stream",
          "text": [
            "\n",
            "  0%|          | 0/469 [00:00<?, ?it/s]"
          ],
          "name": "stderr"
        },
        {
          "output_type": "stream",
          "text": [
            "\n",
            "\n",
            "  TEST avg loss: 0.0177 test acc: 99.4500\n",
            "\n",
            "##########\n",
            "\n",
            "\n",
            "\n",
            "##################################################\n",
            "\n",
            "l1_l2_bn\n",
            "--------------------------------------------------\n",
            "\n",
            "\n",
            "EPOCH : 1\n",
            "\n"
          ],
          "name": "stdout"
        },
        {
          "output_type": "stream",
          "text": [
            "loss=1.9265190362930298 batch_id=468: 100%|██████████| 469/469 [00:12<00:00, 36.22it/s]"
          ],
          "name": "stderr"
        },
        {
          "output_type": "stream",
          "text": [
            "\n",
            "\n",
            "  TRAIN avg loss: 0.0198 train acc: 92.9333\n",
            "\n"
          ],
          "name": "stdout"
        },
        {
          "output_type": "stream",
          "text": [
            "\n",
            "  0%|          | 0/469 [00:00<?, ?it/s]"
          ],
          "name": "stderr"
        },
        {
          "output_type": "stream",
          "text": [
            "  Best Model Saved!!!\n",
            "\n",
            "\n",
            "\n",
            "  TEST avg loss: 0.1857 test acc: 94.3400\n",
            "\n",
            "\n",
            "EPOCH : 2\n",
            "\n"
          ],
          "name": "stdout"
        },
        {
          "output_type": "stream",
          "text": [
            "loss=2.107081174850464 batch_id=468: 100%|██████████| 469/469 [00:13<00:00, 36.07it/s]\n"
          ],
          "name": "stderr"
        },
        {
          "output_type": "stream",
          "text": [
            "\n",
            "\n",
            "  TRAIN avg loss: 0.0142 train acc: 96.1000\n",
            "\n"
          ],
          "name": "stdout"
        },
        {
          "output_type": "stream",
          "text": [
            "\r  0%|          | 0/469 [00:00<?, ?it/s]"
          ],
          "name": "stderr"
        },
        {
          "output_type": "stream",
          "text": [
            "\n",
            "\n",
            "  TEST avg loss: 0.5368 test acc: 81.7400\n",
            "\n",
            "\n",
            "EPOCH : 3\n",
            "\n"
          ],
          "name": "stdout"
        },
        {
          "output_type": "stream",
          "text": [
            "loss=1.9938429594039917 batch_id=468: 100%|██████████| 469/469 [00:12<00:00, 36.67it/s]\n"
          ],
          "name": "stderr"
        },
        {
          "output_type": "stream",
          "text": [
            "\n",
            "\n",
            "  TRAIN avg loss: 0.0133 train acc: 96.2367\n",
            "\n"
          ],
          "name": "stdout"
        },
        {
          "output_type": "stream",
          "text": [
            "\r  0%|          | 0/469 [00:00<?, ?it/s]"
          ],
          "name": "stderr"
        },
        {
          "output_type": "stream",
          "text": [
            "\n",
            "\n",
            "  TEST avg loss: 0.1904 test acc: 94.0400\n",
            "\n",
            "\n",
            "EPOCH : 4\n",
            "\n"
          ],
          "name": "stdout"
        },
        {
          "output_type": "stream",
          "text": [
            "loss=1.554619550704956 batch_id=468: 100%|██████████| 469/469 [00:12<00:00, 36.78it/s]"
          ],
          "name": "stderr"
        },
        {
          "output_type": "stream",
          "text": [
            "\n",
            "\n",
            "  TRAIN avg loss: 0.0129 train acc: 96.4250\n",
            "\n"
          ],
          "name": "stdout"
        },
        {
          "output_type": "stream",
          "text": [
            "\n",
            "  0%|          | 0/469 [00:00<?, ?it/s]"
          ],
          "name": "stderr"
        },
        {
          "output_type": "stream",
          "text": [
            "\n",
            "\n",
            "  TEST avg loss: 0.1976 test acc: 93.7900\n",
            "\n",
            "\n",
            "EPOCH : 5\n",
            "\n"
          ],
          "name": "stdout"
        },
        {
          "output_type": "stream",
          "text": [
            "loss=1.822577714920044 batch_id=468: 100%|██████████| 469/469 [00:12<00:00, 36.81it/s]"
          ],
          "name": "stderr"
        },
        {
          "output_type": "stream",
          "text": [
            "\n",
            "\n",
            "  TRAIN avg loss: 0.0128 train acc: 96.4000\n",
            "\n"
          ],
          "name": "stdout"
        },
        {
          "output_type": "stream",
          "text": [
            "\n",
            "  0%|          | 0/469 [00:00<?, ?it/s]"
          ],
          "name": "stderr"
        },
        {
          "output_type": "stream",
          "text": [
            "\n",
            "\n",
            "  TEST avg loss: 0.6104 test acc: 81.6500\n",
            "\n",
            "\n",
            "EPOCH : 6\n",
            "\n"
          ],
          "name": "stdout"
        },
        {
          "output_type": "stream",
          "text": [
            "loss=1.640040636062622 batch_id=468: 100%|██████████| 469/469 [00:12<00:00, 36.76it/s]"
          ],
          "name": "stderr"
        },
        {
          "output_type": "stream",
          "text": [
            "\n",
            "\n",
            "  TRAIN avg loss: 0.0128 train acc: 96.3333\n",
            "\n"
          ],
          "name": "stdout"
        },
        {
          "output_type": "stream",
          "text": [
            "\n",
            "  0%|          | 0/469 [00:00<?, ?it/s]"
          ],
          "name": "stderr"
        },
        {
          "output_type": "stream",
          "text": [
            "\n",
            "\n",
            "  TEST avg loss: 0.2669 test acc: 91.9400\n",
            "\n",
            "\n",
            "EPOCH : 7\n",
            "\n"
          ],
          "name": "stdout"
        },
        {
          "output_type": "stream",
          "text": [
            "loss=1.4554603099822998 batch_id=468: 100%|██████████| 469/469 [00:12<00:00, 36.25it/s]"
          ],
          "name": "stderr"
        },
        {
          "output_type": "stream",
          "text": [
            "\n",
            "\n",
            "  TRAIN avg loss: 0.0125 train acc: 96.5017\n",
            "\n"
          ],
          "name": "stdout"
        },
        {
          "output_type": "stream",
          "text": [
            "\n",
            "  0%|          | 0/469 [00:00<?, ?it/s]"
          ],
          "name": "stderr"
        },
        {
          "output_type": "stream",
          "text": [
            "\n",
            "\n",
            "  TEST avg loss: 0.6302 test acc: 81.6800\n",
            "\n",
            "\n",
            "EPOCH : 8\n",
            "\n"
          ],
          "name": "stdout"
        },
        {
          "output_type": "stream",
          "text": [
            "loss=1.7415398359298706 batch_id=468: 100%|██████████| 469/469 [00:12<00:00, 36.89it/s]"
          ],
          "name": "stderr"
        },
        {
          "output_type": "stream",
          "text": [
            "\n",
            "\n",
            "  TRAIN avg loss: 0.0123 train acc: 96.5283\n",
            "\n"
          ],
          "name": "stdout"
        },
        {
          "output_type": "stream",
          "text": [
            "\n",
            "  0%|          | 0/469 [00:00<?, ?it/s]"
          ],
          "name": "stderr"
        },
        {
          "output_type": "stream",
          "text": [
            "\n",
            "\n",
            "  TEST avg loss: 0.2278 test acc: 92.9000\n",
            "\n",
            "\n",
            "EPOCH : 9\n",
            "\n"
          ],
          "name": "stdout"
        },
        {
          "output_type": "stream",
          "text": [
            "loss=1.6117568016052246 batch_id=468: 100%|██████████| 469/469 [00:12<00:00, 36.82it/s]"
          ],
          "name": "stderr"
        },
        {
          "output_type": "stream",
          "text": [
            "\n",
            "\n",
            "  TRAIN avg loss: 0.0123 train acc: 96.4550\n",
            "\n"
          ],
          "name": "stdout"
        },
        {
          "output_type": "stream",
          "text": [
            "\n",
            "  0%|          | 0/469 [00:00<?, ?it/s]"
          ],
          "name": "stderr"
        },
        {
          "output_type": "stream",
          "text": [
            "\n",
            "\n",
            "  TEST avg loss: 0.2395 test acc: 92.1900\n",
            "\n",
            "\n",
            "EPOCH : 10\n",
            "\n"
          ],
          "name": "stdout"
        },
        {
          "output_type": "stream",
          "text": [
            "loss=0.8949225544929504 batch_id=468: 100%|██████████| 469/469 [00:12<00:00, 36.83it/s]"
          ],
          "name": "stderr"
        },
        {
          "output_type": "stream",
          "text": [
            "\n",
            "\n",
            "  TRAIN avg loss: 0.0091 train acc: 98.4350\n",
            "\n"
          ],
          "name": "stdout"
        },
        {
          "output_type": "stream",
          "text": [
            "\n",
            "  0%|          | 0/469 [00:00<?, ?it/s]"
          ],
          "name": "stderr"
        },
        {
          "output_type": "stream",
          "text": [
            "  Best Model Saved!!!\n",
            "\n",
            "\n",
            "\n",
            "  TEST avg loss: 0.0364 test acc: 98.8800\n",
            "\n",
            "\n",
            "EPOCH : 11\n",
            "\n"
          ],
          "name": "stdout"
        },
        {
          "output_type": "stream",
          "text": [
            "loss=1.0968307256698608 batch_id=468: 100%|██████████| 469/469 [00:13<00:00, 36.04it/s]"
          ],
          "name": "stderr"
        },
        {
          "output_type": "stream",
          "text": [
            "\n",
            "\n",
            "  TRAIN avg loss: 0.0075 train acc: 98.5150\n",
            "\n"
          ],
          "name": "stdout"
        },
        {
          "output_type": "stream",
          "text": [
            "\n",
            "  0%|          | 0/469 [00:00<?, ?it/s]"
          ],
          "name": "stderr"
        },
        {
          "output_type": "stream",
          "text": [
            "\n",
            "\n",
            "  TEST avg loss: 0.0437 test acc: 98.5300\n",
            "\n",
            "\n",
            "EPOCH : 12\n",
            "\n"
          ],
          "name": "stdout"
        },
        {
          "output_type": "stream",
          "text": [
            "loss=0.9443902969360352 batch_id=468: 100%|██████████| 469/469 [00:12<00:00, 36.36it/s]"
          ],
          "name": "stderr"
        },
        {
          "output_type": "stream",
          "text": [
            "\n",
            "\n",
            "  TRAIN avg loss: 0.0069 train acc: 98.4450\n",
            "\n"
          ],
          "name": "stdout"
        },
        {
          "output_type": "stream",
          "text": [
            "\n",
            "  0%|          | 0/469 [00:00<?, ?it/s]"
          ],
          "name": "stderr"
        },
        {
          "output_type": "stream",
          "text": [
            "\n",
            "\n",
            "  TEST avg loss: 0.0422 test acc: 98.7700\n",
            "\n",
            "\n",
            "EPOCH : 13\n",
            "\n"
          ],
          "name": "stdout"
        },
        {
          "output_type": "stream",
          "text": [
            "loss=1.0387974977493286 batch_id=468: 100%|██████████| 469/469 [00:12<00:00, 36.57it/s]"
          ],
          "name": "stderr"
        },
        {
          "output_type": "stream",
          "text": [
            "\n",
            "\n",
            "  TRAIN avg loss: 0.0065 train acc: 98.3900\n",
            "\n"
          ],
          "name": "stdout"
        },
        {
          "output_type": "stream",
          "text": [
            "\n",
            "  0%|          | 0/469 [00:00<?, ?it/s]"
          ],
          "name": "stderr"
        },
        {
          "output_type": "stream",
          "text": [
            "\n",
            "\n",
            "  TEST avg loss: 0.0566 test acc: 98.1800\n",
            "\n",
            "\n",
            "EPOCH : 14\n",
            "\n"
          ],
          "name": "stdout"
        },
        {
          "output_type": "stream",
          "text": [
            "loss=0.7116067409515381 batch_id=468: 100%|██████████| 469/469 [00:12<00:00, 37.06it/s]"
          ],
          "name": "stderr"
        },
        {
          "output_type": "stream",
          "text": [
            "\n",
            "\n",
            "  TRAIN avg loss: 0.0063 train acc: 98.3850\n",
            "\n"
          ],
          "name": "stdout"
        },
        {
          "output_type": "stream",
          "text": [
            "\n",
            "  0%|          | 0/469 [00:00<?, ?it/s]"
          ],
          "name": "stderr"
        },
        {
          "output_type": "stream",
          "text": [
            "\n",
            "\n",
            "  TEST avg loss: 0.0438 test acc: 98.5300\n",
            "\n",
            "\n",
            "EPOCH : 15\n",
            "\n"
          ],
          "name": "stdout"
        },
        {
          "output_type": "stream",
          "text": [
            "loss=0.7398255467414856 batch_id=468: 100%|██████████| 469/469 [00:12<00:00, 37.11it/s]"
          ],
          "name": "stderr"
        },
        {
          "output_type": "stream",
          "text": [
            "\n",
            "\n",
            "  TRAIN avg loss: 0.0063 train acc: 98.1583\n",
            "\n"
          ],
          "name": "stdout"
        },
        {
          "output_type": "stream",
          "text": [
            "\n",
            "  0%|          | 0/469 [00:00<?, ?it/s]"
          ],
          "name": "stderr"
        },
        {
          "output_type": "stream",
          "text": [
            "\n",
            "\n",
            "  TEST avg loss: 0.0699 test acc: 97.7800\n",
            "\n",
            "\n",
            "EPOCH : 16\n",
            "\n"
          ],
          "name": "stdout"
        },
        {
          "output_type": "stream",
          "text": [
            "loss=0.8459076881408691 batch_id=468: 100%|██████████| 469/469 [00:12<00:00, 36.91it/s]"
          ],
          "name": "stderr"
        },
        {
          "output_type": "stream",
          "text": [
            "\n",
            "\n",
            "  TRAIN avg loss: 0.0063 train acc: 98.0733\n",
            "\n"
          ],
          "name": "stdout"
        },
        {
          "output_type": "stream",
          "text": [
            "\n",
            "  0%|          | 0/469 [00:00<?, ?it/s]"
          ],
          "name": "stderr"
        },
        {
          "output_type": "stream",
          "text": [
            "\n",
            "\n",
            "  TEST avg loss: 0.0612 test acc: 98.0900\n",
            "\n",
            "\n",
            "EPOCH : 17\n",
            "\n"
          ],
          "name": "stdout"
        },
        {
          "output_type": "stream",
          "text": [
            "loss=0.8659107685089111 batch_id=468: 100%|██████████| 469/469 [00:13<00:00, 34.73it/s]\n"
          ],
          "name": "stderr"
        },
        {
          "output_type": "stream",
          "text": [
            "\n",
            "\n",
            "  TRAIN avg loss: 0.0062 train acc: 98.1367\n",
            "\n"
          ],
          "name": "stdout"
        },
        {
          "output_type": "stream",
          "text": [
            "\r  0%|          | 0/469 [00:00<?, ?it/s]"
          ],
          "name": "stderr"
        },
        {
          "output_type": "stream",
          "text": [
            "\n",
            "\n",
            "  TEST avg loss: 0.0481 test acc: 98.5000\n",
            "\n",
            "\n",
            "EPOCH : 18\n",
            "\n"
          ],
          "name": "stdout"
        },
        {
          "output_type": "stream",
          "text": [
            "loss=0.8854938745498657 batch_id=468: 100%|██████████| 469/469 [00:12<00:00, 36.36it/s]"
          ],
          "name": "stderr"
        },
        {
          "output_type": "stream",
          "text": [
            "\n",
            "\n",
            "  TRAIN avg loss: 0.0062 train acc: 98.0767\n",
            "\n"
          ],
          "name": "stdout"
        },
        {
          "output_type": "stream",
          "text": [
            "\n",
            "  0%|          | 0/469 [00:00<?, ?it/s]"
          ],
          "name": "stderr"
        },
        {
          "output_type": "stream",
          "text": [
            "\n",
            "\n",
            "  TEST avg loss: 0.0817 test acc: 97.4200\n",
            "\n",
            "\n",
            "EPOCH : 19\n",
            "\n"
          ],
          "name": "stdout"
        },
        {
          "output_type": "stream",
          "text": [
            "loss=0.6684891581535339 batch_id=468: 100%|██████████| 469/469 [00:12<00:00, 36.76it/s]"
          ],
          "name": "stderr"
        },
        {
          "output_type": "stream",
          "text": [
            "\n",
            "\n",
            "  TRAIN avg loss: 0.0053 train acc: 98.9033\n",
            "\n"
          ],
          "name": "stdout"
        },
        {
          "output_type": "stream",
          "text": [
            "\n",
            "  0%|          | 0/469 [00:00<?, ?it/s]"
          ],
          "name": "stderr"
        },
        {
          "output_type": "stream",
          "text": [
            "  Best Model Saved!!!\n",
            "\n",
            "\n",
            "\n",
            "  TEST avg loss: 0.0259 test acc: 99.2600\n",
            "\n",
            "\n",
            "EPOCH : 20\n",
            "\n"
          ],
          "name": "stdout"
        },
        {
          "output_type": "stream",
          "text": [
            "loss=0.5107957124710083 batch_id=468: 100%|██████████| 469/469 [00:13<00:00, 35.79it/s]"
          ],
          "name": "stderr"
        },
        {
          "output_type": "stream",
          "text": [
            "\n",
            "\n",
            "  TRAIN avg loss: 0.0049 train acc: 99.0183\n",
            "\n"
          ],
          "name": "stdout"
        },
        {
          "output_type": "stream",
          "text": [
            "\n",
            "  0%|          | 0/469 [00:00<?, ?it/s]"
          ],
          "name": "stderr"
        },
        {
          "output_type": "stream",
          "text": [
            "\n",
            "\n",
            "  TEST avg loss: 0.0278 test acc: 99.1200\n",
            "\n",
            "\n",
            "EPOCH : 21\n",
            "\n"
          ],
          "name": "stdout"
        },
        {
          "output_type": "stream",
          "text": [
            "loss=0.5329685211181641 batch_id=468: 100%|██████████| 469/469 [00:12<00:00, 36.25it/s]"
          ],
          "name": "stderr"
        },
        {
          "output_type": "stream",
          "text": [
            "\n",
            "\n",
            "  TRAIN avg loss: 0.0047 train acc: 98.9900\n",
            "\n"
          ],
          "name": "stdout"
        },
        {
          "output_type": "stream",
          "text": [
            "\n",
            "  0%|          | 0/469 [00:00<?, ?it/s]"
          ],
          "name": "stderr"
        },
        {
          "output_type": "stream",
          "text": [
            "\n",
            "\n",
            "  TEST avg loss: 0.0272 test acc: 99.1700\n",
            "\n",
            "\n",
            "EPOCH : 22\n",
            "\n"
          ],
          "name": "stdout"
        },
        {
          "output_type": "stream",
          "text": [
            "loss=0.6676837801933289 batch_id=468: 100%|██████████| 469/469 [00:12<00:00, 36.88it/s]"
          ],
          "name": "stderr"
        },
        {
          "output_type": "stream",
          "text": [
            "\n",
            "\n",
            "  TRAIN avg loss: 0.0046 train acc: 99.0000\n",
            "\n"
          ],
          "name": "stdout"
        },
        {
          "output_type": "stream",
          "text": [
            "\n",
            "  0%|          | 0/469 [00:00<?, ?it/s]"
          ],
          "name": "stderr"
        },
        {
          "output_type": "stream",
          "text": [
            "\n",
            "\n",
            "  TEST avg loss: 0.0266 test acc: 99.1800\n",
            "\n",
            "\n",
            "EPOCH : 23\n",
            "\n"
          ],
          "name": "stdout"
        },
        {
          "output_type": "stream",
          "text": [
            "loss=0.6045231223106384 batch_id=468: 100%|██████████| 469/469 [00:12<00:00, 36.73it/s]"
          ],
          "name": "stderr"
        },
        {
          "output_type": "stream",
          "text": [
            "\n",
            "\n",
            "  TRAIN avg loss: 0.0045 train acc: 98.9867\n",
            "\n"
          ],
          "name": "stdout"
        },
        {
          "output_type": "stream",
          "text": [
            "\n",
            "  0%|          | 0/469 [00:00<?, ?it/s]"
          ],
          "name": "stderr"
        },
        {
          "output_type": "stream",
          "text": [
            "\n",
            "\n",
            "  TEST avg loss: 0.0265 test acc: 99.1300\n",
            "\n",
            "\n",
            "EPOCH : 24\n",
            "\n"
          ],
          "name": "stdout"
        },
        {
          "output_type": "stream",
          "text": [
            "loss=0.513538122177124 batch_id=468: 100%|██████████| 469/469 [00:12<00:00, 36.60it/s]\n"
          ],
          "name": "stderr"
        },
        {
          "output_type": "stream",
          "text": [
            "\n",
            "\n",
            "  TRAIN avg loss: 0.0044 train acc: 98.9767\n",
            "\n"
          ],
          "name": "stdout"
        },
        {
          "output_type": "stream",
          "text": [
            "\r  0%|          | 0/469 [00:00<?, ?it/s]"
          ],
          "name": "stderr"
        },
        {
          "output_type": "stream",
          "text": [
            "\n",
            "\n",
            "  TEST avg loss: 0.0280 test acc: 99.0900\n",
            "\n",
            "\n",
            "EPOCH : 25\n",
            "\n"
          ],
          "name": "stdout"
        },
        {
          "output_type": "stream",
          "text": [
            "loss=0.4978499114513397 batch_id=468: 100%|██████████| 469/469 [00:12<00:00, 36.83it/s]\n"
          ],
          "name": "stderr"
        },
        {
          "output_type": "stream",
          "text": [
            "\n",
            "\n",
            "  TRAIN avg loss: 0.0044 train acc: 98.9417\n",
            "\n"
          ],
          "name": "stdout"
        },
        {
          "output_type": "stream",
          "text": [
            "\r  0%|          | 0/235 [00:00<?, ?it/s]"
          ],
          "name": "stderr"
        },
        {
          "output_type": "stream",
          "text": [
            "\n",
            "\n",
            "  TEST avg loss: 0.0303 test acc: 99.0000\n",
            "\n",
            "##########\n",
            "\n",
            "\n",
            "\n",
            "##################################################\n",
            "\n",
            "l1_l2_gbn\n",
            "--------------------------------------------------\n",
            "\n",
            "\n",
            "EPOCH : 1\n",
            "\n"
          ],
          "name": "stdout"
        },
        {
          "output_type": "stream",
          "text": [
            "loss=2.358853816986084 batch_id=234: 100%|██████████| 235/235 [00:10<00:00, 23.20it/s]"
          ],
          "name": "stderr"
        },
        {
          "output_type": "stream",
          "text": [
            "\n",
            "\n",
            "  TRAIN avg loss: 0.0105 train acc: 90.0850\n",
            "\n"
          ],
          "name": "stdout"
        },
        {
          "output_type": "stream",
          "text": [
            "\n",
            "  0%|          | 0/235 [00:00<?, ?it/s]"
          ],
          "name": "stderr"
        },
        {
          "output_type": "stream",
          "text": [
            "  Best Model Saved!!!\n",
            "\n",
            "\n",
            "\n",
            "  TEST avg loss: 0.4228 test acc: 88.3400\n",
            "\n",
            "\n",
            "EPOCH : 2\n",
            "\n"
          ],
          "name": "stdout"
        },
        {
          "output_type": "stream",
          "text": [
            "loss=1.9717309474945068 batch_id=234: 100%|██████████| 235/235 [00:10<00:00, 22.94it/s]"
          ],
          "name": "stderr"
        },
        {
          "output_type": "stream",
          "text": [
            "\n",
            "\n",
            "  TRAIN avg loss: 0.0073 train acc: 95.4117\n",
            "\n"
          ],
          "name": "stdout"
        },
        {
          "output_type": "stream",
          "text": [
            "\n",
            "  0%|          | 0/235 [00:00<?, ?it/s]"
          ],
          "name": "stderr"
        },
        {
          "output_type": "stream",
          "text": [
            "\n",
            "\n",
            "  TEST avg loss: 0.4811 test acc: 85.4200\n",
            "\n",
            "\n",
            "EPOCH : 3\n",
            "\n"
          ],
          "name": "stdout"
        },
        {
          "output_type": "stream",
          "text": [
            "loss=2.6559765338897705 batch_id=234: 100%|██████████| 235/235 [00:10<00:00, 23.30it/s]"
          ],
          "name": "stderr"
        },
        {
          "output_type": "stream",
          "text": [
            "\n",
            "\n",
            "  TRAIN avg loss: 0.0066 train acc: 95.8750\n",
            "\n"
          ],
          "name": "stdout"
        },
        {
          "output_type": "stream",
          "text": [
            "\n",
            "  0%|          | 0/235 [00:00<?, ?it/s]"
          ],
          "name": "stderr"
        },
        {
          "output_type": "stream",
          "text": [
            "  Best Model Saved!!!\n",
            "\n",
            "\n",
            "\n",
            "  TEST avg loss: 0.1421 test acc: 95.6200\n",
            "\n",
            "\n",
            "EPOCH : 4\n",
            "\n"
          ],
          "name": "stdout"
        },
        {
          "output_type": "stream",
          "text": [
            "loss=1.5603713989257812 batch_id=234: 100%|██████████| 235/235 [00:10<00:00, 22.40it/s]"
          ],
          "name": "stderr"
        },
        {
          "output_type": "stream",
          "text": [
            "\n",
            "\n",
            "  TRAIN avg loss: 0.0064 train acc: 96.0333\n",
            "\n"
          ],
          "name": "stdout"
        },
        {
          "output_type": "stream",
          "text": [
            "\n",
            "  0%|          | 0/235 [00:00<?, ?it/s]"
          ],
          "name": "stderr"
        },
        {
          "output_type": "stream",
          "text": [
            "  Best Model Saved!!!\n",
            "\n",
            "\n",
            "\n",
            "  TEST avg loss: 0.1177 test acc: 96.4100\n",
            "\n",
            "\n",
            "EPOCH : 5\n",
            "\n"
          ],
          "name": "stdout"
        },
        {
          "output_type": "stream",
          "text": [
            "loss=1.8426837921142578 batch_id=234: 100%|██████████| 235/235 [00:10<00:00, 22.35it/s]"
          ],
          "name": "stderr"
        },
        {
          "output_type": "stream",
          "text": [
            "\n",
            "\n",
            "  TRAIN avg loss: 0.0062 train acc: 96.2350\n",
            "\n"
          ],
          "name": "stdout"
        },
        {
          "output_type": "stream",
          "text": [
            "\n",
            "  0%|          | 0/235 [00:00<?, ?it/s]"
          ],
          "name": "stderr"
        },
        {
          "output_type": "stream",
          "text": [
            "\n",
            "\n",
            "  TEST avg loss: 0.2356 test acc: 92.1300\n",
            "\n",
            "\n",
            "EPOCH : 6\n",
            "\n"
          ],
          "name": "stdout"
        },
        {
          "output_type": "stream",
          "text": [
            "loss=1.7153600454330444 batch_id=234: 100%|██████████| 235/235 [00:10<00:00, 23.29it/s]"
          ],
          "name": "stderr"
        },
        {
          "output_type": "stream",
          "text": [
            "\n",
            "\n",
            "  TRAIN avg loss: 0.0060 train acc: 96.1317\n",
            "\n"
          ],
          "name": "stdout"
        },
        {
          "output_type": "stream",
          "text": [
            "\n",
            "  0%|          | 0/235 [00:00<?, ?it/s]"
          ],
          "name": "stderr"
        },
        {
          "output_type": "stream",
          "text": [
            "\n",
            "\n",
            "  TEST avg loss: 0.2341 test acc: 92.3800\n",
            "\n",
            "\n",
            "EPOCH : 7\n",
            "\n"
          ],
          "name": "stdout"
        },
        {
          "output_type": "stream",
          "text": [
            "loss=2.174130439758301 batch_id=234: 100%|██████████| 235/235 [00:10<00:00, 23.17it/s]"
          ],
          "name": "stderr"
        },
        {
          "output_type": "stream",
          "text": [
            "\n",
            "\n",
            "  TRAIN avg loss: 0.0059 train acc: 96.3117\n",
            "\n"
          ],
          "name": "stdout"
        },
        {
          "output_type": "stream",
          "text": [
            "\n",
            "  0%|          | 0/235 [00:00<?, ?it/s]"
          ],
          "name": "stderr"
        },
        {
          "output_type": "stream",
          "text": [
            "\n",
            "\n",
            "  TEST avg loss: 0.1604 test acc: 94.8400\n",
            "\n",
            "\n",
            "EPOCH : 8\n",
            "\n"
          ],
          "name": "stdout"
        },
        {
          "output_type": "stream",
          "text": [
            "loss=1.907226324081421 batch_id=234: 100%|██████████| 235/235 [00:10<00:00, 23.32it/s]"
          ],
          "name": "stderr"
        },
        {
          "output_type": "stream",
          "text": [
            "\n",
            "\n",
            "  TRAIN avg loss: 0.0058 train acc: 96.3367\n",
            "\n"
          ],
          "name": "stdout"
        },
        {
          "output_type": "stream",
          "text": [
            "\n",
            "  0%|          | 0/235 [00:00<?, ?it/s]"
          ],
          "name": "stderr"
        },
        {
          "output_type": "stream",
          "text": [
            "  Best Model Saved!!!\n",
            "\n",
            "\n",
            "\n",
            "  TEST avg loss: 0.0842 test acc: 97.2800\n",
            "\n",
            "\n",
            "EPOCH : 9\n",
            "\n"
          ],
          "name": "stdout"
        },
        {
          "output_type": "stream",
          "text": [
            "loss=2.6993870735168457 batch_id=234: 100%|██████████| 235/235 [00:10<00:00, 23.00it/s]\n"
          ],
          "name": "stderr"
        },
        {
          "output_type": "stream",
          "text": [
            "\n",
            "\n",
            "  TRAIN avg loss: 0.0058 train acc: 96.3833\n",
            "\n"
          ],
          "name": "stdout"
        },
        {
          "output_type": "stream",
          "text": [
            "\r  0%|          | 0/235 [00:00<?, ?it/s]"
          ],
          "name": "stderr"
        },
        {
          "output_type": "stream",
          "text": [
            "\n",
            "\n",
            "  TEST avg loss: 0.6606 test acc: 80.2200\n",
            "\n",
            "\n",
            "EPOCH : 10\n",
            "\n"
          ],
          "name": "stdout"
        },
        {
          "output_type": "stream",
          "text": [
            "loss=1.6489964723587036 batch_id=234: 100%|██████████| 235/235 [00:10<00:00, 23.23it/s]\n"
          ],
          "name": "stderr"
        },
        {
          "output_type": "stream",
          "text": [
            "\n",
            "\n",
            "  TRAIN avg loss: 0.0047 train acc: 97.8983\n",
            "\n"
          ],
          "name": "stdout"
        },
        {
          "output_type": "stream",
          "text": [
            "\r  0%|          | 0/235 [00:00<?, ?it/s]"
          ],
          "name": "stderr"
        },
        {
          "output_type": "stream",
          "text": [
            "  Best Model Saved!!!\n",
            "\n",
            "\n",
            "\n",
            "  TEST avg loss: 0.0385 test acc: 98.7500\n",
            "\n",
            "\n",
            "EPOCH : 11\n",
            "\n"
          ],
          "name": "stdout"
        },
        {
          "output_type": "stream",
          "text": [
            "loss=1.1051241159439087 batch_id=234: 100%|██████████| 235/235 [00:10<00:00, 22.87it/s]\n"
          ],
          "name": "stderr"
        },
        {
          "output_type": "stream",
          "text": [
            "\n",
            "\n",
            "  TRAIN avg loss: 0.0040 train acc: 98.1950\n",
            "\n"
          ],
          "name": "stdout"
        },
        {
          "output_type": "stream",
          "text": [
            "\r  0%|          | 0/235 [00:00<?, ?it/s]"
          ],
          "name": "stderr"
        },
        {
          "output_type": "stream",
          "text": [
            "\n",
            "\n",
            "  TEST avg loss: 0.0418 test acc: 98.7000\n",
            "\n",
            "\n",
            "EPOCH : 12\n",
            "\n"
          ],
          "name": "stdout"
        },
        {
          "output_type": "stream",
          "text": [
            "loss=1.4375464916229248 batch_id=234: 100%|██████████| 235/235 [00:10<00:00, 22.76it/s]"
          ],
          "name": "stderr"
        },
        {
          "output_type": "stream",
          "text": [
            "\n",
            "\n",
            "  TRAIN avg loss: 0.0037 train acc: 98.2033\n",
            "\n"
          ],
          "name": "stdout"
        },
        {
          "output_type": "stream",
          "text": [
            "\n",
            "  0%|          | 0/235 [00:00<?, ?it/s]"
          ],
          "name": "stderr"
        },
        {
          "output_type": "stream",
          "text": [
            "\n",
            "\n",
            "  TEST avg loss: 0.0508 test acc: 98.5200\n",
            "\n",
            "\n",
            "EPOCH : 13\n",
            "\n"
          ],
          "name": "stdout"
        },
        {
          "output_type": "stream",
          "text": [
            "loss=1.0940923690795898 batch_id=234: 100%|██████████| 235/235 [00:10<00:00, 23.20it/s]\n"
          ],
          "name": "stderr"
        },
        {
          "output_type": "stream",
          "text": [
            "\n",
            "\n",
            "  TRAIN avg loss: 0.0037 train acc: 98.1183\n",
            "\n"
          ],
          "name": "stdout"
        },
        {
          "output_type": "stream",
          "text": [
            "\r  0%|          | 0/235 [00:00<?, ?it/s]"
          ],
          "name": "stderr"
        },
        {
          "output_type": "stream",
          "text": [
            "\n",
            "\n",
            "  TEST avg loss: 0.0478 test acc: 98.6100\n",
            "\n",
            "\n",
            "EPOCH : 14\n",
            "\n"
          ],
          "name": "stdout"
        },
        {
          "output_type": "stream",
          "text": [
            "loss=1.0835736989974976 batch_id=234: 100%|██████████| 235/235 [00:10<00:00, 22.96it/s]"
          ],
          "name": "stderr"
        },
        {
          "output_type": "stream",
          "text": [
            "\n",
            "\n",
            "  TRAIN avg loss: 0.0035 train acc: 98.0867\n",
            "\n"
          ],
          "name": "stdout"
        },
        {
          "output_type": "stream",
          "text": [
            "\n",
            "  0%|          | 0/235 [00:00<?, ?it/s]"
          ],
          "name": "stderr"
        },
        {
          "output_type": "stream",
          "text": [
            "\n",
            "\n",
            "  TEST avg loss: 0.0495 test acc: 98.5200\n",
            "\n",
            "\n",
            "EPOCH : 15\n",
            "\n"
          ],
          "name": "stdout"
        },
        {
          "output_type": "stream",
          "text": [
            "loss=1.1156208515167236 batch_id=234: 100%|██████████| 235/235 [00:10<00:00, 23.21it/s]"
          ],
          "name": "stderr"
        },
        {
          "output_type": "stream",
          "text": [
            "\n",
            "\n",
            "  TRAIN avg loss: 0.0035 train acc: 97.9700\n",
            "\n"
          ],
          "name": "stdout"
        },
        {
          "output_type": "stream",
          "text": [
            "\n",
            "  0%|          | 0/235 [00:00<?, ?it/s]"
          ],
          "name": "stderr"
        },
        {
          "output_type": "stream",
          "text": [
            "\n",
            "\n",
            "  TEST avg loss: 0.0758 test acc: 97.6700\n",
            "\n",
            "\n",
            "EPOCH : 16\n",
            "\n"
          ],
          "name": "stdout"
        },
        {
          "output_type": "stream",
          "text": [
            "loss=1.0187793970108032 batch_id=234: 100%|██████████| 235/235 [00:10<00:00, 23.26it/s]"
          ],
          "name": "stderr"
        },
        {
          "output_type": "stream",
          "text": [
            "\n",
            "\n",
            "  TRAIN avg loss: 0.0035 train acc: 97.8850\n",
            "\n"
          ],
          "name": "stdout"
        },
        {
          "output_type": "stream",
          "text": [
            "\n",
            "  0%|          | 0/235 [00:00<?, ?it/s]"
          ],
          "name": "stderr"
        },
        {
          "output_type": "stream",
          "text": [
            "\n",
            "\n",
            "  TEST avg loss: 0.0522 test acc: 98.5000\n",
            "\n",
            "\n",
            "EPOCH : 17\n",
            "\n"
          ],
          "name": "stdout"
        },
        {
          "output_type": "stream",
          "text": [
            "loss=1.1549386978149414 batch_id=234: 100%|██████████| 235/235 [00:10<00:00, 23.18it/s]"
          ],
          "name": "stderr"
        },
        {
          "output_type": "stream",
          "text": [
            "\n",
            "\n",
            "  TRAIN avg loss: 0.0034 train acc: 98.0000\n",
            "\n"
          ],
          "name": "stdout"
        },
        {
          "output_type": "stream",
          "text": [
            "\n",
            "  0%|          | 0/235 [00:00<?, ?it/s]"
          ],
          "name": "stderr"
        },
        {
          "output_type": "stream",
          "text": [
            "\n",
            "\n",
            "  TEST avg loss: 0.0455 test acc: 98.6900\n",
            "\n",
            "\n",
            "EPOCH : 18\n",
            "\n"
          ],
          "name": "stdout"
        },
        {
          "output_type": "stream",
          "text": [
            "loss=1.2927265167236328 batch_id=234: 100%|██████████| 235/235 [00:10<00:00, 23.21it/s]"
          ],
          "name": "stderr"
        },
        {
          "output_type": "stream",
          "text": [
            "\n",
            "\n",
            "  TRAIN avg loss: 0.0034 train acc: 97.9950\n",
            "\n"
          ],
          "name": "stdout"
        },
        {
          "output_type": "stream",
          "text": [
            "\n",
            "  0%|          | 0/235 [00:00<?, ?it/s]"
          ],
          "name": "stderr"
        },
        {
          "output_type": "stream",
          "text": [
            "\n",
            "\n",
            "  TEST avg loss: 0.0943 test acc: 97.3100\n",
            "\n",
            "\n",
            "EPOCH : 19\n",
            "\n"
          ],
          "name": "stdout"
        },
        {
          "output_type": "stream",
          "text": [
            "loss=0.9052407145500183 batch_id=234: 100%|██████████| 235/235 [00:10<00:00, 22.75it/s]"
          ],
          "name": "stderr"
        },
        {
          "output_type": "stream",
          "text": [
            "\n",
            "\n",
            "  TRAIN avg loss: 0.0031 train acc: 98.4617\n",
            "\n"
          ],
          "name": "stdout"
        },
        {
          "output_type": "stream",
          "text": [
            "\n",
            "  0%|          | 0/235 [00:00<?, ?it/s]"
          ],
          "name": "stderr"
        },
        {
          "output_type": "stream",
          "text": [
            "  Best Model Saved!!!\n",
            "\n",
            "\n",
            "\n",
            "  TEST avg loss: 0.0324 test acc: 99.0200\n",
            "\n",
            "\n",
            "EPOCH : 20\n",
            "\n"
          ],
          "name": "stdout"
        },
        {
          "output_type": "stream",
          "text": [
            "loss=0.7438151836395264 batch_id=234: 100%|██████████| 235/235 [00:10<00:00, 22.71it/s]"
          ],
          "name": "stderr"
        },
        {
          "output_type": "stream",
          "text": [
            "\n",
            "\n",
            "  TRAIN avg loss: 0.0029 train acc: 98.5067\n",
            "\n"
          ],
          "name": "stdout"
        },
        {
          "output_type": "stream",
          "text": [
            "\n",
            "  0%|          | 0/235 [00:00<?, ?it/s]"
          ],
          "name": "stderr"
        },
        {
          "output_type": "stream",
          "text": [
            "\n",
            "\n",
            "  TEST avg loss: 0.0324 test acc: 99.0000\n",
            "\n",
            "\n",
            "EPOCH : 21\n",
            "\n"
          ],
          "name": "stdout"
        },
        {
          "output_type": "stream",
          "text": [
            "loss=0.754089891910553 batch_id=234: 100%|██████████| 235/235 [00:10<00:00, 22.79it/s]"
          ],
          "name": "stderr"
        },
        {
          "output_type": "stream",
          "text": [
            "\n",
            "\n",
            "  TRAIN avg loss: 0.0029 train acc: 98.5967\n",
            "\n"
          ],
          "name": "stdout"
        },
        {
          "output_type": "stream",
          "text": [
            "\n",
            "  0%|          | 0/235 [00:00<?, ?it/s]"
          ],
          "name": "stderr"
        },
        {
          "output_type": "stream",
          "text": [
            "  Best Model Saved!!!\n",
            "\n",
            "\n",
            "\n",
            "  TEST avg loss: 0.0311 test acc: 99.0600\n",
            "\n",
            "\n",
            "EPOCH : 22\n",
            "\n"
          ],
          "name": "stdout"
        },
        {
          "output_type": "stream",
          "text": [
            "loss=0.9332746863365173 batch_id=234: 100%|██████████| 235/235 [00:10<00:00, 22.85it/s]"
          ],
          "name": "stderr"
        },
        {
          "output_type": "stream",
          "text": [
            "\n",
            "\n",
            "  TRAIN avg loss: 0.0028 train acc: 98.5867\n",
            "\n"
          ],
          "name": "stdout"
        },
        {
          "output_type": "stream",
          "text": [
            "\n",
            "  0%|          | 0/235 [00:00<?, ?it/s]"
          ],
          "name": "stderr"
        },
        {
          "output_type": "stream",
          "text": [
            "\n",
            "\n",
            "  TEST avg loss: 0.0313 test acc: 98.9900\n",
            "\n",
            "\n",
            "EPOCH : 23\n",
            "\n"
          ],
          "name": "stdout"
        },
        {
          "output_type": "stream",
          "text": [
            "loss=0.885301947593689 batch_id=234: 100%|██████████| 235/235 [00:10<00:00, 23.20it/s]"
          ],
          "name": "stderr"
        },
        {
          "output_type": "stream",
          "text": [
            "\n",
            "\n",
            "  TRAIN avg loss: 0.0028 train acc: 98.6150\n",
            "\n"
          ],
          "name": "stdout"
        },
        {
          "output_type": "stream",
          "text": [
            "\n",
            "  0%|          | 0/235 [00:00<?, ?it/s]"
          ],
          "name": "stderr"
        },
        {
          "output_type": "stream",
          "text": [
            "\n",
            "\n",
            "  TEST avg loss: 0.0309 test acc: 99.0400\n",
            "\n",
            "\n",
            "EPOCH : 24\n",
            "\n"
          ],
          "name": "stdout"
        },
        {
          "output_type": "stream",
          "text": [
            "loss=0.8512848615646362 batch_id=234: 100%|██████████| 235/235 [00:10<00:00, 22.96it/s]"
          ],
          "name": "stderr"
        },
        {
          "output_type": "stream",
          "text": [
            "\n",
            "\n",
            "  TRAIN avg loss: 0.0028 train acc: 98.6000\n",
            "\n"
          ],
          "name": "stdout"
        },
        {
          "output_type": "stream",
          "text": [
            "\n",
            "  0%|          | 0/235 [00:00<?, ?it/s]"
          ],
          "name": "stderr"
        },
        {
          "output_type": "stream",
          "text": [
            "\n",
            "\n",
            "  TEST avg loss: 0.0345 test acc: 98.9100\n",
            "\n",
            "\n",
            "EPOCH : 25\n",
            "\n"
          ],
          "name": "stdout"
        },
        {
          "output_type": "stream",
          "text": [
            "loss=1.0113778114318848 batch_id=234: 100%|██████████| 235/235 [00:10<00:00, 22.92it/s]\n"
          ],
          "name": "stderr"
        },
        {
          "output_type": "stream",
          "text": [
            "\n",
            "\n",
            "  TRAIN avg loss: 0.0027 train acc: 98.6283\n",
            "\n",
            "  Best Model Saved!!!\n",
            "\n",
            "\n",
            "\n",
            "  TEST avg loss: 0.0308 test acc: 99.1200\n",
            "\n",
            "##########\n",
            "\n"
          ],
          "name": "stdout"
        }
      ]
    },
    {
      "cell_type": "markdown",
      "metadata": {
        "id": "Q_tRcu9Y7_Mp",
        "colab_type": "text"
      },
      "source": [
        "## Problem Statements\n"
      ]
    },
    {
      "cell_type": "code",
      "metadata": {
        "id": "Z-DTiOWE8aRu",
        "colab_type": "code",
        "colab": {}
      },
      "source": [
        "conditions = ['n_l1_n_l2_bn', 'n_l1_n_l2_gbn', 'l1_bn', 'l1_gbn', 'l2_bn', 'l2_gbn', 'l1_l2_bn', 'l1_l2_gbn']\n",
        "stats_file_path = \"./stats/models_acc_losses_data.json\"\n",
        "\n",
        "def get_misclassified_images(condition):\n",
        "  if \"gbn\" in condition:\n",
        "    net = GhostNet(n_splits).to(device)\n",
        "  else:\n",
        "    net = Net().to(device)\n",
        "\n",
        "  optimizer = optim.SGD(net.parameters(), lr=0.1, momentum=0.9)\n",
        "\n",
        "  ckp_path = f\"./weights/model_{condition}.pt\"\n",
        "\n",
        "  model, optimizer, epoch, val_max_acc, misclassified_images = load_ckp(ckp_path, net, optimizer)\n",
        "\n",
        "  return misclassified_images\n",
        "\n",
        "\n",
        "def validation_stat(condition, type_='acc'):\n",
        "  with open(stats_file_path) as f:\n",
        "    data = json.load(f)\n",
        "\n",
        "  if type_==\"acc\":\n",
        "    return data[f\"{condition}\"][\"test_acc\"] \n",
        "  else:\n",
        "    return data[f\"{condition}\"][\"test_losses\"]\n"
      ],
      "execution_count": 0,
      "outputs": []
    },
    {
      "cell_type": "code",
      "metadata": {
        "id": "PfZZXG7R7-Uh",
        "colab_type": "code",
        "colab": {}
      },
      "source": [
        "epoch_count = range(1, 26)\n",
        "\n",
        "def plot_graphs(jobs, type_='acc'):\n",
        "\n",
        "  fig = plt.figure(figsize=(10,10))\n",
        "\n",
        "  for condition in jobs:\n",
        "    plt.plot(epoch_count, validation_stat(condition, type_))\n",
        "    \n",
        "  plt.legend(jobs)\n",
        "  plt.xlabel('Epoch')\n",
        "  plt.ylabel(type_)\n",
        "  plt.show();\n",
        "\n",
        "\n",
        "  fig.savefig(f'validation_%s.png' % (type_))\n",
        "\n"
      ],
      "execution_count": 0,
      "outputs": []
    },
    {
      "cell_type": "code",
      "metadata": {
        "id": "GdnNOmIiCG7Z",
        "colab_type": "code",
        "colab": {}
      },
      "source": [
        "def plot_misclassified_images(condition, n=25):\n",
        "  figure = plt.figure(figsize=(10,10))\n",
        "\n",
        "  images = get_misclassified_images(condition)[:n]\n",
        "  for i in range(1, n+1):\n",
        "    plt.subplot(5,5,i)\n",
        "    plt.axis('off')\n",
        "    plt.imshow(images[i-1][\"img\"].cpu().numpy()[0], cmap='gray_r')\n",
        "    plt.title(\"Predicted : {} \\nActual : {}\".format(images[i-1][\"pred\"][0].cpu().numpy(), images[i-1][\"target\"].cpu().numpy()))\n",
        "\n",
        "  plt.tight_layout()\n",
        "  plt.savefig(f\"{condition}_image.png\")"
      ],
      "execution_count": 0,
      "outputs": []
    },
    {
      "cell_type": "markdown",
      "metadata": {
        "id": "0dyGjwRW8CyQ",
        "colab_type": "text"
      },
      "source": [
        "### ONE graph to show the validation accuracy curves for all 8 jobs"
      ]
    },
    {
      "cell_type": "code",
      "metadata": {
        "id": "JYcBV0J8BBxt",
        "colab_type": "code",
        "colab": {
          "base_uri": "https://localhost:8080/",
          "height": 605
        },
        "outputId": "92e49939-b13b-4a4b-b0a2-7b69e909f8d4"
      },
      "source": [
        "plot_graphs(conditions, 'acc')"
      ],
      "execution_count": 24,
      "outputs": [
        {
          "output_type": "display_data",
          "data": {
            "image/png": "[encoded data removed]",
            "text/plain": [
              "<Figure size 720x720 with 1 Axes>"
            ]
          },
          "metadata": {
            "tags": [],
            "needs_background": "light"
          }
        }
      ]
    },
    {
      "cell_type": "markdown",
      "metadata": {
        "id": "PFdlUjX9Bbks",
        "colab_type": "text"
      },
      "source": [
        "### ONE graph to show the loss change curves for all 8 jobs above"
      ]
    },
    {
      "cell_type": "code",
      "metadata": {
        "id": "czzgawCcBgbw",
        "colab_type": "code",
        "colab": {
          "base_uri": "https://localhost:8080/",
          "height": 605
        },
        "outputId": "0d06d4cf-a26c-4fc1-a94e-890637b7b9ae"
      },
      "source": [
        "plot_graphs(conditions, 'losses')"
      ],
      "execution_count": 25,
      "outputs": [
        {
          "output_type": "display_data",
          "data": {
            "image/png": "[encoded data removed]",
            "text/plain": [
              "<Figure size 720x720 with 1 Axes>"
            ]
          },
          "metadata": {
            "tags": [],
            "needs_background": "light"
          }
        }
      ]
    },
    {
      "cell_type": "markdown",
      "metadata": {
        "id": "Lgy4ThREB7mL",
        "colab_type": "text"
      },
      "source": [
        "### 25 misclassified images for \"without L1/L2 with BN\""
      ]
    },
    {
      "cell_type": "code",
      "metadata": {
        "id": "k7pGUHVmB3el",
        "colab_type": "code",
        "colab": {
          "base_uri": "https://localhost:8080/",
          "height": 728
        },
        "outputId": "ca09eeb7-dece-4f65-ecfe-df836057938c"
      },
      "source": [
        "plot_misclassified_images('n_l1_n_l2_bn')"
      ],
      "execution_count": 26,
      "outputs": [
        {
          "output_type": "display_data",
          "data": {
            "image/png": "[encoded data removed]",
            "text/plain": [
              "<Figure size 720x720 with 25 Axes>"
            ]
          },
          "metadata": {
            "tags": [],
            "needs_background": "light"
          }
        }
      ]
    },
    {
      "cell_type": "markdown",
      "metadata": {
        "id": "Jb7eVCEAGmXq",
        "colab_type": "text"
      },
      "source": [
        "### 25 misclassified images for \"without L1/L2 with GBN\""
      ]
    },
    {
      "cell_type": "code",
      "metadata": {
        "id": "gpVmc_CWB3jK",
        "colab_type": "code",
        "colab": {
          "base_uri": "https://localhost:8080/",
          "height": 728
        },
        "outputId": "e379f7a1-cd1c-4ccd-e777-725a378f49db"
      },
      "source": [
        "plot_misclassified_images('n_l1_n_l2_gbn')"
      ],
      "execution_count": 27,
      "outputs": [
        {
          "output_type": "display_data",
          "data": {
            "image/png": "[encoded data removed]",
            "text/plain": [
              "<Figure size 720x720 with 25 Axes>"
            ]
          },
          "metadata": {
            "tags": [],
            "needs_background": "light"
          }
        }
      ]
    },
    {
      "cell_type": "code",
      "metadata": {
        "id": "rE2rt48SzGCq",
        "colab_type": "code",
        "colab": {}
      },
      "source": [
        ""
      ],
      "execution_count": 0,
      "outputs": []
    }
  ]
}