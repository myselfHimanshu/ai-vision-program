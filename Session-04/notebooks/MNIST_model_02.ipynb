{
  "nbformat": 4,
  "nbformat_minor": 0,
  "metadata": {
    "colab": {
      "name": "MNIST_model_02.ipynb",
      "provenance": [],
      "collapsed_sections": []
    },
    "kernelspec": {
      "name": "python3",
      "display_name": "Python 3"
    },
    "accelerator": "GPU"
  },
  "cells": [
    {
      "cell_type": "markdown",
      "metadata": {
        "id": "Q1TXNOvQ9Kaf",
        "colab_type": "text"
      },
      "source": [
        "# MNIST CNN model\n",
        "\n",
        "**Target to achieve** : 99.4% accuracy on test dataset."
      ]
    },
    {
      "cell_type": "code",
      "metadata": {
        "id": "aAq7Lvqqs4F5",
        "colab_type": "code",
        "colab": {}
      },
      "source": [
        "from google.colab import drive\n",
        "drive.mount('/content/drive')\n",
        "\n",
        "import os\n",
        "os.chdir(\"./drive/My Drive/EVA/Session04\")"
      ],
      "execution_count": 0,
      "outputs": []
    },
    {
      "cell_type": "markdown",
      "metadata": {
        "id": "7OTkpFgt9W06",
        "colab_type": "text"
      },
      "source": [
        "## Importing Libraries"
      ]
    },
    {
      "cell_type": "code",
      "metadata": {
        "id": "0m2JWFliFfKT",
        "colab_type": "code",
        "colab": {}
      },
      "source": [
        "from __future__ import print_function\n",
        "import torch\n",
        "import torch.nn as nn\n",
        "import torch.nn.functional as F\n",
        "import torch.optim as optim\n",
        "from torchvision import datasets, transforms\n",
        "\n",
        "from torchsummary import summary\n",
        "from tqdm import tqdm\n",
        "from torch.utils.tensorboard import SummaryWriter\n",
        "\n",
        "import numpy as np\n",
        "import matplotlib.pyplot as plt\n",
        "plt.rcParams['figure.figsize'] = (20,10)"
      ],
      "execution_count": 0,
      "outputs": []
    },
    {
      "cell_type": "markdown",
      "metadata": {
        "id": "RcV-OkCe9lP4",
        "colab_type": "text"
      },
      "source": [
        "## GPU for training"
      ]
    },
    {
      "cell_type": "code",
      "metadata": {
        "id": "50sHOdY39nRz",
        "colab_type": "code",
        "outputId": "daf812cd-0f79-4657-cbbc-102d78585964",
        "colab": {
          "base_uri": "https://localhost:8080/",
          "height": 34
        }
      },
      "source": [
        "import tensorflow as tf\n",
        "\n",
        "device_name = tf.test.gpu_device_name()\n",
        "\n",
        "try:\n",
        "  print(f\"Found GPU at : {device_name}\")\n",
        "except:\n",
        "  print(\"GPU device not found.\")"
      ],
      "execution_count": 3,
      "outputs": [
        {
          "output_type": "stream",
          "text": [
            "Found GPU at : /device:GPU:0\n"
          ],
          "name": "stdout"
        }
      ]
    },
    {
      "cell_type": "code",
      "metadata": {
        "id": "v9GmRJ0a9osJ",
        "colab_type": "code",
        "outputId": "9a4dead2-8ab3-43c6-d8a3-5e4923ea39fa",
        "colab": {
          "base_uri": "https://localhost:8080/",
          "height": 52
        }
      },
      "source": [
        "import torch\n",
        "\n",
        "if torch.cuda.is_available():\n",
        "  device = torch.device(\"cuda\")\n",
        "  use_cuda = True\n",
        "  print(f\"Number of GPU's available : {torch.cuda.device_count()}\")\n",
        "  print(f\"GPU device name : {torch.cuda.get_device_name(0)}\")\n",
        "else:\n",
        "  print(\"No GPU available, using CPU instead\")\n",
        "  device = torch.device(\"cpu\")\n",
        "  use_cuda = False"
      ],
      "execution_count": 4,
      "outputs": [
        {
          "output_type": "stream",
          "text": [
            "Number of GPU's available : 1\n",
            "GPU device name : Tesla P4\n"
          ],
          "name": "stdout"
        }
      ]
    },
    {
      "cell_type": "markdown",
      "metadata": {
        "id": "MHNNLPIB9wbU",
        "colab_type": "text"
      },
      "source": [
        "## Downloading MNIST dataset\n",
        "\n",
        "Things to keep in mind, \n",
        "- the dataset is provided by pytorch community.\n",
        "- MNIST dataset contains: \n",
        "  - 60,000 training images\n",
        "  - 10,000 test images \n",
        "  - Each image is of size (28x28x1).\n",
        "- The values 0.1307 and 0.3081 used for the Normalize() transformation below are the global mean and standard deviation for MNIST dataset."
      ]
    },
    {
      "cell_type": "code",
      "metadata": {
        "id": "Bp5eMbQ4-LUp",
        "colab_type": "code",
        "colab": {}
      },
      "source": [
        "batch_size = 128\n",
        "num_epochs = 20\n",
        "kernel_size = 3\n",
        "pool_size = 2\n",
        "\n",
        "lr = 0.01\n",
        "momentum = 0.9\n",
        "\n",
        "kwargs = {'num_workers': 1, 'pin_memory': True} if use_cuda else {}"
      ],
      "execution_count": 0,
      "outputs": []
    },
    {
      "cell_type": "code",
      "metadata": {
        "id": "EW3MUGF--hgi",
        "colab_type": "code",
        "colab": {}
      },
      "source": [
        "mnist_trainset = datasets.MNIST(root=\"./data\", train=True, download=True,\n",
        "                                transform=transforms.Compose([\n",
        "                                          transforms.ToTensor(),\n",
        "                                          transforms.Normalize((0.1307,), (0.3081,))\n",
        "                    ]))\n",
        "\n",
        "mnist_testset = datasets.MNIST(root=\"./data\", train=False, download=True,\n",
        "                               transform=transforms.Compose([\n",
        "                                          transforms.ToTensor(),\n",
        "                                          transforms.Normalize((0.1307,), (0.3081,))\n",
        "                    ]))"
      ],
      "execution_count": 0,
      "outputs": []
    },
    {
      "cell_type": "code",
      "metadata": {
        "id": "gkMoKQVc-oKS",
        "colab_type": "code",
        "colab": {}
      },
      "source": [
        "train_loader = torch.utils.data.DataLoader(mnist_trainset,\n",
        "                                          batch_size=batch_size, shuffle=True, **kwargs)\n",
        "\n",
        "test_loader = torch.utils.data.DataLoader(mnist_testset,\n",
        "                                          batch_size=batch_size, shuffle=True, **kwargs)"
      ],
      "execution_count": 0,
      "outputs": []
    },
    {
      "cell_type": "markdown",
      "metadata": {
        "id": "IjXRQ52I-17Z",
        "colab_type": "text"
      },
      "source": [
        "## Visualization of images"
      ]
    },
    {
      "cell_type": "code",
      "metadata": {
        "id": "NB81qRMu-6vr",
        "colab_type": "code",
        "colab": {}
      },
      "source": [
        "examples = enumerate(train_loader)\n",
        "batch_idx, (example_data, example_targets) = next(examples)"
      ],
      "execution_count": 0,
      "outputs": []
    },
    {
      "cell_type": "code",
      "metadata": {
        "id": "8M2XDWfz-76k",
        "colab_type": "code",
        "outputId": "55c60547-f7ab-42b9-8a3b-d64101f38734",
        "colab": {
          "base_uri": "https://localhost:8080/",
          "height": 728
        }
      },
      "source": [
        "fig = plt.figure()\n",
        "for i in range(6):\n",
        "  plt.subplot(2,3,i+1)\n",
        "  plt.tight_layout()\n",
        "  plt.imshow(example_data[i][0], interpolation='none')\n",
        "  plt.title(f\"Ground Truth : {example_targets[i]}\")"
      ],
      "execution_count": 17,
      "outputs": [
        {
          "output_type": "display_data",
          "data": {
            "image/png": "[encoded data removed]",
            "text/plain": [
              "<Figure size 1440x720 with 6 Axes>"
            ]
          },
          "metadata": {
            "tags": [],
            "needs_background": "light"
          }
        }
      ]
    },
    {
      "cell_type": "markdown",
      "metadata": {
        "id": "BT8BOx7ejP3o",
        "colab_type": "text"
      },
      "source": [
        "## Defining training and testing functions"
      ]
    },
    {
      "cell_type": "code",
      "metadata": {
        "id": "L6_Zia8XjPKb",
        "colab_type": "code",
        "colab": {}
      },
      "source": [
        "from tqdm import tqdm\n",
        "\n",
        "def train(model, device, train_loader, optimizer, epoch):\n",
        "    running_loss = 0.0\n",
        "    running_correct = 0\n",
        "\n",
        "    model.train()\n",
        "    pbar = tqdm(train_loader)\n",
        "    for batch_idx, (data, target) in enumerate(pbar):\n",
        "        data, target = data.to(device), target.to(device)\n",
        "        optimizer.zero_grad()\n",
        "        output = model(data)\n",
        "        loss = F.nll_loss(output, target)\n",
        "        _, preds = torch.max(output.data, 1)\n",
        "        loss.backward()\n",
        "        optimizer.step()\n",
        "\n",
        "        #calculate training running loss\n",
        "        running_loss += loss.item()\n",
        "        running_correct += (preds == target).sum().item()\n",
        "        pbar.set_description(desc= f'loss={loss.item()} batch_id={batch_idx}')\n",
        "\n",
        "    print(\"\\n\")\n",
        "    print(f\"Epoch {epoch} train loss: {running_loss/len(mnist_trainset):.3f} train acc: {running_correct/len(mnist_trainset):.3f}\")\n",
        "\n",
        "def test(model, device, test_loader):\n",
        "    model.eval()\n",
        "    test_loss = 0\n",
        "    correct = 0\n",
        "    with torch.no_grad():\n",
        "        for data, target in test_loader:\n",
        "            data, target = data.to(device), target.to(device)\n",
        "            output = model(data)\n",
        "            test_loss += F.nll_loss(output, target, reduction='sum').item()  # sum up batch loss\n",
        "            pred = output.argmax(dim=1, keepdim=True)  # get the index of the max log-probability\n",
        "            correct += pred.eq(target.view_as(pred)).sum().item()\n",
        "\n",
        "    test_loss /= len(test_loader.dataset)\n",
        "\n",
        "    print('\\nTest set: Average loss: {:.4f}, Accuracy: {}/{} ({:.3f}%)\\n'.format(\n",
        "        test_loss, correct, len(test_loader.dataset),\n",
        "        100. * correct / len(test_loader.dataset)))"
      ],
      "execution_count": 0,
      "outputs": []
    },
    {
      "cell_type": "markdown",
      "metadata": {
        "id": "KIsxjleoivtO",
        "colab_type": "text"
      },
      "source": [
        "## Building the model"
      ]
    },
    {
      "cell_type": "code",
      "metadata": {
        "id": "ToQ0qtQSCzOT",
        "colab_type": "code",
        "colab": {}
      },
      "source": [
        "class Net(nn.Module):\n",
        "    def __init__(self):\n",
        "        super(Net, self).__init__()\n",
        "\n",
        "        self.drop = nn.Dropout2d(0.1)\n",
        "\n",
        "        self.conv1 = nn.Conv2d(1, 16, 3, padding=1, bias=False)                    #(-1,28,28,3)>(-1,3,3,3,16)>(-1,28,28,16)\n",
        "        self.batchnorm1 = nn.BatchNorm2d(16)                           #(-1,28,28,16)\n",
        "        self.conv2 = nn.Conv2d(16, 16, 3, padding=1, bias=False)                   #(-1,28,28,16)>(-1,3,3,16,16)>(-1,28,28,16)\n",
        "        self.batchnorm2 = nn.BatchNorm2d(16)                           #(-1,28,28,16)\n",
        "        \n",
        "        self.pool1 = nn.MaxPool2d(2, 2)                                #(-1,14,14,16)\n",
        "        \n",
        "        self.conv3 = nn.Conv2d(16, 16, 3, padding=1, bias=False)                   #(-1,14,14,16)>(-1,3,3,16,16)>(-1,14,14,16)\n",
        "        self.batchnorm3 = nn.BatchNorm2d(16)                           #(-1,14,14,16)\n",
        "        self.conv4 = nn.Conv2d(16, 16, 3, padding=1, bias=False)                   #(-1,14,14,16)>(-1,3,3,16,16)>(-1,14,14,16)\n",
        "        self.batchnorm4 = nn.BatchNorm2d(16)                           #(-1,14,14,16)\n",
        "        \n",
        "        self.pool2 = nn.MaxPool2d(2, 2)                                #(-1,7,7,16)\n",
        "        \n",
        "        self.conv5 = nn.Conv2d(16, 32, 3, padding=1, bias=False)         #(-1,7,7,16)>(-1,3,3,16,32)>(-1,7,7,32)\n",
        "        self.batchnorm5 = nn.BatchNorm2d(32)        \n",
        "        self.conv6 = nn.Conv2d(32, 16, 3, padding=1, bias=False)         #(-1,7,7,32)>(-1,3,3,32,16)>(-1,7,7,16)\n",
        "        self.batchnorm6 = nn.BatchNorm2d(16)\n",
        "        self.conv7 = nn.Conv2d(16, 10, 3)                              #(-1,7,7,16)>(-1,3,3,16,10)>(-1,5,5,10)\n",
        "        self.avgpool = nn.AvgPool2d(5)\n",
        "\n",
        "        #self.fc1 = nn.Linear(32,16)\n",
        "        #self.fc2 = nn.Linear(16,10)\n",
        "\n",
        "    def forward(self, x):\n",
        "        x = F.relu(self.conv1(x))\n",
        "        x = self.drop(x)\n",
        "        x = self.batchnorm1(x)\n",
        "        x = F.relu(self.conv2(x))\n",
        "        x = self.drop(x)\n",
        "        x = self.batchnorm2(x)\n",
        "        \n",
        "        x = self.pool1(x)\n",
        "        \n",
        "        x = F.relu(self.conv3(x))\n",
        "        x = self.drop(x)\n",
        "        x = self.batchnorm3(x)\n",
        "        x = F.relu(self.conv4(x))\n",
        "        x = self.drop(x)\n",
        "        x = self.batchnorm4(x)\n",
        "        \n",
        "        x = self.pool2(x)\n",
        "        \n",
        "        x = F.relu(self.conv5(x))\n",
        "        x = self.drop(x)\n",
        "        x = self.batchnorm5(x)\n",
        "\n",
        "        x = F.relu(self.conv6(x))\n",
        "        x = self.drop(x)\n",
        "        x = self.batchnorm6(x)\n",
        "        \n",
        "        x = self.conv7(x)\n",
        "        x = self.avgpool(x)\n",
        "        #x = x.view(-1, 32)\n",
        "        #x = self.fc1(x)\n",
        "        #x = self.fc2(x)\n",
        "        x = x.view(-1, 10)\n",
        "        return F.log_softmax(x)"
      ],
      "execution_count": 0,
      "outputs": []
    },
    {
      "cell_type": "code",
      "metadata": {
        "id": "_QVewjwMZsxp",
        "colab_type": "code",
        "outputId": "bd9ef51a-8b09-484e-ce6d-3a90124df199",
        "colab": {
          "base_uri": "https://localhost:8080/",
          "height": 676
        }
      },
      "source": [
        "model5 = Net().to(device)\n",
        "summary(model5, input_size=(1, 28, 28))"
      ],
      "execution_count": 20,
      "outputs": [
        {
          "output_type": "stream",
          "text": [
            "----------------------------------------------------------------\n",
            "        Layer (type)               Output Shape         Param #\n",
            "================================================================\n",
            "            Conv2d-1           [-1, 16, 28, 28]             144\n",
            "         Dropout2d-2           [-1, 16, 28, 28]               0\n",
            "       BatchNorm2d-3           [-1, 16, 28, 28]              32\n",
            "            Conv2d-4           [-1, 16, 28, 28]           2,304\n",
            "         Dropout2d-5           [-1, 16, 28, 28]               0\n",
            "       BatchNorm2d-6           [-1, 16, 28, 28]              32\n",
            "         MaxPool2d-7           [-1, 16, 14, 14]               0\n",
            "            Conv2d-8           [-1, 16, 14, 14]           2,304\n",
            "         Dropout2d-9           [-1, 16, 14, 14]               0\n",
            "      BatchNorm2d-10           [-1, 16, 14, 14]              32\n",
            "           Conv2d-11           [-1, 16, 14, 14]           2,304\n",
            "        Dropout2d-12           [-1, 16, 14, 14]               0\n",
            "      BatchNorm2d-13           [-1, 16, 14, 14]              32\n",
            "        MaxPool2d-14             [-1, 16, 7, 7]               0\n",
            "           Conv2d-15             [-1, 32, 7, 7]           4,608\n",
            "        Dropout2d-16             [-1, 32, 7, 7]               0\n",
            "      BatchNorm2d-17             [-1, 32, 7, 7]              64\n",
            "           Conv2d-18             [-1, 16, 7, 7]           4,608\n",
            "        Dropout2d-19             [-1, 16, 7, 7]               0\n",
            "      BatchNorm2d-20             [-1, 16, 7, 7]              32\n",
            "           Conv2d-21             [-1, 10, 5, 5]           1,450\n",
            "        AvgPool2d-22             [-1, 10, 1, 1]               0\n",
            "================================================================\n",
            "Total params: 17,946\n",
            "Trainable params: 17,946\n",
            "Non-trainable params: 0\n",
            "----------------------------------------------------------------\n",
            "Input size (MB): 0.00\n",
            "Forward/backward pass size (MB): 0.80\n",
            "Params size (MB): 0.07\n",
            "Estimated Total Size (MB): 0.87\n",
            "----------------------------------------------------------------\n"
          ],
          "name": "stdout"
        },
        {
          "output_type": "stream",
          "text": [
            "/usr/local/lib/python3.6/dist-packages/ipykernel_launcher.py:64: UserWarning: Implicit dimension choice for log_softmax has been deprecated. Change the call to include dim=X as an argument.\n"
          ],
          "name": "stderr"
        }
      ]
    },
    {
      "cell_type": "code",
      "metadata": {
        "id": "_p2cV0exZtZ1",
        "colab_type": "code",
        "outputId": "17ea6c02-a17b-4d81-b78e-9a95cf7e60c2",
        "colab": {
          "base_uri": "https://localhost:8080/",
          "height": 1000
        }
      },
      "source": [
        "# optimizer = optim.SGD(model5.parameters(), lr=lr, momentum=momentum)\n",
        "optimizer = optim.Adam(model5.parameters(), lr=0.001)#, momentum=momentum)\n",
        "\n",
        "\n",
        "for epoch in range(1, num_epochs+1):\n",
        "    train(model5, device, train_loader, optimizer, epoch)\n",
        "    test(model5, device, test_loader)"
      ],
      "execution_count": 21,
      "outputs": [
        {
          "output_type": "stream",
          "text": [
            "  0%|          | 0/469 [00:00<?, ?it/s]/usr/local/lib/python3.6/dist-packages/ipykernel_launcher.py:64: UserWarning: Implicit dimension choice for log_softmax has been deprecated. Change the call to include dim=X as an argument.\n",
            "loss=0.1666320115327835 batch_id=468: 100%|██████████| 469/469 [00:12<00:00, 36.66it/s]"
          ],
          "name": "stderr"
        },
        {
          "output_type": "stream",
          "text": [
            "\n",
            "\n",
            "Epoch 1 train loss: 0.004 train acc: 0.827\n"
          ],
          "name": "stdout"
        },
        {
          "output_type": "stream",
          "text": [
            "\n",
            "  0%|          | 0/469 [00:00<?, ?it/s]"
          ],
          "name": "stderr"
        },
        {
          "output_type": "stream",
          "text": [
            "\n",
            "Test set: Average loss: 0.0797, Accuracy: 9756/10000 (97.560%)\n",
            "\n"
          ],
          "name": "stdout"
        },
        {
          "output_type": "stream",
          "text": [
            "loss=0.13556016981601715 batch_id=468: 100%|██████████| 469/469 [00:13<00:00, 34.52it/s]"
          ],
          "name": "stderr"
        },
        {
          "output_type": "stream",
          "text": [
            "\n",
            "\n",
            "Epoch 2 train loss: 0.001 train acc: 0.955\n"
          ],
          "name": "stdout"
        },
        {
          "output_type": "stream",
          "text": [
            "\n",
            "  0%|          | 0/469 [00:00<?, ?it/s]"
          ],
          "name": "stderr"
        },
        {
          "output_type": "stream",
          "text": [
            "\n",
            "Test set: Average loss: 0.0469, Accuracy: 9859/10000 (98.590%)\n",
            "\n"
          ],
          "name": "stdout"
        },
        {
          "output_type": "stream",
          "text": [
            "loss=0.06694044172763824 batch_id=468: 100%|██████████| 469/469 [00:12<00:00, 36.55it/s]"
          ],
          "name": "stderr"
        },
        {
          "output_type": "stream",
          "text": [
            "\n",
            "\n",
            "Epoch 3 train loss: 0.001 train acc: 0.968\n"
          ],
          "name": "stdout"
        },
        {
          "output_type": "stream",
          "text": [
            "\n",
            "  0%|          | 0/469 [00:00<?, ?it/s]"
          ],
          "name": "stderr"
        },
        {
          "output_type": "stream",
          "text": [
            "\n",
            "Test set: Average loss: 0.0390, Accuracy: 9881/10000 (98.810%)\n",
            "\n"
          ],
          "name": "stdout"
        },
        {
          "output_type": "stream",
          "text": [
            "loss=0.09219997376203537 batch_id=468: 100%|██████████| 469/469 [00:13<00:00, 34.69it/s]"
          ],
          "name": "stderr"
        },
        {
          "output_type": "stream",
          "text": [
            "\n",
            "\n",
            "Epoch 4 train loss: 0.001 train acc: 0.974\n"
          ],
          "name": "stdout"
        },
        {
          "output_type": "stream",
          "text": [
            "\n",
            "  0%|          | 0/469 [00:00<?, ?it/s]"
          ],
          "name": "stderr"
        },
        {
          "output_type": "stream",
          "text": [
            "\n",
            "Test set: Average loss: 0.0324, Accuracy: 9901/10000 (99.010%)\n",
            "\n"
          ],
          "name": "stdout"
        },
        {
          "output_type": "stream",
          "text": [
            "loss=0.012460912577807903 batch_id=468: 100%|██████████| 469/469 [00:13<00:00, 34.95it/s]"
          ],
          "name": "stderr"
        },
        {
          "output_type": "stream",
          "text": [
            "\n",
            "\n",
            "Epoch 5 train loss: 0.001 train acc: 0.976\n"
          ],
          "name": "stdout"
        },
        {
          "output_type": "stream",
          "text": [
            "\n",
            "  0%|          | 0/469 [00:00<?, ?it/s]"
          ],
          "name": "stderr"
        },
        {
          "output_type": "stream",
          "text": [
            "\n",
            "Test set: Average loss: 0.0280, Accuracy: 9909/10000 (99.090%)\n",
            "\n"
          ],
          "name": "stdout"
        },
        {
          "output_type": "stream",
          "text": [
            "loss=0.077095627784729 batch_id=468: 100%|██████████| 469/469 [00:13<00:00, 35.94it/s]"
          ],
          "name": "stderr"
        },
        {
          "output_type": "stream",
          "text": [
            "\n",
            "\n",
            "Epoch 6 train loss: 0.001 train acc: 0.980\n"
          ],
          "name": "stdout"
        },
        {
          "output_type": "stream",
          "text": [
            "\n",
            "  0%|          | 0/469 [00:00<?, ?it/s]"
          ],
          "name": "stderr"
        },
        {
          "output_type": "stream",
          "text": [
            "\n",
            "Test set: Average loss: 0.0268, Accuracy: 9919/10000 (99.190%)\n",
            "\n"
          ],
          "name": "stdout"
        },
        {
          "output_type": "stream",
          "text": [
            "loss=0.06668481230735779 batch_id=468: 100%|██████████| 469/469 [00:13<00:00, 35.45it/s]"
          ],
          "name": "stderr"
        },
        {
          "output_type": "stream",
          "text": [
            "\n",
            "\n",
            "Epoch 7 train loss: 0.001 train acc: 0.980\n"
          ],
          "name": "stdout"
        },
        {
          "output_type": "stream",
          "text": [
            "\n",
            "  0%|          | 0/469 [00:00<?, ?it/s]"
          ],
          "name": "stderr"
        },
        {
          "output_type": "stream",
          "text": [
            "\n",
            "Test set: Average loss: 0.0270, Accuracy: 9919/10000 (99.190%)\n",
            "\n"
          ],
          "name": "stdout"
        },
        {
          "output_type": "stream",
          "text": [
            "loss=0.02659674547612667 batch_id=468: 100%|██████████| 469/469 [00:12<00:00, 37.05it/s]"
          ],
          "name": "stderr"
        },
        {
          "output_type": "stream",
          "text": [
            "\n",
            "\n",
            "Epoch 8 train loss: 0.000 train acc: 0.982\n"
          ],
          "name": "stdout"
        },
        {
          "output_type": "stream",
          "text": [
            "\n",
            "  0%|          | 0/469 [00:00<?, ?it/s]"
          ],
          "name": "stderr"
        },
        {
          "output_type": "stream",
          "text": [
            "\n",
            "Test set: Average loss: 0.0249, Accuracy: 9917/10000 (99.170%)\n",
            "\n"
          ],
          "name": "stdout"
        },
        {
          "output_type": "stream",
          "text": [
            "loss=0.07021834701299667 batch_id=468: 100%|██████████| 469/469 [00:12<00:00, 37.39it/s]"
          ],
          "name": "stderr"
        },
        {
          "output_type": "stream",
          "text": [
            "\n",
            "\n",
            "Epoch 9 train loss: 0.000 train acc: 0.983\n"
          ],
          "name": "stdout"
        },
        {
          "output_type": "stream",
          "text": [
            "\n",
            "  0%|          | 0/469 [00:00<?, ?it/s]"
          ],
          "name": "stderr"
        },
        {
          "output_type": "stream",
          "text": [
            "\n",
            "Test set: Average loss: 0.0251, Accuracy: 9917/10000 (99.170%)\n",
            "\n"
          ],
          "name": "stdout"
        },
        {
          "output_type": "stream",
          "text": [
            "loss=0.06541549414396286 batch_id=468: 100%|██████████| 469/469 [00:12<00:00, 38.01it/s]"
          ],
          "name": "stderr"
        },
        {
          "output_type": "stream",
          "text": [
            "\n",
            "\n",
            "Epoch 10 train loss: 0.000 train acc: 0.984\n"
          ],
          "name": "stdout"
        },
        {
          "output_type": "stream",
          "text": [
            "\n",
            "  0%|          | 0/469 [00:00<?, ?it/s]"
          ],
          "name": "stderr"
        },
        {
          "output_type": "stream",
          "text": [
            "\n",
            "Test set: Average loss: 0.0235, Accuracy: 9931/10000 (99.310%)\n",
            "\n"
          ],
          "name": "stdout"
        },
        {
          "output_type": "stream",
          "text": [
            "loss=0.07821149379014969 batch_id=468: 100%|██████████| 469/469 [00:12<00:00, 37.32it/s]"
          ],
          "name": "stderr"
        },
        {
          "output_type": "stream",
          "text": [
            "\n",
            "\n",
            "Epoch 11 train loss: 0.000 train acc: 0.985\n"
          ],
          "name": "stdout"
        },
        {
          "output_type": "stream",
          "text": [
            "\n",
            "  0%|          | 0/469 [00:00<?, ?it/s]"
          ],
          "name": "stderr"
        },
        {
          "output_type": "stream",
          "text": [
            "\n",
            "Test set: Average loss: 0.0225, Accuracy: 9932/10000 (99.320%)\n",
            "\n"
          ],
          "name": "stdout"
        },
        {
          "output_type": "stream",
          "text": [
            "loss=0.07227066159248352 batch_id=468: 100%|██████████| 469/469 [00:12<00:00, 37.16it/s]"
          ],
          "name": "stderr"
        },
        {
          "output_type": "stream",
          "text": [
            "\n",
            "\n",
            "Epoch 12 train loss: 0.000 train acc: 0.985\n"
          ],
          "name": "stdout"
        },
        {
          "output_type": "stream",
          "text": [
            "\n",
            "  0%|          | 0/469 [00:00<?, ?it/s]"
          ],
          "name": "stderr"
        },
        {
          "output_type": "stream",
          "text": [
            "\n",
            "Test set: Average loss: 0.0228, Accuracy: 9934/10000 (99.340%)\n",
            "\n"
          ],
          "name": "stdout"
        },
        {
          "output_type": "stream",
          "text": [
            "loss=0.041638631373643875 batch_id=468: 100%|██████████| 469/469 [00:12<00:00, 37.64it/s]"
          ],
          "name": "stderr"
        },
        {
          "output_type": "stream",
          "text": [
            "\n",
            "\n",
            "Epoch 13 train loss: 0.000 train acc: 0.985\n"
          ],
          "name": "stdout"
        },
        {
          "output_type": "stream",
          "text": [
            "\n",
            "  0%|          | 0/469 [00:00<?, ?it/s]"
          ],
          "name": "stderr"
        },
        {
          "output_type": "stream",
          "text": [
            "\n",
            "Test set: Average loss: 0.0221, Accuracy: 9923/10000 (99.230%)\n",
            "\n"
          ],
          "name": "stdout"
        },
        {
          "output_type": "stream",
          "text": [
            "loss=0.04388527572154999 batch_id=468: 100%|██████████| 469/469 [00:12<00:00, 38.16it/s]"
          ],
          "name": "stderr"
        },
        {
          "output_type": "stream",
          "text": [
            "\n",
            "\n",
            "Epoch 14 train loss: 0.000 train acc: 0.987\n"
          ],
          "name": "stdout"
        },
        {
          "output_type": "stream",
          "text": [
            "\n",
            "  0%|          | 0/469 [00:00<?, ?it/s]"
          ],
          "name": "stderr"
        },
        {
          "output_type": "stream",
          "text": [
            "\n",
            "Test set: Average loss: 0.0197, Accuracy: 9940/10000 (99.400%)\n",
            "\n"
          ],
          "name": "stdout"
        },
        {
          "output_type": "stream",
          "text": [
            "loss=0.009769946336746216 batch_id=468: 100%|██████████| 469/469 [00:12<00:00, 37.24it/s]"
          ],
          "name": "stderr"
        },
        {
          "output_type": "stream",
          "text": [
            "\n",
            "\n",
            "Epoch 15 train loss: 0.000 train acc: 0.987\n"
          ],
          "name": "stdout"
        },
        {
          "output_type": "stream",
          "text": [
            "\n",
            "  0%|          | 0/469 [00:00<?, ?it/s]"
          ],
          "name": "stderr"
        },
        {
          "output_type": "stream",
          "text": [
            "\n",
            "Test set: Average loss: 0.0209, Accuracy: 9935/10000 (99.350%)\n",
            "\n"
          ],
          "name": "stdout"
        },
        {
          "output_type": "stream",
          "text": [
            "loss=0.039174918085336685 batch_id=468: 100%|██████████| 469/469 [00:12<00:00, 37.01it/s]"
          ],
          "name": "stderr"
        },
        {
          "output_type": "stream",
          "text": [
            "\n",
            "\n",
            "Epoch 16 train loss: 0.000 train acc: 0.988\n"
          ],
          "name": "stdout"
        },
        {
          "output_type": "stream",
          "text": [
            "\n",
            "  0%|          | 0/469 [00:00<?, ?it/s]"
          ],
          "name": "stderr"
        },
        {
          "output_type": "stream",
          "text": [
            "\n",
            "Test set: Average loss: 0.0218, Accuracy: 9932/10000 (99.320%)\n",
            "\n"
          ],
          "name": "stdout"
        },
        {
          "output_type": "stream",
          "text": [
            "loss=0.04437604919075966 batch_id=468: 100%|██████████| 469/469 [00:12<00:00, 36.61it/s]"
          ],
          "name": "stderr"
        },
        {
          "output_type": "stream",
          "text": [
            "\n",
            "\n",
            "Epoch 17 train loss: 0.000 train acc: 0.987\n"
          ],
          "name": "stdout"
        },
        {
          "output_type": "stream",
          "text": [
            "\n",
            "  0%|          | 0/469 [00:00<?, ?it/s]"
          ],
          "name": "stderr"
        },
        {
          "output_type": "stream",
          "text": [
            "\n",
            "Test set: Average loss: 0.0187, Accuracy: 9934/10000 (99.340%)\n",
            "\n"
          ],
          "name": "stdout"
        },
        {
          "output_type": "stream",
          "text": [
            "loss=0.1096213161945343 batch_id=468: 100%|██████████| 469/469 [00:12<00:00, 36.40it/s]"
          ],
          "name": "stderr"
        },
        {
          "output_type": "stream",
          "text": [
            "\n",
            "\n",
            "Epoch 18 train loss: 0.000 train acc: 0.988\n"
          ],
          "name": "stdout"
        },
        {
          "output_type": "stream",
          "text": [
            "\n",
            "  0%|          | 0/469 [00:00<?, ?it/s]"
          ],
          "name": "stderr"
        },
        {
          "output_type": "stream",
          "text": [
            "\n",
            "Test set: Average loss: 0.0188, Accuracy: 9935/10000 (99.350%)\n",
            "\n"
          ],
          "name": "stdout"
        },
        {
          "output_type": "stream",
          "text": [
            "loss=0.09015224128961563 batch_id=468: 100%|██████████| 469/469 [00:12<00:00, 36.28it/s]\n"
          ],
          "name": "stderr"
        },
        {
          "output_type": "stream",
          "text": [
            "\n",
            "\n",
            "Epoch 19 train loss: 0.000 train acc: 0.988\n"
          ],
          "name": "stdout"
        },
        {
          "output_type": "stream",
          "text": [
            "\r  0%|          | 0/469 [00:00<?, ?it/s]"
          ],
          "name": "stderr"
        },
        {
          "output_type": "stream",
          "text": [
            "\n",
            "Test set: Average loss: 0.0185, Accuracy: 9937/10000 (99.370%)\n",
            "\n"
          ],
          "name": "stdout"
        },
        {
          "output_type": "stream",
          "text": [
            "loss=0.03561832383275032 batch_id=468: 100%|██████████| 469/469 [00:13<00:00, 35.14it/s]\n"
          ],
          "name": "stderr"
        },
        {
          "output_type": "stream",
          "text": [
            "\n",
            "\n",
            "Epoch 20 train loss: 0.000 train acc: 0.989\n",
            "\n",
            "Test set: Average loss: 0.0169, Accuracy: 9944/10000 (99.440%)\n",
            "\n"
          ],
          "name": "stdout"
        }
      ]
    },
    {
      "cell_type": "code",
      "metadata": {
        "id": "0mBzSj7mcMnq",
        "colab_type": "code",
        "colab": {}
      },
      "source": [
        ""
      ],
      "execution_count": 0,
      "outputs": []
    }
  ]
}