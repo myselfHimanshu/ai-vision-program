{
  "nbformat": 4,
  "nbformat_minor": 0,
  "metadata": {
    "colab": {
      "name": "MNIST_model_03.ipynb",
      "provenance": [],
      "collapsed_sections": []
    },
    "kernelspec": {
      "name": "python3",
      "display_name": "Python 3"
    },
    "accelerator": "GPU"
  },
  "cells": [
    {
      "cell_type": "markdown",
      "metadata": {
        "id": "Q1TXNOvQ9Kaf",
        "colab_type": "text"
      },
      "source": [
        "# MNIST CNN model\n",
        "\n",
        "**Target to achieve** : 99.4% accuracy on test dataset."
      ]
    },
    {
      "cell_type": "code",
      "metadata": {
        "id": "aAq7Lvqqs4F5",
        "colab_type": "code",
        "colab": {}
      },
      "source": [
        "from google.colab import drive\n",
        "drive.mount('/content/drive')\n",
        "\n",
        "import os\n",
        "os.chdir(\"./drive/My Drive/EVA/Session04\")"
      ],
      "execution_count": 0,
      "outputs": []
    },
    {
      "cell_type": "markdown",
      "metadata": {
        "id": "7OTkpFgt9W06",
        "colab_type": "text"
      },
      "source": [
        "## Importing Libraries"
      ]
    },
    {
      "cell_type": "code",
      "metadata": {
        "id": "0m2JWFliFfKT",
        "colab_type": "code",
        "colab": {}
      },
      "source": [
        "from __future__ import print_function\n",
        "import torch\n",
        "import torch.nn as nn\n",
        "import torch.nn.functional as F\n",
        "import torch.optim as optim\n",
        "from torchvision import datasets, transforms\n",
        "\n",
        "from torchsummary import summary\n",
        "from tqdm import tqdm\n",
        "from torch.utils.tensorboard import SummaryWriter\n",
        "\n",
        "import numpy as np\n",
        "import matplotlib.pyplot as plt\n",
        "plt.rcParams['figure.figsize'] = (20,10)"
      ],
      "execution_count": 0,
      "outputs": []
    },
    {
      "cell_type": "markdown",
      "metadata": {
        "id": "RcV-OkCe9lP4",
        "colab_type": "text"
      },
      "source": [
        "## GPU for training"
      ]
    },
    {
      "cell_type": "code",
      "metadata": {
        "id": "50sHOdY39nRz",
        "colab_type": "code",
        "outputId": "75976395-f802-4043-e981-3b733488feb7",
        "colab": {
          "base_uri": "https://localhost:8080/",
          "height": 34
        }
      },
      "source": [
        "import tensorflow as tf\n",
        "\n",
        "device_name = tf.test.gpu_device_name()\n",
        "\n",
        "try:\n",
        "  print(f\"Found GPU at : {device_name}\")\n",
        "except:\n",
        "  print(\"GPU device not found.\")"
      ],
      "execution_count": 3,
      "outputs": [
        {
          "output_type": "stream",
          "text": [
            "Found GPU at : /device:GPU:0\n"
          ],
          "name": "stdout"
        }
      ]
    },
    {
      "cell_type": "code",
      "metadata": {
        "id": "v9GmRJ0a9osJ",
        "colab_type": "code",
        "outputId": "1f173904-201d-4ca9-a00b-8d9eb14f49f2",
        "colab": {
          "base_uri": "https://localhost:8080/",
          "height": 52
        }
      },
      "source": [
        "import torch\n",
        "\n",
        "if torch.cuda.is_available():\n",
        "  device = torch.device(\"cuda\")\n",
        "  use_cuda = True\n",
        "  print(f\"Number of GPU's available : {torch.cuda.device_count()}\")\n",
        "  print(f\"GPU device name : {torch.cuda.get_device_name(0)}\")\n",
        "else:\n",
        "  print(\"No GPU available, using CPU instead\")\n",
        "  device = torch.device(\"cpu\")\n",
        "  use_cuda = False"
      ],
      "execution_count": 4,
      "outputs": [
        {
          "output_type": "stream",
          "text": [
            "Number of GPU's available : 1\n",
            "GPU device name : Tesla P4\n"
          ],
          "name": "stdout"
        }
      ]
    },
    {
      "cell_type": "markdown",
      "metadata": {
        "id": "MHNNLPIB9wbU",
        "colab_type": "text"
      },
      "source": [
        "## Downloading MNIST dataset\n",
        "\n",
        "Things to keep in mind, \n",
        "- the dataset is provided by pytorch community.\n",
        "- MNIST dataset contains: \n",
        "  - 60,000 training images\n",
        "  - 10,000 test images \n",
        "  - Each image is of size (28x28x1).\n",
        "- The values 0.1307 and 0.3081 used for the Normalize() transformation below are the global mean and standard deviation for MNIST dataset."
      ]
    },
    {
      "cell_type": "code",
      "metadata": {
        "id": "Bp5eMbQ4-LUp",
        "colab_type": "code",
        "colab": {}
      },
      "source": [
        "batch_size = 128\n",
        "num_epochs = 20\n",
        "kernel_size = 3\n",
        "pool_size = 2\n",
        "\n",
        "lr = 0.01\n",
        "momentum = 0.9\n",
        "\n",
        "kwargs = {'num_workers': 1, 'pin_memory': True} if use_cuda else {}"
      ],
      "execution_count": 0,
      "outputs": []
    },
    {
      "cell_type": "code",
      "metadata": {
        "id": "EW3MUGF--hgi",
        "colab_type": "code",
        "colab": {}
      },
      "source": [
        "mnist_trainset = datasets.MNIST(root=\"./data\", train=True, download=True,\n",
        "                                transform=transforms.Compose([\n",
        "                                          transforms.ToTensor(),\n",
        "                                          transforms.Normalize((0.1307,), (0.3081,))\n",
        "                    ]))\n",
        "\n",
        "mnist_testset = datasets.MNIST(root=\"./data\", train=False, download=True,\n",
        "                               transform=transforms.Compose([\n",
        "                                          transforms.ToTensor(),\n",
        "                                          transforms.Normalize((0.1307,), (0.3081,))\n",
        "                    ]))"
      ],
      "execution_count": 0,
      "outputs": []
    },
    {
      "cell_type": "code",
      "metadata": {
        "id": "gkMoKQVc-oKS",
        "colab_type": "code",
        "colab": {}
      },
      "source": [
        "train_loader = torch.utils.data.DataLoader(mnist_trainset,\n",
        "                                          batch_size=batch_size, shuffle=True, **kwargs)\n",
        "\n",
        "test_loader = torch.utils.data.DataLoader(mnist_testset,\n",
        "                                          batch_size=batch_size, shuffle=True, **kwargs)"
      ],
      "execution_count": 0,
      "outputs": []
    },
    {
      "cell_type": "markdown",
      "metadata": {
        "id": "IjXRQ52I-17Z",
        "colab_type": "text"
      },
      "source": [
        "## Visualization of images"
      ]
    },
    {
      "cell_type": "code",
      "metadata": {
        "id": "NB81qRMu-6vr",
        "colab_type": "code",
        "colab": {}
      },
      "source": [
        "examples = enumerate(train_loader)\n",
        "batch_idx, (example_data, example_targets) = next(examples)"
      ],
      "execution_count": 0,
      "outputs": []
    },
    {
      "cell_type": "code",
      "metadata": {
        "id": "8M2XDWfz-76k",
        "colab_type": "code",
        "outputId": "b808a955-bc5f-46c3-94c2-0614cdb218e3",
        "colab": {
          "base_uri": "https://localhost:8080/",
          "height": 728
        }
      },
      "source": [
        "fig = plt.figure()\n",
        "for i in range(6):\n",
        "  plt.subplot(2,3,i+1)\n",
        "  plt.tight_layout()\n",
        "  plt.imshow(example_data[i][0], interpolation='none')\n",
        "  plt.title(f\"Ground Truth : {example_targets[i]}\")"
      ],
      "execution_count": 9,
      "outputs": [
        {
          "output_type": "display_data",
          "data": {
            "image/png": "[encoded data removed]",
            "text/plain": [
              "<Figure size 1440x720 with 6 Axes>"
            ]
          },
          "metadata": {
            "tags": [],
            "needs_background": "light"
          }
        }
      ]
    },
    {
      "cell_type": "markdown",
      "metadata": {
        "id": "BT8BOx7ejP3o",
        "colab_type": "text"
      },
      "source": [
        "## Defining training and testing functions"
      ]
    },
    {
      "cell_type": "code",
      "metadata": {
        "id": "L6_Zia8XjPKb",
        "colab_type": "code",
        "colab": {}
      },
      "source": [
        "from tqdm import tqdm\n",
        "\n",
        "def train(model, device, train_loader, optimizer, epoch):\n",
        "    running_loss = 0.0\n",
        "    running_correct = 0\n",
        "\n",
        "    model.train()\n",
        "    pbar = tqdm(train_loader)\n",
        "    for batch_idx, (data, target) in enumerate(pbar):\n",
        "        data, target = data.to(device), target.to(device)\n",
        "        optimizer.zero_grad()\n",
        "        output = model(data)\n",
        "        loss = F.nll_loss(output, target)\n",
        "        _, preds = torch.max(output.data, 1)\n",
        "        loss.backward()\n",
        "        optimizer.step()\n",
        "\n",
        "        #calculate training running loss\n",
        "        running_loss += loss.item()\n",
        "        running_correct += (preds == target).sum().item()\n",
        "        pbar.set_description(desc= f'loss={loss.item()} batch_id={batch_idx}')\n",
        "\n",
        "    print(\"\\n\")\n",
        "    print(f\"Epoch {epoch} train loss: {running_loss/len(mnist_trainset):.3f} train acc: {running_correct/len(mnist_trainset):.3f}\")\n",
        "\n",
        "def test(model, device, test_loader):\n",
        "    model.eval()\n",
        "    test_loss = 0\n",
        "    correct = 0\n",
        "    with torch.no_grad():\n",
        "        for data, target in test_loader:\n",
        "            data, target = data.to(device), target.to(device)\n",
        "            output = model(data)\n",
        "            test_loss += F.nll_loss(output, target, reduction='sum').item()  # sum up batch loss\n",
        "            pred = output.argmax(dim=1, keepdim=True)  # get the index of the max log-probability\n",
        "            correct += pred.eq(target.view_as(pred)).sum().item()\n",
        "\n",
        "    test_loss /= len(test_loader.dataset)\n",
        "\n",
        "    print('\\nTest set: Average loss: {:.4f}, Accuracy: {}/{} ({:.3f}%)\\n'.format(\n",
        "        test_loss, correct, len(test_loader.dataset),\n",
        "        100. * correct / len(test_loader.dataset)))"
      ],
      "execution_count": 0,
      "outputs": []
    },
    {
      "cell_type": "markdown",
      "metadata": {
        "id": "KIsxjleoivtO",
        "colab_type": "text"
      },
      "source": [
        "## Building the model"
      ]
    },
    {
      "cell_type": "code",
      "metadata": {
        "id": "ToQ0qtQSCzOT",
        "colab_type": "code",
        "colab": {}
      },
      "source": [
        "class Net(nn.Module):\n",
        "    def __init__(self):\n",
        "        super(Net, self).__init__()\n",
        "\n",
        "        self.drop = nn.Dropout2d(0.1)\n",
        "\n",
        "        self.conv1 = nn.Conv2d(1, 16, 3, padding=1)                    #(-1,28,28,3)>(-1,3,3,3,16)>(-1,28,28,16)\n",
        "        self.batchnorm1 = nn.BatchNorm2d(16)                           #(-1,28,28,16)\n",
        "        self.conv2 = nn.Conv2d(16, 16, 3, padding=1)                   #(-1,28,28,16)>(-1,3,3,16,16)>(-1,28,28,16)\n",
        "        self.batchnorm2 = nn.BatchNorm2d(16)                           #(-1,28,28,16)\n",
        "        \n",
        "        self.pool1 = nn.MaxPool2d(2, 2)                                #(-1,14,14,16)\n",
        "        \n",
        "        self.conv3 = nn.Conv2d(16, 16, 3, padding=1)                   #(-1,14,14,16)>(-1,3,3,16,16)>(-1,14,14,16)\n",
        "        self.batchnorm3 = nn.BatchNorm2d(16)                           #(-1,14,14,16)\n",
        "        self.conv4 = nn.Conv2d(16, 16, 3, padding=1)                   #(-1,14,14,16)>(-1,3,3,16,16)>(-1,14,14,16)\n",
        "        self.batchnorm4 = nn.BatchNorm2d(16)                           #(-1,14,14,16)\n",
        "        \n",
        "        self.pool2 = nn.MaxPool2d(2, 2)                                #(-1,7,7,16)\n",
        "        \n",
        "        self.conv5 = nn.Conv2d(16, 32, 3, padding=1)         #(-1,7,7,16)>(-1,3,3,16,32)>(-1,7,7,32)\n",
        "        self.batchnorm5 = nn.BatchNorm2d(32)        \n",
        "        self.conv6 = nn.Conv2d(32, 16, 3, padding=1)         #(-1,7,7,32)>(-1,3,3,32,16)>(-1,7,7,16)\n",
        "        self.batchnorm6 = nn.BatchNorm2d(16)\n",
        "        self.conv7 = nn.Conv2d(16, 10, 3)                              #(-1,7,7,16)>(-1,3,3,16,10)>(-1,5,5,10)\n",
        "        self.avgpool = nn.AvgPool2d(5)\n",
        "\n",
        "        \n",
        "    def forward(self, x):\n",
        "        x = F.relu(self.conv1(x))\n",
        "        x = self.drop(x)\n",
        "        x = self.batchnorm1(x)\n",
        "        x = F.relu(self.conv2(x))\n",
        "        x = self.drop(x)\n",
        "        x = self.batchnorm2(x)\n",
        "        \n",
        "        x = self.pool1(x)\n",
        "        \n",
        "        x = F.relu(self.conv3(x))\n",
        "        x = self.drop(x)\n",
        "        x = self.batchnorm3(x)\n",
        "        x = F.relu(self.conv4(x))\n",
        "        x = self.drop(x)\n",
        "        x = self.batchnorm4(x)\n",
        "        \n",
        "        x = self.pool2(x)\n",
        "        \n",
        "        x = F.relu(self.conv5(x))\n",
        "        x = self.drop(x)\n",
        "        x = self.batchnorm5(x)\n",
        "\n",
        "        x = F.relu(self.conv6(x))\n",
        "        x = self.drop(x)\n",
        "        x = self.batchnorm6(x)\n",
        "        \n",
        "        x = self.conv7(x)\n",
        "        x = self.avgpool(x)\n",
        "        x = x.view(-1, 10)\n",
        "        return F.log_softmax(x)"
      ],
      "execution_count": 0,
      "outputs": []
    },
    {
      "cell_type": "code",
      "metadata": {
        "id": "_QVewjwMZsxp",
        "colab_type": "code",
        "outputId": "ffd7038f-49c8-4eda-94e8-627255fb452f",
        "colab": {
          "base_uri": "https://localhost:8080/",
          "height": 676
        }
      },
      "source": [
        "model5 = Net().to(device)\n",
        "summary(model5, input_size=(1, 28, 28))"
      ],
      "execution_count": 12,
      "outputs": [
        {
          "output_type": "stream",
          "text": [
            "----------------------------------------------------------------\n",
            "        Layer (type)               Output Shape         Param #\n",
            "================================================================\n",
            "            Conv2d-1           [-1, 16, 28, 28]             160\n",
            "         Dropout2d-2           [-1, 16, 28, 28]               0\n",
            "       BatchNorm2d-3           [-1, 16, 28, 28]              32\n",
            "            Conv2d-4           [-1, 16, 28, 28]           2,320\n",
            "         Dropout2d-5           [-1, 16, 28, 28]               0\n",
            "       BatchNorm2d-6           [-1, 16, 28, 28]              32\n",
            "         MaxPool2d-7           [-1, 16, 14, 14]               0\n",
            "            Conv2d-8           [-1, 16, 14, 14]           2,320\n",
            "         Dropout2d-9           [-1, 16, 14, 14]               0\n",
            "      BatchNorm2d-10           [-1, 16, 14, 14]              32\n",
            "           Conv2d-11           [-1, 16, 14, 14]           2,320\n",
            "        Dropout2d-12           [-1, 16, 14, 14]               0\n",
            "      BatchNorm2d-13           [-1, 16, 14, 14]              32\n",
            "        MaxPool2d-14             [-1, 16, 7, 7]               0\n",
            "           Conv2d-15             [-1, 32, 7, 7]           4,640\n",
            "        Dropout2d-16             [-1, 32, 7, 7]               0\n",
            "      BatchNorm2d-17             [-1, 32, 7, 7]              64\n",
            "           Conv2d-18             [-1, 16, 7, 7]           4,624\n",
            "        Dropout2d-19             [-1, 16, 7, 7]               0\n",
            "      BatchNorm2d-20             [-1, 16, 7, 7]              32\n",
            "           Conv2d-21             [-1, 10, 5, 5]           1,450\n",
            "        AvgPool2d-22             [-1, 10, 1, 1]               0\n",
            "================================================================\n",
            "Total params: 18,058\n",
            "Trainable params: 18,058\n",
            "Non-trainable params: 0\n",
            "----------------------------------------------------------------\n",
            "Input size (MB): 0.00\n",
            "Forward/backward pass size (MB): 0.80\n",
            "Params size (MB): 0.07\n",
            "Estimated Total Size (MB): 0.88\n",
            "----------------------------------------------------------------\n"
          ],
          "name": "stdout"
        },
        {
          "output_type": "stream",
          "text": [
            "/usr/local/lib/python3.6/dist-packages/ipykernel_launcher.py:59: UserWarning: Implicit dimension choice for log_softmax has been deprecated. Change the call to include dim=X as an argument.\n"
          ],
          "name": "stderr"
        }
      ]
    },
    {
      "cell_type": "code",
      "metadata": {
        "id": "_p2cV0exZtZ1",
        "colab_type": "code",
        "outputId": "5e6a9814-1742-46e6-ccad-1c3de0e981e6",
        "colab": {
          "base_uri": "https://localhost:8080/",
          "height": 1000
        }
      },
      "source": [
        "# optimizer = optim.SGD(model5.parameters(), lr=lr, momentum=momentum)\n",
        "optimizer = optim.Adam(model5.parameters(), lr=0.001)#, momentum=momentum)\n",
        "\n",
        "\n",
        "for epoch in range(1, num_epochs+1):\n",
        "    train(model5, device, train_loader, optimizer, epoch)\n",
        "    test(model5, device, test_loader)"
      ],
      "execution_count": 13,
      "outputs": [
        {
          "output_type": "stream",
          "text": [
            "  0%|          | 0/469 [00:00<?, ?it/s]/usr/local/lib/python3.6/dist-packages/ipykernel_launcher.py:59: UserWarning: Implicit dimension choice for log_softmax has been deprecated. Change the call to include dim=X as an argument.\n",
            "loss=0.1550065279006958 batch_id=468: 100%|██████████| 469/469 [00:13<00:00, 33.69it/s]"
          ],
          "name": "stderr"
        },
        {
          "output_type": "stream",
          "text": [
            "\n",
            "\n",
            "Epoch 1 train loss: 0.005 train acc: 0.815\n"
          ],
          "name": "stdout"
        },
        {
          "output_type": "stream",
          "text": [
            "\n",
            "  0%|          | 0/469 [00:00<?, ?it/s]"
          ],
          "name": "stderr"
        },
        {
          "output_type": "stream",
          "text": [
            "\n",
            "Test set: Average loss: 0.0732, Accuracy: 9786/10000 (97.860%)\n",
            "\n"
          ],
          "name": "stdout"
        },
        {
          "output_type": "stream",
          "text": [
            "loss=0.06701108813285828 batch_id=468: 100%|██████████| 469/469 [00:13<00:00, 33.83it/s]"
          ],
          "name": "stderr"
        },
        {
          "output_type": "stream",
          "text": [
            "\n",
            "\n",
            "Epoch 2 train loss: 0.001 train acc: 0.958\n"
          ],
          "name": "stdout"
        },
        {
          "output_type": "stream",
          "text": [
            "\n",
            "  0%|          | 0/469 [00:00<?, ?it/s]"
          ],
          "name": "stderr"
        },
        {
          "output_type": "stream",
          "text": [
            "\n",
            "Test set: Average loss: 0.0434, Accuracy: 9876/10000 (98.760%)\n",
            "\n"
          ],
          "name": "stdout"
        },
        {
          "output_type": "stream",
          "text": [
            "loss=0.05193840339779854 batch_id=468: 100%|██████████| 469/469 [00:14<00:00, 32.86it/s]"
          ],
          "name": "stderr"
        },
        {
          "output_type": "stream",
          "text": [
            "\n",
            "\n",
            "Epoch 3 train loss: 0.001 train acc: 0.970\n"
          ],
          "name": "stdout"
        },
        {
          "output_type": "stream",
          "text": [
            "\n",
            "  0%|          | 0/469 [00:00<?, ?it/s]"
          ],
          "name": "stderr"
        },
        {
          "output_type": "stream",
          "text": [
            "\n",
            "Test set: Average loss: 0.0352, Accuracy: 9887/10000 (98.870%)\n",
            "\n"
          ],
          "name": "stdout"
        },
        {
          "output_type": "stream",
          "text": [
            "loss=0.029071465134620667 batch_id=468: 100%|██████████| 469/469 [00:14<00:00, 33.09it/s]"
          ],
          "name": "stderr"
        },
        {
          "output_type": "stream",
          "text": [
            "\n",
            "\n",
            "Epoch 4 train loss: 0.001 train acc: 0.974\n"
          ],
          "name": "stdout"
        },
        {
          "output_type": "stream",
          "text": [
            "\n",
            "  0%|          | 0/469 [00:00<?, ?it/s]"
          ],
          "name": "stderr"
        },
        {
          "output_type": "stream",
          "text": [
            "\n",
            "Test set: Average loss: 0.0300, Accuracy: 9911/10000 (99.110%)\n",
            "\n"
          ],
          "name": "stdout"
        },
        {
          "output_type": "stream",
          "text": [
            "loss=0.07895351946353912 batch_id=468: 100%|██████████| 469/469 [00:14<00:00, 33.20it/s]"
          ],
          "name": "stderr"
        },
        {
          "output_type": "stream",
          "text": [
            "\n",
            "\n",
            "Epoch 5 train loss: 0.001 train acc: 0.977\n"
          ],
          "name": "stdout"
        },
        {
          "output_type": "stream",
          "text": [
            "\n",
            "  0%|          | 0/469 [00:00<?, ?it/s]"
          ],
          "name": "stderr"
        },
        {
          "output_type": "stream",
          "text": [
            "\n",
            "Test set: Average loss: 0.0304, Accuracy: 9907/10000 (99.070%)\n",
            "\n"
          ],
          "name": "stdout"
        },
        {
          "output_type": "stream",
          "text": [
            "loss=0.12492018193006516 batch_id=468: 100%|██████████| 469/469 [00:14<00:00, 33.29it/s]"
          ],
          "name": "stderr"
        },
        {
          "output_type": "stream",
          "text": [
            "\n",
            "\n",
            "Epoch 6 train loss: 0.001 train acc: 0.980\n"
          ],
          "name": "stdout"
        },
        {
          "output_type": "stream",
          "text": [
            "\n",
            "  0%|          | 0/469 [00:00<?, ?it/s]"
          ],
          "name": "stderr"
        },
        {
          "output_type": "stream",
          "text": [
            "\n",
            "Test set: Average loss: 0.0256, Accuracy: 9917/10000 (99.170%)\n",
            "\n"
          ],
          "name": "stdout"
        },
        {
          "output_type": "stream",
          "text": [
            "loss=0.03270678594708443 batch_id=468: 100%|██████████| 469/469 [00:14<00:00, 33.12it/s]"
          ],
          "name": "stderr"
        },
        {
          "output_type": "stream",
          "text": [
            "\n",
            "\n",
            "Epoch 7 train loss: 0.000 train acc: 0.981\n"
          ],
          "name": "stdout"
        },
        {
          "output_type": "stream",
          "text": [
            "\n",
            "  0%|          | 0/469 [00:00<?, ?it/s]"
          ],
          "name": "stderr"
        },
        {
          "output_type": "stream",
          "text": [
            "\n",
            "Test set: Average loss: 0.0240, Accuracy: 9922/10000 (99.220%)\n",
            "\n"
          ],
          "name": "stdout"
        },
        {
          "output_type": "stream",
          "text": [
            "loss=0.051872044801712036 batch_id=468: 100%|██████████| 469/469 [00:13<00:00, 33.67it/s]"
          ],
          "name": "stderr"
        },
        {
          "output_type": "stream",
          "text": [
            "\n",
            "\n",
            "Epoch 8 train loss: 0.000 train acc: 0.983\n"
          ],
          "name": "stdout"
        },
        {
          "output_type": "stream",
          "text": [
            "\n",
            "  0%|          | 0/469 [00:00<?, ?it/s]"
          ],
          "name": "stderr"
        },
        {
          "output_type": "stream",
          "text": [
            "\n",
            "Test set: Average loss: 0.0249, Accuracy: 9930/10000 (99.300%)\n",
            "\n"
          ],
          "name": "stdout"
        },
        {
          "output_type": "stream",
          "text": [
            "loss=0.08878833800554276 batch_id=468: 100%|██████████| 469/469 [00:14<00:00, 33.23it/s]"
          ],
          "name": "stderr"
        },
        {
          "output_type": "stream",
          "text": [
            "\n",
            "\n",
            "Epoch 9 train loss: 0.000 train acc: 0.983\n"
          ],
          "name": "stdout"
        },
        {
          "output_type": "stream",
          "text": [
            "\n",
            "  0%|          | 0/469 [00:00<?, ?it/s]"
          ],
          "name": "stderr"
        },
        {
          "output_type": "stream",
          "text": [
            "\n",
            "Test set: Average loss: 0.0239, Accuracy: 9923/10000 (99.230%)\n",
            "\n"
          ],
          "name": "stdout"
        },
        {
          "output_type": "stream",
          "text": [
            "loss=0.03868883475661278 batch_id=468: 100%|██████████| 469/469 [00:14<00:00, 33.21it/s]"
          ],
          "name": "stderr"
        },
        {
          "output_type": "stream",
          "text": [
            "\n",
            "\n",
            "Epoch 10 train loss: 0.000 train acc: 0.985\n"
          ],
          "name": "stdout"
        },
        {
          "output_type": "stream",
          "text": [
            "\n",
            "  0%|          | 0/469 [00:00<?, ?it/s]"
          ],
          "name": "stderr"
        },
        {
          "output_type": "stream",
          "text": [
            "\n",
            "Test set: Average loss: 0.0229, Accuracy: 9933/10000 (99.330%)\n",
            "\n"
          ],
          "name": "stdout"
        },
        {
          "output_type": "stream",
          "text": [
            "loss=0.03068476915359497 batch_id=468: 100%|██████████| 469/469 [00:14<00:00, 33.35it/s]"
          ],
          "name": "stderr"
        },
        {
          "output_type": "stream",
          "text": [
            "\n",
            "\n",
            "Epoch 11 train loss: 0.000 train acc: 0.985\n"
          ],
          "name": "stdout"
        },
        {
          "output_type": "stream",
          "text": [
            "\n",
            "  0%|          | 0/469 [00:00<?, ?it/s]"
          ],
          "name": "stderr"
        },
        {
          "output_type": "stream",
          "text": [
            "\n",
            "Test set: Average loss: 0.0233, Accuracy: 9927/10000 (99.270%)\n",
            "\n"
          ],
          "name": "stdout"
        },
        {
          "output_type": "stream",
          "text": [
            "loss=0.02467452548444271 batch_id=468: 100%|██████████| 469/469 [00:14<00:00, 33.25it/s]"
          ],
          "name": "stderr"
        },
        {
          "output_type": "stream",
          "text": [
            "\n",
            "\n",
            "Epoch 12 train loss: 0.000 train acc: 0.987\n"
          ],
          "name": "stdout"
        },
        {
          "output_type": "stream",
          "text": [
            "\n",
            "  0%|          | 0/469 [00:00<?, ?it/s]"
          ],
          "name": "stderr"
        },
        {
          "output_type": "stream",
          "text": [
            "\n",
            "Test set: Average loss: 0.0203, Accuracy: 9933/10000 (99.330%)\n",
            "\n"
          ],
          "name": "stdout"
        },
        {
          "output_type": "stream",
          "text": [
            "loss=0.03199636563658714 batch_id=468: 100%|██████████| 469/469 [00:13<00:00, 33.61it/s]"
          ],
          "name": "stderr"
        },
        {
          "output_type": "stream",
          "text": [
            "\n",
            "\n",
            "Epoch 13 train loss: 0.000 train acc: 0.987\n"
          ],
          "name": "stdout"
        },
        {
          "output_type": "stream",
          "text": [
            "\n",
            "  0%|          | 0/469 [00:00<?, ?it/s]"
          ],
          "name": "stderr"
        },
        {
          "output_type": "stream",
          "text": [
            "\n",
            "Test set: Average loss: 0.0244, Accuracy: 9923/10000 (99.230%)\n",
            "\n"
          ],
          "name": "stdout"
        },
        {
          "output_type": "stream",
          "text": [
            "loss=0.006747444625943899 batch_id=468: 100%|██████████| 469/469 [00:14<00:00, 32.97it/s]"
          ],
          "name": "stderr"
        },
        {
          "output_type": "stream",
          "text": [
            "\n",
            "\n",
            "Epoch 14 train loss: 0.000 train acc: 0.987\n"
          ],
          "name": "stdout"
        },
        {
          "output_type": "stream",
          "text": [
            "\n",
            "  0%|          | 0/469 [00:00<?, ?it/s]"
          ],
          "name": "stderr"
        },
        {
          "output_type": "stream",
          "text": [
            "\n",
            "Test set: Average loss: 0.0191, Accuracy: 9933/10000 (99.330%)\n",
            "\n"
          ],
          "name": "stdout"
        },
        {
          "output_type": "stream",
          "text": [
            "loss=0.029141688719391823 batch_id=468: 100%|██████████| 469/469 [00:14<00:00, 33.13it/s]"
          ],
          "name": "stderr"
        },
        {
          "output_type": "stream",
          "text": [
            "\n",
            "\n",
            "Epoch 15 train loss: 0.000 train acc: 0.987\n"
          ],
          "name": "stdout"
        },
        {
          "output_type": "stream",
          "text": [
            "\n",
            "  0%|          | 0/469 [00:00<?, ?it/s]"
          ],
          "name": "stderr"
        },
        {
          "output_type": "stream",
          "text": [
            "\n",
            "Test set: Average loss: 0.0196, Accuracy: 9933/10000 (99.330%)\n",
            "\n"
          ],
          "name": "stdout"
        },
        {
          "output_type": "stream",
          "text": [
            "loss=0.04017089307308197 batch_id=468: 100%|██████████| 469/469 [00:14<00:00, 32.81it/s]"
          ],
          "name": "stderr"
        },
        {
          "output_type": "stream",
          "text": [
            "\n",
            "\n",
            "Epoch 16 train loss: 0.000 train acc: 0.987\n"
          ],
          "name": "stdout"
        },
        {
          "output_type": "stream",
          "text": [
            "\n",
            "  0%|          | 0/469 [00:00<?, ?it/s]"
          ],
          "name": "stderr"
        },
        {
          "output_type": "stream",
          "text": [
            "\n",
            "Test set: Average loss: 0.0198, Accuracy: 9941/10000 (99.410%)\n",
            "\n"
          ],
          "name": "stdout"
        },
        {
          "output_type": "stream",
          "text": [
            "loss=0.027224203571677208 batch_id=468: 100%|██████████| 469/469 [00:14<00:00, 32.56it/s]"
          ],
          "name": "stderr"
        },
        {
          "output_type": "stream",
          "text": [
            "\n",
            "\n",
            "Epoch 17 train loss: 0.000 train acc: 0.988\n"
          ],
          "name": "stdout"
        },
        {
          "output_type": "stream",
          "text": [
            "\n",
            "  0%|          | 0/469 [00:00<?, ?it/s]"
          ],
          "name": "stderr"
        },
        {
          "output_type": "stream",
          "text": [
            "\n",
            "Test set: Average loss: 0.0171, Accuracy: 9946/10000 (99.460%)\n",
            "\n"
          ],
          "name": "stdout"
        },
        {
          "output_type": "stream",
          "text": [
            "loss=0.025387758389115334 batch_id=468: 100%|██████████| 469/469 [00:14<00:00, 33.12it/s]"
          ],
          "name": "stderr"
        },
        {
          "output_type": "stream",
          "text": [
            "\n",
            "\n",
            "Epoch 18 train loss: 0.000 train acc: 0.989\n"
          ],
          "name": "stdout"
        },
        {
          "output_type": "stream",
          "text": [
            "\n",
            "  0%|          | 0/469 [00:00<?, ?it/s]"
          ],
          "name": "stderr"
        },
        {
          "output_type": "stream",
          "text": [
            "\n",
            "Test set: Average loss: 0.0190, Accuracy: 9936/10000 (99.360%)\n",
            "\n"
          ],
          "name": "stdout"
        },
        {
          "output_type": "stream",
          "text": [
            "loss=0.03165528178215027 batch_id=468: 100%|██████████| 469/469 [00:14<00:00, 32.03it/s]"
          ],
          "name": "stderr"
        },
        {
          "output_type": "stream",
          "text": [
            "\n",
            "\n",
            "Epoch 19 train loss: 0.000 train acc: 0.989\n"
          ],
          "name": "stdout"
        },
        {
          "output_type": "stream",
          "text": [
            "\n",
            "  0%|          | 0/469 [00:00<?, ?it/s]"
          ],
          "name": "stderr"
        },
        {
          "output_type": "stream",
          "text": [
            "\n",
            "Test set: Average loss: 0.0228, Accuracy: 9921/10000 (99.210%)\n",
            "\n"
          ],
          "name": "stdout"
        },
        {
          "output_type": "stream",
          "text": [
            "loss=0.018820514902472496 batch_id=468: 100%|██████████| 469/469 [00:14<00:00, 32.26it/s]"
          ],
          "name": "stderr"
        },
        {
          "output_type": "stream",
          "text": [
            "\n",
            "\n",
            "Epoch 20 train loss: 0.000 train acc: 0.989\n"
          ],
          "name": "stdout"
        },
        {
          "output_type": "stream",
          "text": [
            "\n"
          ],
          "name": "stderr"
        },
        {
          "output_type": "stream",
          "text": [
            "\n",
            "Test set: Average loss: 0.0188, Accuracy: 9938/10000 (99.380%)\n",
            "\n"
          ],
          "name": "stdout"
        }
      ]
    },
    {
      "cell_type": "code",
      "metadata": {
        "id": "0mBzSj7mcMnq",
        "colab_type": "code",
        "colab": {}
      },
      "source": [
        ""
      ],
      "execution_count": 0,
      "outputs": []
    }
  ]
}