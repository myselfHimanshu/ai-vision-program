{
 "cells": [
  {
   "cell_type": "code",
   "execution_count": 1,
   "metadata": {},
   "outputs": [],
   "source": [
    "import numpy as np\n",
    "import matplotlib.pyplot as plt\n",
    "\n",
    "%matplotlib inline"
   ]
  },
  {
   "cell_type": "code",
   "execution_count": 2,
   "metadata": {},
   "outputs": [],
   "source": [
    "max_ = 1\n",
    "min_ = 0\n",
    "\n",
    "cycle = 3\n",
    "step_size = 100 \n",
    "\n",
    "x = []\n",
    "y = []\n",
    "\n",
    "for i in range(0,cycle*2+1):\n",
    "  if i==0:\n",
    "    x.append(min_)  \n",
    "  else:\n",
    "    x.append(x[-1] + step_size)\n",
    "\n",
    "  if i%2==0:\n",
    "    y.append(min_)\n",
    "  else:\n",
    "    y.append(max_)"
   ]
  },
  {
   "cell_type": "code",
   "execution_count": 3,
   "metadata": {},
   "outputs": [
    {
     "output_type": "display_data",
     "data": {
      "text/plain": "<Figure size 432x288 with 1 Axes>",
      "image/svg+xml": "<?xml version=\"1.0\" encoding=\"utf-8\" standalone=\"no\"?>\n<!DOCTYPE svg PUBLIC \"-//W3C//DTD SVG 1.1//EN\"\n  \"http://www.w3.org/Graphics/SVG/1.1/DTD/svg11.dtd\">\n<!-- Created with matplotlib (https://matplotlib.org/) -->\n<svg height=\"231.84pt\" version=\"1.1\" viewBox=\"0 0 349.2 231.84\" width=\"349.2pt\" xmlns=\"http://www.w3.org/2000/svg\" xmlns:xlink=\"http://www.w3.org/1999/xlink\">\n <defs>\n  <style type=\"text/css\">\n*{stroke-linecap:butt;stroke-linejoin:round;}\n  </style>\n </defs>\n <g id=\"figure_1\">\n  <g id=\"patch_1\">\n   <path d=\"M 0 231.84 \nL 349.2 231.84 \nL 349.2 0 \nL 0 0 \nz\n\" style=\"fill:none;\"/>\n  </g>\n  <g id=\"axes_1\">\n   <g id=\"line2d_1\">\n    <path clip-path=\"url(#pa86a9975d4)\" d=\"M 22.418182 214.756364 \nL 73.145455 17.083636 \n\" style=\"fill:none;stroke:#ff0000;stroke-linecap:square;stroke-width:1.5;\"/>\n    <defs>\n     <path d=\"M 0 3 \nC 0.795609 3 1.55874 2.683901 2.12132 2.12132 \nC 2.683901 1.55874 3 0.795609 3 0 \nC 3 -0.795609 2.683901 -1.55874 2.12132 -2.12132 \nC 1.55874 -2.683901 0.795609 -3 0 -3 \nC -0.795609 -3 -1.55874 -2.683901 -2.12132 -2.12132 \nC -2.683901 -1.55874 -3 -0.795609 -3 0 \nC -3 0.795609 -2.683901 1.55874 -2.12132 2.12132 \nC -1.55874 2.683901 -0.795609 3 0 3 \nz\n\" id=\"m2ee07b999c\" style=\"stroke:#ff0000;\"/>\n    </defs>\n    <g clip-path=\"url(#pa86a9975d4)\">\n     <use style=\"fill:#ff0000;stroke:#ff0000;\" x=\"22.418182\" xlink:href=\"#m2ee07b999c\" y=\"214.756364\"/>\n     <use style=\"fill:#ff0000;stroke:#ff0000;\" x=\"73.145455\" xlink:href=\"#m2ee07b999c\" y=\"17.083636\"/>\n    </g>\n   </g>\n   <g id=\"line2d_2\">\n    <path clip-path=\"url(#pa86a9975d4)\" d=\"M 73.145455 17.083636 \nL 123.872727 214.756364 \n\" style=\"fill:none;stroke:#ff0000;stroke-linecap:square;stroke-width:1.5;\"/>\n    <g clip-path=\"url(#pa86a9975d4)\">\n     <use style=\"fill:#ff0000;stroke:#ff0000;\" x=\"73.145455\" xlink:href=\"#m2ee07b999c\" y=\"17.083636\"/>\n     <use style=\"fill:#ff0000;stroke:#ff0000;\" x=\"123.872727\" xlink:href=\"#m2ee07b999c\" y=\"214.756364\"/>\n    </g>\n   </g>\n   <g id=\"line2d_3\">\n    <path clip-path=\"url(#pa86a9975d4)\" d=\"M 123.872727 214.756364 \nL 174.6 17.083636 \n\" style=\"fill:none;stroke:#ff0000;stroke-linecap:square;stroke-width:1.5;\"/>\n    <g clip-path=\"url(#pa86a9975d4)\">\n     <use style=\"fill:#ff0000;stroke:#ff0000;\" x=\"123.872727\" xlink:href=\"#m2ee07b999c\" y=\"214.756364\"/>\n     <use style=\"fill:#ff0000;stroke:#ff0000;\" x=\"174.6\" xlink:href=\"#m2ee07b999c\" y=\"17.083636\"/>\n    </g>\n   </g>\n   <g id=\"line2d_4\">\n    <path clip-path=\"url(#pa86a9975d4)\" d=\"M 174.6 17.083636 \nL 225.327273 214.756364 \n\" style=\"fill:none;stroke:#ff0000;stroke-linecap:square;stroke-width:1.5;\"/>\n    <g clip-path=\"url(#pa86a9975d4)\">\n     <use style=\"fill:#ff0000;stroke:#ff0000;\" x=\"174.6\" xlink:href=\"#m2ee07b999c\" y=\"17.083636\"/>\n     <use style=\"fill:#ff0000;stroke:#ff0000;\" x=\"225.327273\" xlink:href=\"#m2ee07b999c\" y=\"214.756364\"/>\n    </g>\n   </g>\n   <g id=\"line2d_5\">\n    <path clip-path=\"url(#pa86a9975d4)\" d=\"M 225.327273 214.756364 \nL 276.054545 17.083636 \n\" style=\"fill:none;stroke:#ff0000;stroke-linecap:square;stroke-width:1.5;\"/>\n    <g clip-path=\"url(#pa86a9975d4)\">\n     <use style=\"fill:#ff0000;stroke:#ff0000;\" x=\"225.327273\" xlink:href=\"#m2ee07b999c\" y=\"214.756364\"/>\n     <use style=\"fill:#ff0000;stroke:#ff0000;\" x=\"276.054545\" xlink:href=\"#m2ee07b999c\" y=\"17.083636\"/>\n    </g>\n   </g>\n   <g id=\"line2d_6\">\n    <path clip-path=\"url(#pa86a9975d4)\" d=\"M 276.054545 17.083636 \nL 326.781818 214.756364 \n\" style=\"fill:none;stroke:#ff0000;stroke-linecap:square;stroke-width:1.5;\"/>\n    <g clip-path=\"url(#pa86a9975d4)\">\n     <use style=\"fill:#ff0000;stroke:#ff0000;\" x=\"276.054545\" xlink:href=\"#m2ee07b999c\" y=\"17.083636\"/>\n     <use style=\"fill:#ff0000;stroke:#ff0000;\" x=\"326.781818\" xlink:href=\"#m2ee07b999c\" y=\"214.756364\"/>\n    </g>\n   </g>\n   <g id=\"line2d_7\">\n    <path clip-path=\"url(#pa86a9975d4)\" d=\"M 326.781818 214.756364 \n\" style=\"fill:none;stroke:#ff0000;stroke-linecap:square;stroke-width:1.5;\"/>\n    <g clip-path=\"url(#pa86a9975d4)\">\n     <use style=\"fill:#ff0000;stroke:#ff0000;\" x=\"326.781818\" xlink:href=\"#m2ee07b999c\" y=\"214.756364\"/>\n    </g>\n   </g>\n  </g>\n </g>\n <defs>\n  <clipPath id=\"pa86a9975d4\">\n   <rect height=\"217.44\" width=\"334.8\" x=\"7.2\" y=\"7.2\"/>\n  </clipPath>\n </defs>\n</svg>\n",
      "image/png": "[encoded data removed]"
     },
     "metadata": {
      "needs_background": "light"
     }
    }
   ],
   "source": [
    "for i in range(0, len(x)):\n",
    "    plt.plot(x[i:i+2], y[i:i+2], 'ro-')\n",
    "\n",
    "plt.axis(\"off\")\n",
    "plt.savefig(\"./zigzag_curve.png\")\n",
    "plt.show()"
   ]
  },
  {
   "cell_type": "code",
   "execution_count": null,
   "metadata": {},
   "outputs": [],
   "source": []
  }
 ],
 "metadata": {
  "language_info": {
   "codemirror_mode": {
    "name": "ipython",
    "version": 3
   },
   "file_extension": ".py",
   "mimetype": "text/x-python",
   "name": "python",
   "nbconvert_exporter": "python",
   "pygments_lexer": "ipython3",
   "version": "3.6.10-final"
  },
  "orig_nbformat": 2,
  "kernelspec": {
   "name": "python361064bitevaconda4865876896c141e6b904fd1bbc506a5c",
   "display_name": "Python 3.6.10 64-bit ('eva': conda)"
  }
 },
 "nbformat": 4,
 "nbformat_minor": 2
}